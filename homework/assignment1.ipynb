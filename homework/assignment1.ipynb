{
 "cells": [
  {
   "attachments": {},
   "cell_type": "markdown",
   "metadata": {},
   "source": [
    "# Assignment 1"
   ]
  },
  {
   "cell_type": "code",
   "execution_count": 1,
   "metadata": {},
   "outputs": [],
   "source": [
    "import numpy as np\n",
    "import pennylane as qml"
   ]
  },
  {
   "attachments": {},
   "cell_type": "markdown",
   "metadata": {},
   "source": [
    "## 1.2"
   ]
  },
  {
   "cell_type": "code",
   "execution_count": 2,
   "metadata": {},
   "outputs": [],
   "source": [
    "def prepare_state(theta, phi):\n",
    "    \"\"\"Quantum function to prepare states of the form\n",
    "        cos(\\theta/2) |0> + e^(i\\phi) sin(\\theta/2) |1>.\n",
    "\n",
    "    In principle, this function would be hidden, with no knowledge of theta/phi,\n",
    "    in order to prepare a truly random state. It is provided here just for\n",
    "    expository purposes.\n",
    "    \"\"\"\n",
    "    qml.RY(theta, wires=0)\n",
    "    qml.RZ(phi, wires=0)"
   ]
  },
  {
   "cell_type": "code",
   "execution_count": 20,
   "metadata": {},
   "outputs": [],
   "source": [
    "def extract_bloch_vector(theta, phi):\n",
    "    \"\"\"Given a set of angular parameters representing the quantum state\n",
    "        cos(\\theta/2) |0> + e^(i\\phi) sin(\\theta/2) |1>,\n",
    "    compute the Bloch vector associated to this state.\n",
    "\n",
    "    The Bloch vector has three real-valued elements representing the position of\n",
    "    the quantum state in the 3-dimensional space of the Bloch sphere. It can\n",
    "    be computed by measuring a cleverly-chosen set of expectation values.\n",
    "\n",
    "    Args:\n",
    "        theta (float): Angular parameter of the states.\n",
    "        phi (float): Phase parameter of the state.\n",
    "\n",
    "    Returns:\n",
    "        bloch_vector (array[float, float, float]): A NumPy array representing the\n",
    "        3-element Bloch vector.\n",
    "    \"\"\"\n",
    "    # Note here that we use an analytic device so that we get exact results\n",
    "    dev = qml.device(\"default.qubit\", wires=1)\n",
    "\n",
    "    # YOUR CODE HERE\n",
    "    # Use theta, phi *only* as arguments to prepare_state\n",
    "    @qml.qnode(dev)\n",
    "    def circuit():\n",
    "        prepare_state(theta, phi)\n",
    "        return np.array([qml.expval(qml.PauliX(0)), qml.expval(qml.PauliY(0)), qml.expval(qml.PauliZ(0))])\n",
    "    \n",
    "    return circuit()"
   ]
  },
  {
   "cell_type": "code",
   "execution_count": 22,
   "metadata": {},
   "outputs": [
    {
     "name": "stdout",
     "output_type": "stream",
     "text": [
      "[ 0.  0. -1.]\n"
     ]
    }
   ],
   "source": [
    "print(extract_bloch_vector(np.pi, 0))"
   ]
  },
  {
   "attachments": {},
   "cell_type": "markdown",
   "metadata": {},
   "source": [
    "## 1.3"
   ]
  },
  {
   "cell_type": "code",
   "execution_count": 78,
   "metadata": {},
   "outputs": [],
   "source": [
    "def part_a():\n",
    "    \"\"\"Write a quantum circuit that computes the Boolean function\n",
    "        f(a, b, c, d) = ab + cd\n",
    "    where the + here represents the XOR operation.\n",
    "\n",
    "    The first four qubits of your circuit should correspond to the\n",
    "    input variables, a, b, c, d, in that order. The last qubit of your\n",
    "    circuit should correspond to the output. If you use an auxiliary wires\n",
    "    in your circuit, these should be uncomputed, like so:\n",
    "          _______\n",
    "     a ---|  C  |--- a\n",
    "     b ---|  I  |--- b\n",
    "     c ---|  R  |--- c\n",
    "     d ---|  C  |--- d\n",
    "     0 ---|     |--- 0 # Optional aux. wires\n",
    "     0 ---|     |--- 0\n",
    "          ...\n",
    "     0 ---=======--- ab + cd\n",
    "\n",
    "    \"\"\"\n",
    "\n",
    "    # You can change this to as many wires as you need\n",
    "    num_wires = 7\n",
    "\n",
    "    # Do not change the number of shots on the device\n",
    "    dev = qml.device(\"default.qubit\", wires=num_wires, shots=1)\n",
    "\n",
    "    @qml.qnode(dev)\n",
    "    def my_circuit(a, b, c, d):\n",
    "        \"\"\" Args:\n",
    "                a, b, c, d (int): The input variables, either 0 or 1.\n",
    "\n",
    "            Returns:\n",
    "                array[int]: A single sample of the output of your circuit.\n",
    "        \"\"\"\n",
    "        \n",
    "        # YOUR CODE HERE\n",
    "        # Apply some quantum gates\n",
    "        # Don't forget to initialize the first 4 wires based on a, b, c, d\n",
    "        if a:\n",
    "            qml.PauliX(wires=0)\n",
    "        if b:\n",
    "            qml.PauliX(wires=1)\n",
    "        if c:\n",
    "            qml.PauliX(wires=2)\n",
    "        if d:\n",
    "            qml.PauliX(wires=3)\n",
    "            \n",
    "        qml.Toffoli(wires=[0,1,4])\n",
    "        qml.Toffoli(wires=[2,3,6])\n",
    "        qml.CNOT(wires=[4,6])\n",
    "        qml.Toffoli(wires=[0,1,4])\n",
    "\n",
    "        return qml.sample()\n",
    "\n",
    "    return my_circuit\n"
   ]
  },
  {
   "cell_type": "code",
   "execution_count": 79,
   "metadata": {},
   "outputs": [
    {
     "name": "stdout",
     "output_type": "stream",
     "text": [
      "[1 1 1 0 0 0 1]\n"
     ]
    }
   ],
   "source": [
    "print(part_a()(1,1,1,0))"
   ]
  },
  {
   "cell_type": "code",
   "execution_count": 150,
   "metadata": {},
   "outputs": [],
   "source": [
    "def part_b():\n",
    "    \"\"\"Write a quantum circuit that computes the Boolean function\n",
    "        f(a, b, c) = NOT(a) * b * c\n",
    "    where the * here represents the AND operation.\n",
    "\n",
    "    The first three qubits of your circuit should correspond to the\n",
    "    input variables, a, b, c, in that order. The last qubit of your\n",
    "    circuit should correspond to the output. If you use an auxiliary wires\n",
    "    in your circuit, these should be uncomputed.\n",
    "\n",
    "          _______\n",
    "     a ---|  C  |--- a\n",
    "     b ---|  I  |--- b\n",
    "     c ---|  R  |--- c\n",
    "     0 ---|  C  |--- 0 # Optional aux. wires\n",
    "     0 ---|     |--- 0\n",
    "            ...\n",
    "     0 ---=======--- NOT(a) * b * c\n",
    "\n",
    "    \"\"\"\n",
    "\n",
    "    # You can change this to as many wires as you need\n",
    "    num_wires = 6\n",
    "\n",
    "    # Do not change the number of shots on the device\n",
    "    dev = qml.device(\"default.qubit\", wires=num_wires, shots=1)\n",
    "\n",
    "    @qml.qnode(dev)\n",
    "    def my_circuit(a, b, c):\n",
    "        \"\"\" Args:\n",
    "                a, b, c (int): The input variables, either 0 or 1.\n",
    "\n",
    "            Returns:\n",
    "                array[int]: A single sample of the output of your circuit.\n",
    "        \"\"\"\n",
    "        \n",
    "        # YOUR CODE HERE\n",
    "        # Apply some quantum gates\n",
    "        if a:\n",
    "            qml.PauliX(wires=0)\n",
    "        if b:\n",
    "            qml.PauliX(wires=1)\n",
    "        if c:\n",
    "            qml.PauliX(wires=2)\n",
    "            \n",
    "        qml.PauliX(wires=3)\n",
    "        qml.CNOT(wires=[0,3])\n",
    "        qml.Toffoli(wires=[1,2,4])\n",
    "        qml.Toffoli(wires=[3,4,5])\n",
    "        qml.Toffoli(wires=[1,2,4])\n",
    "        qml.CNOT(wires=[0,3])\n",
    "        qml.PauliX(wires=3)\n",
    "        \n",
    "        return qml.sample(wires=[0,1,2,5])\n",
    "\n",
    "    return my_circuit"
   ]
  },
  {
   "cell_type": "code",
   "execution_count": 151,
   "metadata": {},
   "outputs": [
    {
     "name": "stdout",
     "output_type": "stream",
     "text": [
      "[0 1 1 1 1 1]\n"
     ]
    }
   ],
   "source": [
    "print(part_b()(0,1,1))"
   ]
  },
  {
   "cell_type": "code",
   "execution_count": 158,
   "metadata": {},
   "outputs": [],
   "source": [
    "\n",
    "def part_c():\n",
    "    \"\"\"Write a quantum circuit that computes the Boolean function\n",
    "        f(a, b, c) = a + a * NOT(b) + NOT(a * b * c)\n",
    "    where the * here represents the AND operation, and + the XOR.\n",
    "\n",
    "    The first three qubits of your circuit should correspond to the\n",
    "    input variables, a, b, c, in that order. The last qubit of your\n",
    "    circuit should correspond to the output. If you use an auxiliary wires\n",
    "    in your circuit, these should be uncomputed.\n",
    "          _______\n",
    "     a ---|  C  |--- a\n",
    "     b ---|  I  |--- b\n",
    "     c ---|  R  |--- c\n",
    "     0 ---|  C  |--- 0 # Optional aux. wires\n",
    "     0 ---|     | 0\n",
    "            ...\n",
    "     0 ---=======---- a + a * NOT(b) + NOT(a * b * c)\n",
    "\n",
    "    \"\"\"\n",
    "\n",
    "    # You can change this to as many wires as you need\n",
    "    num_wires = 6\n",
    "\n",
    "    # Do not change the number of shots on the device\n",
    "    dev = qml.device(\"default.qubit\", wires=num_wires, shots=1)\n",
    "\n",
    "    @qml.qnode(dev)\n",
    "    def my_circuit(a, b, c):\n",
    "        \"\"\" Args:\n",
    "                a, b, c (int): The input variables, either 0 or 1.\n",
    "\n",
    "            Returns:\n",
    "                array[int]: A single sample of the output of your circuit.\n",
    "        \"\"\"\n",
    "        \n",
    "        # YOUR CODE HERE\n",
    "        # Apply some quantum gates\n",
    "        if a:\n",
    "            qml.PauliX(wires=0)\n",
    "        if b:\n",
    "            qml.PauliX(wires=1)\n",
    "        if c:\n",
    "            qml.PauliX(wires=2)\n",
    "            \n",
    "        qml.PauliX(wires=1)\n",
    "        qml.Toffoli(wires=[0,1,3])\n",
    "        qml.PauliX(wires=1)\n",
    "        qml.CNOT(wires=[0,3]) # a + a*NOT(b)\n",
    "        \n",
    "        qml.Toffoli(wires=[0,1,5])\n",
    "        qml.Toffoli(wires=[2,5,4])\n",
    "        qml.Toffoli(wires=[0,1,5])\n",
    "        qml.PauliX(wires=4) # NOT(a*b*c)\n",
    "        \n",
    "        qml.CNOT(wires=[3,4])\n",
    "        qml.CNOT(wires=[0,3])\n",
    "        \n",
    "        return qml.sample(wires=[0,1,2,3,4])\n",
    "\n",
    "    return my_circuit"
   ]
  },
  {
   "cell_type": "code",
   "execution_count": 168,
   "metadata": {},
   "outputs": [
    {
     "name": "stdout",
     "output_type": "stream",
     "text": [
      "[1 1 0 0 0]\n",
      "False True False\n"
     ]
    }
   ],
   "source": [
    "#f(a, b, c) = a + a * NOT(b) + NOT(a * b * c)\n",
    "a,b,c = 1,1,0\n",
    "print(part_c()(a,b,c))\n",
    "x = a and not b\n",
    "y = not (a and b and c)\n",
    "xor = (a and not x) or (not a and x)\n",
    "xor = xor != y\n",
    "print(x,y,xor)"
   ]
  },
  {
   "cell_type": "code",
   "execution_count": null,
   "metadata": {},
   "outputs": [],
   "source": []
  },
  {
   "cell_type": "code",
   "execution_count": null,
   "metadata": {},
   "outputs": [],
   "source": []
  }
 ],
 "metadata": {
  "kernelspec": {
   "display_name": "Python 3.8.10 64-bit (microsoft store)",
   "language": "python",
   "name": "python3"
  },
  "language_info": {
   "codemirror_mode": {
    "name": "ipython",
    "version": 3
   },
   "file_extension": ".py",
   "mimetype": "text/x-python",
   "name": "python",
   "nbconvert_exporter": "python",
   "pygments_lexer": "ipython3",
   "version": "3.8.10"
  },
  "vscode": {
   "interpreter": {
    "hash": "58aeaac2be42d54111a6635e0cd54d7e0c2a61137a93a922c4dcbe3509b5c1a0"
   }
  }
 },
 "nbformat": 4,
 "nbformat_minor": 4
}
