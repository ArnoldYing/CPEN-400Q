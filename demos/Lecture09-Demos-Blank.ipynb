{
 "cells": [
  {
   "cell_type": "markdown",
   "metadata": {},
   "source": [
    "# Demos: Lecture 9"
   ]
  },
  {
   "cell_type": "markdown",
   "metadata": {},
   "source": [
    "## Demo 1: `qml.specs` revisited"
   ]
  },
  {
   "cell_type": "code",
   "execution_count": 1,
   "metadata": {},
   "outputs": [],
   "source": [
    "import pennylane as qml\n",
    "from pprint import pprint"
   ]
  },
  {
   "cell_type": "code",
   "execution_count": 6,
   "metadata": {},
   "outputs": [],
   "source": [
    "n_bits = 3\n",
    "n_work_wires = 2\n",
    "special_string = '110'\n",
    "\n",
    "dev = qml.device('default.qubit', wires=n_bits+1+n_work_wires)\n",
    "\n",
    "\n",
    "def hadamard_transform(wires=None):\n",
    "    for wire in wires:\n",
    "        qml.Hadamard(wires=wire)\n",
    "\n",
    "def oracle():\n",
    "    qml.MultiControlledX(\n",
    "        control_wires=range(n_bits), \n",
    "        wires=n_bits, \n",
    "        control_values=special_string,\n",
    "        work_wires=range(n_bits+1, n_bits+1+n_work_wires)\n",
    "    )\n",
    "    \n",
    "def diffusion():\n",
    "    hadamard_transform(wires=range(n_bits))\n",
    "    qml.MultiControlledX(\n",
    "        control_wires=range(n_bits), \n",
    "        wires=n_bits, \n",
    "        control_values='0'*n_bits,\n",
    "        work_wires=range(n_bits+1, n_bits+1+n_work_wires)\n",
    "    )\n",
    "    hadamard_transform(wires=range(n_bits))"
   ]
  },
  {
   "cell_type": "code",
   "execution_count": 6,
   "metadata": {},
   "outputs": [],
   "source": [
    "@qml.qnode(dev, expansion_strategy='device')\n",
    "def grover(num_steps=1):\n",
    "    qml.PauliX(wires=n_bits)\n",
    "    \n",
    "    hadamard_transform(wires=range(n_bits+1))\n",
    "        \n",
    "    for _ in range(num_steps):\n",
    "        oracle()\n",
    "        diffusion()\n",
    "        \n",
    "    return qml.probs(wires=range(n_bits))    "
   ]
  },
  {
   "cell_type": "markdown",
   "metadata": {},
   "source": [
    "## Demo 2: quantum tapes"
   ]
  },
  {
   "cell_type": "code",
   "execution_count": 3,
   "metadata": {},
   "outputs": [],
   "source": [
    "dev = qml.device('default.qubit', wires=4)\n",
    "\n",
    "@qml.qnode(dev)\n",
    "def my_function():\n",
    "    qml.Hadamard(wires=0)\n",
    "    qml.CNOT(wires=[0, 1])\n",
    "    qml.S(wires=1)\n",
    "    qml.RX(0.3, wires=2)\n",
    "    qml.RY(0.8, wires=3)\n",
    "    qml.CNOT(wires=[0, 1])\n",
    "    return qml.expval(qml.PauliX(1))"
   ]
  },
  {
   "cell_type": "markdown",
   "metadata": {},
   "source": [
    "## Demo 3: tape/qfunc transforms"
   ]
  },
  {
   "cell_type": "markdown",
   "metadata": {},
   "source": [
    "## Demo 4: circuit compilation (small)"
   ]
  },
  {
   "cell_type": "markdown",
   "metadata": {},
   "source": [
    "## Demo 5: circuit compilation (large)"
   ]
  },
  {
   "cell_type": "code",
   "execution_count": null,
   "metadata": {},
   "outputs": [],
   "source": []
  }
 ],
 "metadata": {
  "kernelspec": {
   "display_name": "Python 3",
   "language": "python",
   "name": "python3"
  },
  "language_info": {
   "codemirror_mode": {
    "name": "ipython",
    "version": 3
   },
   "file_extension": ".py",
   "mimetype": "text/x-python",
   "name": "python",
   "nbconvert_exporter": "python",
   "pygments_lexer": "ipython3",
   "version": "3.8.5"
  }
 },
 "nbformat": 4,
 "nbformat_minor": 4
}
