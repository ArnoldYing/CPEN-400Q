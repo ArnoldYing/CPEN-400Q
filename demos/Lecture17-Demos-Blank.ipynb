{
 "cells": [
  {
   "cell_type": "markdown",
   "id": "e530df96-e795-4dba-86ff-7f969d436c0f",
   "metadata": {},
   "source": [
    "# Demos: Lecture 17"
   ]
  },
  {
   "cell_type": "markdown",
   "id": "aad80fcd-9731-48be-b07a-35c064cc9464",
   "metadata": {},
   "source": [
    "## Demo 1: bit flip errors"
   ]
  },
  {
   "cell_type": "code",
   "execution_count": null,
   "id": "2d8ba658-efef-45ca-8ea8-5ea6f12a6831",
   "metadata": {},
   "outputs": [],
   "source": [
    "import pennylane as qml\n",
    "from pennylane import numpy as np\n",
    "import matplotlib.pyplot as plt\n",
    "\n",
    "from lecture17_helpers import *\n",
    "from scipy.stats import unitary_group"
   ]
  },
  {
   "cell_type": "code",
   "execution_count": null,
   "id": "9df26be1-944f-49c7-93bf-e2dae4a5fa64",
   "metadata": {},
   "outputs": [],
   "source": []
  },
  {
   "cell_type": "code",
   "execution_count": null,
   "id": "bd1cf585-8dd4-4b95-bc5d-4e9bff4858e9",
   "metadata": {},
   "outputs": [],
   "source": []
  },
  {
   "cell_type": "code",
   "execution_count": null,
   "id": "d9a126d1-206b-4bf7-9204-897514024688",
   "metadata": {},
   "outputs": [],
   "source": []
  },
  {
   "cell_type": "code",
   "execution_count": null,
   "id": "252c870e-35c3-4998-b60b-f10d3a65441f",
   "metadata": {},
   "outputs": [],
   "source": []
  },
  {
   "cell_type": "markdown",
   "id": "98a89d7d-b0da-45fe-9f7d-e312b5992087",
   "metadata": {},
   "source": [
    "## Demo 2: depolarizing noise"
   ]
  },
  {
   "cell_type": "code",
   "execution_count": null,
   "id": "5b26563b-26cc-4221-b82b-aec70c3dac46",
   "metadata": {},
   "outputs": [],
   "source": []
  },
  {
   "cell_type": "code",
   "execution_count": null,
   "id": "43ef0797-d331-4064-9d7a-b54317207404",
   "metadata": {},
   "outputs": [],
   "source": []
  },
  {
   "cell_type": "code",
   "execution_count": null,
   "id": "b7bf8494-4e68-4852-95e7-4f0b0d24e958",
   "metadata": {},
   "outputs": [],
   "source": []
  },
  {
   "cell_type": "code",
   "execution_count": null,
   "id": "aac56874-ac80-447b-947b-4992254a3ab8",
   "metadata": {},
   "outputs": [],
   "source": []
  },
  {
   "cell_type": "markdown",
   "id": "87cc33c4-0011-4c0f-b2e0-a6dd8877bba1",
   "metadata": {},
   "source": [
    "## Demo 3: fidelity and trace distance"
   ]
  },
  {
   "cell_type": "markdown",
   "id": "ce41bbd7-22f8-43c9-8c1d-aec81cb2e232",
   "metadata": {},
   "source": [
    "$$\n",
    "F(\\rho, \\sigma) = \\left( \\hbox{Tr} \\sqrt{\\sqrt{\\rho}\\sigma\\sqrt{\\rho}} \\right)^2\n",
    "$$"
   ]
  },
  {
   "cell_type": "code",
   "execution_count": null,
   "id": "be0566ec-cf94-4a20-85e2-86bf24ecaaaa",
   "metadata": {},
   "outputs": [],
   "source": [
    "from scipy.linalg import sqrtm"
   ]
  },
  {
   "cell_type": "code",
   "execution_count": null,
   "id": "8b520f3c-5836-4ee5-a15a-b6b1596843f5",
   "metadata": {},
   "outputs": [],
   "source": []
  },
  {
   "cell_type": "markdown",
   "id": "a8e6f2a0-2860-40cf-b65f-36d977b4be73",
   "metadata": {},
   "source": [
    "$$\n",
    "T(\\rho, \\sigma) = \\frac{1}{2} \\hbox{Tr} \\left( \\sqrt{(\\rho - \\sigma)^\\dagger (\\rho - \\sigma)} \\right)\n",
    "$$"
   ]
  },
  {
   "cell_type": "code",
   "execution_count": null,
   "id": "0c7360c7-20cf-4d14-9956-d0390365b095",
   "metadata": {},
   "outputs": [],
   "source": []
  },
  {
   "cell_type": "code",
   "execution_count": null,
   "id": "2c9207a0-c28f-467d-9758-f3d56a01a236",
   "metadata": {},
   "outputs": [],
   "source": []
  },
  {
   "cell_type": "code",
   "execution_count": null,
   "id": "db389015-dc92-434b-83b4-92b5f5f8df7f",
   "metadata": {},
   "outputs": [],
   "source": []
  },
  {
   "cell_type": "code",
   "execution_count": null,
   "id": "3636fa57-674d-45b3-ae64-6cd044a93703",
   "metadata": {},
   "outputs": [],
   "source": []
  },
  {
   "cell_type": "code",
   "execution_count": null,
   "id": "9eadb532-fff6-4aa7-a850-60801ba8ea7d",
   "metadata": {},
   "outputs": [],
   "source": []
  },
  {
   "cell_type": "markdown",
   "id": "8bf34752-3f98-48b1-9874-18b9c03b180e",
   "metadata": {},
   "source": [
    "## Demo 4: VQE for $H_2$ molecule"
   ]
  },
  {
   "cell_type": "code",
   "execution_count": null,
   "id": "73bee57e-0a22-4f97-b675-b59f9f301b98",
   "metadata": {},
   "outputs": [],
   "source": [
    "bond_length = 1.3228\n",
    "symbols = [\"H\", \"H\"]\n",
    "coordinates = np.array([0.0, 0.0, -bond_length/2, 0.0, 0.0, bond_length/2])"
   ]
  },
  {
   "cell_type": "code",
   "execution_count": null,
   "id": "ed19684a-b6ee-4f38-a8c0-1e477d07336d",
   "metadata": {},
   "outputs": [],
   "source": []
  },
  {
   "cell_type": "code",
   "execution_count": null,
   "id": "2022f668-804c-40f7-b7d9-57ca9906e1cd",
   "metadata": {},
   "outputs": [],
   "source": []
  },
  {
   "cell_type": "markdown",
   "id": "99391fa4-4af5-4523-a4c3-d60299fc9a38",
   "metadata": {},
   "source": [
    "Ground state of $H_2$ looks like:\n",
    "\n",
    "$$\n",
    "|\\psi_g(\\theta)\\rangle = \\cos(\\theta/2) |1100\\rangle - \\sin(\\theta/2) |0011\\rangle\n",
    "$$"
   ]
  },
  {
   "cell_type": "code",
   "execution_count": null,
   "id": "64437289-a25a-4757-9df5-4c5ccff41090",
   "metadata": {},
   "outputs": [],
   "source": []
  },
  {
   "cell_type": "code",
   "execution_count": null,
   "id": "5b26f1f1-063a-4700-8092-16859a1d48a0",
   "metadata": {},
   "outputs": [],
   "source": []
  },
  {
   "cell_type": "code",
   "execution_count": null,
   "id": "e29fab46-779b-40bc-a5e8-c5c31d6f4d10",
   "metadata": {},
   "outputs": [],
   "source": []
  },
  {
   "cell_type": "code",
   "execution_count": null,
   "id": "a3baed7d-dd3a-4648-9851-95f97f135494",
   "metadata": {},
   "outputs": [],
   "source": []
  },
  {
   "cell_type": "code",
   "execution_count": null,
   "id": "f0134186-e108-4748-9798-e381a915dd3c",
   "metadata": {},
   "outputs": [],
   "source": []
  },
  {
   "cell_type": "markdown",
   "id": "949a2482-6641-4313-9cd7-c1e639865a51",
   "metadata": {},
   "source": [
    "## Demo 5: VQE on a noisy device"
   ]
  },
  {
   "cell_type": "code",
   "execution_count": null,
   "id": "97952c9a-9cbc-43e4-a818-07991d008550",
   "metadata": {},
   "outputs": [],
   "source": [
    "from qiskit.test.mock import FakeSantiago\n",
    "from qiskit.providers.aer import QasmSimulator\n",
    "from qiskit.providers.aer.noise import NoiseModel"
   ]
  },
  {
   "cell_type": "code",
   "execution_count": null,
   "id": "6971a0c8-8042-4cf5-9b6e-c86b179be6fd",
   "metadata": {},
   "outputs": [],
   "source": [
    "device = QasmSimulator.from_backend(FakeSantiago())\n",
    "\n",
    "noise_model = NoiseModel.from_backend(device, readout_error=False)\n",
    "\n",
    "noisy_dev = qml.device(\n",
    "    \"qiskit.aer\", backend='qasm_simulator', wires=4, shots=10000, noise_model=noise_model\n",
    ")"
   ]
  },
  {
   "cell_type": "code",
   "execution_count": null,
   "id": "772b8349-e700-4830-a764-487f03399b2f",
   "metadata": {},
   "outputs": [],
   "source": []
  },
  {
   "cell_type": "code",
   "execution_count": null,
   "id": "96c6a7fb-63b9-4c4b-8df4-84e727f0229e",
   "metadata": {},
   "outputs": [],
   "source": []
  },
  {
   "cell_type": "code",
   "execution_count": null,
   "id": "340b053f-8550-41b3-9a75-cbd1008e87b3",
   "metadata": {},
   "outputs": [],
   "source": []
  },
  {
   "cell_type": "markdown",
   "id": "76a40d88-79a1-4f0d-8fc3-480b65e4d125",
   "metadata": {},
   "source": [
    "## Demo 6: zero-noise extrapolation"
   ]
  },
  {
   "cell_type": "code",
   "execution_count": null,
   "id": "a60940f7-6af6-45dd-bb04-96b148a61430",
   "metadata": {},
   "outputs": [],
   "source": []
  },
  {
   "cell_type": "code",
   "execution_count": null,
   "id": "edec7fde-1471-42e1-b6b6-ebbe9fa594d9",
   "metadata": {},
   "outputs": [],
   "source": []
  },
  {
   "cell_type": "code",
   "execution_count": null,
   "id": "20ccb617-08d9-4ba1-8ff1-433a1ffb9e7d",
   "metadata": {},
   "outputs": [],
   "source": []
  },
  {
   "cell_type": "code",
   "execution_count": null,
   "id": "53b16afd-e5ae-4cb7-9442-233b3a2808e1",
   "metadata": {},
   "outputs": [],
   "source": []
  },
  {
   "cell_type": "code",
   "execution_count": null,
   "id": "47cf3562-aedd-41f0-ac6a-85e5f47a35b8",
   "metadata": {},
   "outputs": [],
   "source": []
  },
  {
   "cell_type": "code",
   "execution_count": null,
   "id": "cbf696a6-e483-4646-9c0e-1624bc2ef948",
   "metadata": {},
   "outputs": [],
   "source": []
  },
  {
   "cell_type": "code",
   "execution_count": null,
   "id": "1e0c9d69-a162-49f8-9467-ff9ef4bf1a65",
   "metadata": {},
   "outputs": [],
   "source": []
  }
 ],
 "metadata": {
  "kernelspec": {
   "display_name": "Python 3 (ipykernel)",
   "language": "python",
   "name": "python3"
  },
  "language_info": {
   "codemirror_mode": {
    "name": "ipython",
    "version": 3
   },
   "file_extension": ".py",
   "mimetype": "text/x-python",
   "name": "python",
   "nbconvert_exporter": "python",
   "pygments_lexer": "ipython3",
   "version": "3.9.7"
  }
 },
 "nbformat": 4,
 "nbformat_minor": 5
}
