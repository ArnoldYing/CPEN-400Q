{
 "cells": [
  {
   "cell_type": "markdown",
   "id": "e530df96-e795-4dba-86ff-7f969d436c0f",
   "metadata": {},
   "source": [
    "# Demos: Lecture 20"
   ]
  },
  {
   "cell_type": "code",
   "execution_count": 1,
   "id": "2d8ba658-efef-45ca-8ea8-5ea6f12a6831",
   "metadata": {},
   "outputs": [],
   "source": [
    "import pennylane as qml\n",
    "from pennylane import numpy as np\n",
    "import matplotlib.pyplot as plt\n",
    "from scipy.linalg import expm"
   ]
  },
  {
   "cell_type": "markdown",
   "id": "8bf34752-3f98-48b1-9874-18b9c03b180e",
   "metadata": {},
   "source": [
    "## Demo 1: `MultiRZ` and `PauliRot`"
   ]
  },
  {
   "cell_type": "code",
   "execution_count": null,
   "id": "9a3e76ab-19d2-44f6-a0bd-3e118c08f9ce",
   "metadata": {},
   "outputs": [],
   "source": []
  },
  {
   "cell_type": "markdown",
   "id": "c5dee0d8-ce27-4ff2-a288-4ad0a69313db",
   "metadata": {
    "tags": []
   },
   "source": [
    "## Demo 2: commuting Pauli terms"
   ]
  },
  {
   "cell_type": "code",
   "execution_count": null,
   "id": "a91dead6-9ecb-4ad5-a8bd-54e5d8444b65",
   "metadata": {},
   "outputs": [],
   "source": []
  },
  {
   "cell_type": "markdown",
   "id": "f1de2e7c-f362-46e4-aed0-b3739cfddc13",
   "metadata": {
    "tags": []
   },
   "source": [
    "## Demo 3: Trotterization"
   ]
  },
  {
   "cell_type": "code",
   "execution_count": 18,
   "id": "2e5f3e5d-8abb-4621-8e7f-3526c684a90c",
   "metadata": {},
   "outputs": [],
   "source": [
    "coeffs = [1.0, 2.0, 3.0, -1.0, -2.0, -3.0]\n",
    "\n",
    "obs = [\n",
    "    qml.PauliX(0) @ qml.PauliX(1),\n",
    "    qml.PauliX(1) @ qml.PauliX(2),\n",
    "    qml.PauliX(2) @ qml.PauliX(0),\n",
    "    qml.PauliZ(0),\n",
    "    qml.PauliZ(1),\n",
    "    qml.PauliZ(2),\n",
    "]\n",
    "\n",
    "H = qml.Hamiltonian(coeffs, obs)\n",
    "\n",
    "H_mat = np.array(\n",
    "    [\n",
    "        [-6.0, 0.0, 0.0, 2.0, 0.0, 3.0, 1.0, 0.0],\n",
    "        [0.0, 0.0, 2.0, 0.0, 3.0, 0.0, 0.0, 1.0],\n",
    "        [0.0, 2.0, -2.0, 0.0, 1.0, 0.0, 0.0, 3.0],\n",
    "        [2.0, 0.0, 0.0, 4.0, 0.0, 1.0, 3.0, 0.0],\n",
    "        [0.0, 3.0, 1.0, 0.0, -4.0, 0.0, 0.0, 2.0],\n",
    "        [3.0, 0.0, 0.0, 1.0, 0.0, 2.0, 2.0, 0.0],\n",
    "        [1.0, 0.0, 0.0, 3.0, 0.0, 2.0, 0.0, 0.0],\n",
    "        [0.0, 1.0, 3.0, 0.0, 2.0, 0.0, 0.0, 6.0],\n",
    "    ]\n",
    ")\n",
    "\n",
    "U = expm(-1j * H_mat)"
   ]
  },
  {
   "cell_type": "code",
   "execution_count": null,
   "id": "2c990724-7240-45f1-89cc-afe3c2a94009",
   "metadata": {},
   "outputs": [],
   "source": []
  }
 ],
 "metadata": {
  "kernelspec": {
   "display_name": "Python 3 (ipykernel)",
   "language": "python",
   "name": "python3"
  },
  "language_info": {
   "codemirror_mode": {
    "name": "ipython",
    "version": 3
   },
   "file_extension": ".py",
   "mimetype": "text/x-python",
   "name": "python",
   "nbconvert_exporter": "python",
   "pygments_lexer": "ipython3",
   "version": "3.9.7"
  }
 },
 "nbformat": 4,
 "nbformat_minor": 5
}
