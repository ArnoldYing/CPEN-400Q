{
 "cells": [
  {
   "cell_type": "markdown",
   "id": "9de7742a-219b-4398-bb28-934fdc7e800c",
   "metadata": {},
   "source": [
    "# Demos: Lecture 14"
   ]
  },
  {
   "cell_type": "code",
   "execution_count": 1,
   "id": "f7c5f297-cfe6-4cd9-86c5-6a152f49c93f",
   "metadata": {},
   "outputs": [
    {
     "name": "stderr",
     "output_type": "stream",
     "text": [
      "/opt/conda/envs/pennylane/lib/python3.8/site-packages/_distutils_hack/__init__.py:30: UserWarning: Setuptools is replacing distutils.\n",
      "  warnings.warn(\"Setuptools is replacing distutils.\")\n"
     ]
    }
   ],
   "source": [
    "import pennylane as qml\n",
    "from pennylane import numpy as np\n",
    "from lecture14_helpers import *\n",
    "\n",
    "import matplotlib.pyplot as plt\n",
    "from sklearn.datasets import make_blobs"
   ]
  },
  {
   "cell_type": "code",
   "execution_count": 2,
   "id": "a4f57729-db09-4505-b16a-22cf4d306b90",
   "metadata": {},
   "outputs": [],
   "source": [
    "n_samples = 100\n",
    "\n",
    "X, y = make_blobs(\n",
    "    n_samples=n_samples, \n",
    "    centers=[[0.1, 0.2], [0.25, 0.4]], \n",
    "    cluster_std=0.05, \n",
    "    n_features=2,\n",
    "    random_state=6\n",
    ")"
   ]
  },
  {
   "cell_type": "code",
   "execution_count": 3,
   "id": "84f4ac16-40a3-4b8d-a77a-69a6232a6918",
   "metadata": {},
   "outputs": [
    {
     "data": {
      "image/png": "[encoded data removed]",
      "text/plain": [
       "<Figure size 432x288 with 1 Axes>"
      ]
     },
     "metadata": {
      "needs_background": "light"
     },
     "output_type": "display_data"
    }
   ],
   "source": [
    "plot_data(X, y)"
   ]
  },
  {
   "cell_type": "code",
   "execution_count": 5,
   "id": "7c14be15-2fc6-4ae2-8b8b-8bb07cbde798",
   "metadata": {},
   "outputs": [],
   "source": [
    "X = np.array(X, requires_grad=False)\n",
    "y = np.array(y, requires_grad=False)"
   ]
  },
  {
   "cell_type": "code",
   "execution_count": 7,
   "id": "a612607f-3213-4727-8fb4-c081a3cd801f",
   "metadata": {},
   "outputs": [],
   "source": [
    "y[y == 0] = -1"
   ]
  },
  {
   "cell_type": "code",
   "execution_count": 8,
   "id": "fc3c558f-c43b-4622-aba2-914317f2365c",
   "metadata": {},
   "outputs": [
    {
     "data": {
      "text/plain": [
       "tensor([-1, -1,  1, -1, -1,  1, -1,  1,  1,  1, -1,  1,  1, -1, -1, -1,\n",
       "         1, -1, -1,  1, -1,  1, -1, -1, -1, -1,  1,  1,  1, -1,  1,  1,\n",
       "         1, -1,  1,  1,  1,  1,  1, -1, -1, -1, -1, -1, -1, -1, -1,  1,\n",
       "         1, -1,  1,  1, -1,  1, -1, -1,  1, -1, -1,  1,  1, -1,  1,  1,\n",
       "        -1,  1, -1,  1, -1, -1, -1,  1, -1,  1,  1,  1, -1, -1, -1,  1,\n",
       "         1,  1,  1, -1, -1, -1, -1, -1,  1,  1,  1, -1,  1,  1, -1,  1,\n",
       "         1,  1,  1, -1], requires_grad=False)"
      ]
     },
     "execution_count": 8,
     "metadata": {},
     "output_type": "execute_result"
    }
   ],
   "source": [
    "y"
   ]
  },
  {
   "cell_type": "markdown",
   "id": "9369cb97-837b-407e-8b1f-32a7838ea55a",
   "metadata": {},
   "source": [
    "## Model 1: amplitude embedding"
   ]
  },
  {
   "cell_type": "markdown",
   "id": "04d28477-9d40-416d-8e45-df7ad0e026a8",
   "metadata": {},
   "source": [
    "<img src=\"fig/model1.png\" width=\"500px\">"
   ]
  },
  {
   "cell_type": "code",
   "execution_count": 13,
   "id": "159f7611-bc4d-4d57-ac1b-f4d87fd43d08",
   "metadata": {},
   "outputs": [],
   "source": [
    "dev = qml.device('default.qubit', wires=1)\n",
    "\n",
    "@qml.qnode(dev)\n",
    "def model_1(point, weights):\n",
    "    qml.AmplitudeEmbedding(point, wires=0, normalize=True)\n",
    "    qml.Rot(*weights, wires=0)\n",
    "    return qml.expval(qml.PauliX(0))"
   ]
  },
  {
   "cell_type": "code",
   "execution_count": 23,
   "id": "83b4f43b-2285-4d01-a814-ded01b47cce2",
   "metadata": {},
   "outputs": [],
   "source": [
    "weights = np.random.normal(size=3)"
   ]
  },
  {
   "cell_type": "code",
   "execution_count": 24,
   "id": "f0e4e572-e9fb-4c8f-ba3f-e6bda56d7848",
   "metadata": {},
   "outputs": [
    {
     "data": {
      "text/plain": [
       "tensor([ 0.57977561,  0.39238897, -0.81623124], requires_grad=True)"
      ]
     },
     "execution_count": 24,
     "metadata": {},
     "output_type": "execute_result"
    }
   ],
   "source": [
    "weights"
   ]
  },
  {
   "cell_type": "code",
   "execution_count": 25,
   "id": "fd2901eb-46b7-4847-85bc-a6d3001cc099",
   "metadata": {},
   "outputs": [
    {
     "data": {
      "text/plain": [
       "tensor(0.54115749, requires_grad=True)"
      ]
     },
     "execution_count": 25,
     "metadata": {},
     "output_type": "execute_result"
    }
   ],
   "source": [
    "model_1(X[0], weights)"
   ]
  },
  {
   "cell_type": "code",
   "execution_count": 17,
   "id": "d4bc8ee4-94f5-422d-900b-bbb6b42c69ab",
   "metadata": {},
   "outputs": [
    {
     "name": "stdout",
     "output_type": "stream",
     "text": [
      " 0: ──QubitStateVector(M0)──Rot(1.7, 0.452, -0.134)──┤ ⟨X⟩ \n",
      "M0 =\n",
      "[0.42157193+0.j 0.90679497+0.j]\n",
      "\n"
     ]
    }
   ],
   "source": [
    "print(qml.draw(model_1, expansion_strategy=\"device\")(X[0], weights))"
   ]
  },
  {
   "cell_type": "code",
   "execution_count": 18,
   "id": "4dac2524-dcf6-4f8c-a2ec-1aaff475f60f",
   "metadata": {},
   "outputs": [],
   "source": [
    "our_preds = make_predictions(X, model_1, weights)"
   ]
  },
  {
   "cell_type": "code",
   "execution_count": 20,
   "id": "6a083347-37a1-46e6-a02d-74e7b158e789",
   "metadata": {},
   "outputs": [
    {
     "data": {
      "image/png": "[encoded data removed]",
      "text/plain": [
       "<Figure size 432x288 with 1 Axes>"
      ]
     },
     "metadata": {
      "needs_background": "light"
     },
     "output_type": "display_data"
    }
   ],
   "source": [
    "plot_data(X, our_preds)"
   ]
  },
  {
   "cell_type": "code",
   "execution_count": 26,
   "id": "7bcfb059-442d-4b1c-a9b3-d41e1d4fc6cf",
   "metadata": {},
   "outputs": [
    {
     "name": "stdout",
     "output_type": "stream",
     "text": [
      "It 0 loss 1.337331451604741 acc 0.53\n",
      "It 5 loss 1.1500696790124232 acc 0.56\n",
      "It 10 loss 1.0263307167065683 acc 0.63\n",
      "It 15 loss 0.979113094688102 acc 0.63\n",
      "It 20 loss 0.9667446181130179 acc 0.62\n",
      "It 25 loss 0.9639592745930351 acc 0.61\n",
      "It 30 loss 0.9633098323385325 acc 0.62\n",
      "It 35 loss 0.9631071462528414 acc 0.63\n",
      "It 40 loss 0.9630021048932076 acc 0.64\n",
      "It 45 loss 0.9629242552027446 acc 0.64\n",
      "It 50 loss 0.9628588406380765 acc 0.64\n",
      "It 55 loss 0.9628021505504855 acc 0.64\n",
      "It 60 loss 0.9627527235705997 acc 0.64\n",
      "It 65 loss 0.9627096160394373 acc 0.64\n",
      "It 70 loss 0.9626720553348984 acc 0.64\n",
      "It 75 loss 0.9626393655489818 acc 0.64\n",
      "It 80 loss 0.9626109473331738 acc 0.64\n",
      "It 85 loss 0.9625862688091956 acc 0.64\n",
      "It 90 loss 0.9625648589364024 acc 0.64\n",
      "It 95 loss 0.9625463016121345 acc 0.63\n"
     ]
    }
   ],
   "source": [
    "opt = qml.GradientDescentOptimizer(stepsize=0.1)\n",
    "\n",
    "loss = make_loss_function(X, y, model_1)\n",
    "\n",
    "for it in range(100):\n",
    "    weights, _loss = opt.step_and_cost(loss, weights)\n",
    "    \n",
    "    if it % 5 == 0:\n",
    "        our_preds = make_predictions(X, model_1, weights)\n",
    "        current_accuracy = compute_accuracy(our_preds, y)\n",
    "        print(f\"It {it} loss {_loss} acc {current_accuracy}\")"
   ]
  },
  {
   "cell_type": "code",
   "execution_count": null,
   "id": "f0b37f5e-8924-40f6-9561-995abb94b5f0",
   "metadata": {},
   "outputs": [],
   "source": []
  },
  {
   "cell_type": "code",
   "execution_count": null,
   "id": "6868883d-9be1-42c4-9542-48fc57ba1c61",
   "metadata": {},
   "outputs": [],
   "source": []
  },
  {
   "cell_type": "markdown",
   "id": "52afe5d1-a448-4061-82d5-86597fd5de7f",
   "metadata": {},
   "source": [
    "## Model 2: angle embedding"
   ]
  },
  {
   "cell_type": "markdown",
   "id": "97c9752d-2cae-4d26-ba15-6cbd2ba5d222",
   "metadata": {},
   "source": [
    "<img src=\"fig/model2.png\" width=\"500px\">"
   ]
  },
  {
   "cell_type": "code",
   "execution_count": null,
   "id": "c1fe2257-2ab1-4de6-b06b-7e1957f5f087",
   "metadata": {},
   "outputs": [],
   "source": []
  },
  {
   "cell_type": "code",
   "execution_count": null,
   "id": "72d61dea-6883-43d6-92aa-2ddf557a51f6",
   "metadata": {},
   "outputs": [],
   "source": []
  },
  {
   "cell_type": "code",
   "execution_count": null,
   "id": "66c8a275-512d-4fe9-8999-92df48545e3a",
   "metadata": {},
   "outputs": [],
   "source": []
  },
  {
   "cell_type": "code",
   "execution_count": null,
   "id": "9835fdf1-042b-428f-9c8d-000500ca8cc1",
   "metadata": {},
   "outputs": [],
   "source": []
  },
  {
   "cell_type": "code",
   "execution_count": null,
   "id": "a1bb2027-b018-4223-9624-b00d32c22720",
   "metadata": {},
   "outputs": [],
   "source": []
  },
  {
   "cell_type": "code",
   "execution_count": null,
   "id": "830797ef-2147-498d-99b2-e329bacd271a",
   "metadata": {},
   "outputs": [],
   "source": []
  },
  {
   "cell_type": "code",
   "execution_count": null,
   "id": "ab3a85f8-4b0a-4521-baff-0c38bcecd274",
   "metadata": {},
   "outputs": [],
   "source": []
  },
  {
   "cell_type": "code",
   "execution_count": null,
   "id": "92a3b369-b210-4d5a-84c9-5d9931f75e3b",
   "metadata": {},
   "outputs": [],
   "source": []
  },
  {
   "cell_type": "code",
   "execution_count": null,
   "id": "123ecb8c-7237-40e4-8990-7ecef1688d55",
   "metadata": {},
   "outputs": [],
   "source": []
  },
  {
   "cell_type": "code",
   "execution_count": null,
   "id": "f01d4b1c-51fd-4c8d-9315-aebd5d0e926b",
   "metadata": {},
   "outputs": [],
   "source": []
  },
  {
   "cell_type": "code",
   "execution_count": null,
   "id": "9d81d92d-fc1a-4a94-b759-81205bd6d6f7",
   "metadata": {},
   "outputs": [],
   "source": []
  },
  {
   "cell_type": "code",
   "execution_count": null,
   "id": "98b21887-d0e1-402e-a493-98b2e03a52cd",
   "metadata": {},
   "outputs": [],
   "source": []
  },
  {
   "cell_type": "code",
   "execution_count": null,
   "id": "f5715fd8-049c-4d84-8e21-14f80cedf974",
   "metadata": {},
   "outputs": [],
   "source": []
  },
  {
   "cell_type": "markdown",
   "id": "dcd43374-2c03-475c-9455-f624e2754ecc",
   "metadata": {},
   "source": [
    "## Model 3: multi-layer angle embedding"
   ]
  },
  {
   "cell_type": "markdown",
   "id": "e654d403-9965-4108-928d-d92137436b5f",
   "metadata": {},
   "source": [
    "<img src=\"fig/model3.png\" width=\"500px\">"
   ]
  },
  {
   "cell_type": "code",
   "execution_count": null,
   "id": "446242dd-7028-4be3-9b68-1eb8729b5c5a",
   "metadata": {},
   "outputs": [],
   "source": []
  },
  {
   "cell_type": "code",
   "execution_count": null,
   "id": "cb89ea72-f3a7-4403-adaf-0ac219f2462a",
   "metadata": {},
   "outputs": [],
   "source": []
  },
  {
   "cell_type": "code",
   "execution_count": null,
   "id": "5a777a7e-1332-492e-b255-d8001eebce93",
   "metadata": {},
   "outputs": [],
   "source": []
  },
  {
   "cell_type": "code",
   "execution_count": null,
   "id": "93f596c6-d27a-478d-b7fe-dc9b2551ca0c",
   "metadata": {},
   "outputs": [],
   "source": []
  },
  {
   "cell_type": "code",
   "execution_count": null,
   "id": "e1f63eec-70aa-47a1-abfd-636a037d3e0e",
   "metadata": {},
   "outputs": [],
   "source": []
  },
  {
   "cell_type": "code",
   "execution_count": null,
   "id": "bfeb5d67-5294-4f1f-9e6f-0710d1f12600",
   "metadata": {},
   "outputs": [],
   "source": []
  },
  {
   "cell_type": "code",
   "execution_count": null,
   "id": "cd4c7b94-fd35-4482-b0b0-84b645ca73ee",
   "metadata": {},
   "outputs": [],
   "source": []
  },
  {
   "cell_type": "code",
   "execution_count": null,
   "id": "4899757d-061c-455b-8893-f38b8c99eb76",
   "metadata": {},
   "outputs": [],
   "source": []
  },
  {
   "cell_type": "code",
   "execution_count": null,
   "id": "86affe03-d1de-4cdd-b4bb-ce214320e8b4",
   "metadata": {},
   "outputs": [],
   "source": []
  },
  {
   "cell_type": "code",
   "execution_count": null,
   "id": "03a47f37-053d-4509-9482-190315d220fe",
   "metadata": {},
   "outputs": [],
   "source": []
  },
  {
   "cell_type": "code",
   "execution_count": null,
   "id": "e3b62438-cdfe-4609-b7a9-764bdba07294",
   "metadata": {},
   "outputs": [],
   "source": []
  },
  {
   "cell_type": "code",
   "execution_count": null,
   "id": "97b93302-ce7c-4c2a-a27e-cccb0cc8db74",
   "metadata": {},
   "outputs": [],
   "source": []
  }
 ],
 "metadata": {
  "kernelspec": {
   "display_name": "PennyLane",
   "language": "python",
   "name": "pennylane"
  },
  "language_info": {
   "codemirror_mode": {
    "name": "ipython",
    "version": 3
   },
   "file_extension": ".py",
   "mimetype": "text/x-python",
   "name": "python",
   "nbconvert_exporter": "python",
   "pygments_lexer": "ipython3",
   "version": "3.8.12"
  }
 },
 "nbformat": 4,
 "nbformat_minor": 5
}
