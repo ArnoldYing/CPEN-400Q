{
 "cells": [
  {
   "cell_type": "markdown",
   "id": "cb20fd0c-fc86-4e8b-9f16-49312e69037f",
   "metadata": {},
   "source": [
    "# Demos: Lecture 11"
   ]
  },
  {
   "cell_type": "markdown",
   "id": "4566f1d7-0be7-485f-a41b-8a42d7a797ba",
   "metadata": {
    "tags": []
   },
   "source": [
    "## Demo 1: QFT from scratch"
   ]
  },
  {
   "cell_type": "markdown",
   "id": "64b31583-cecf-433d-a759-66761ea3346f",
   "metadata": {},
   "source": [
    "<img src=\"fig/qft-full-screencap.png\" width=\"500px\">"
   ]
  },
  {
   "cell_type": "markdown",
   "id": "41109202-dc98-4792-a6bf-1752aefcf336",
   "metadata": {},
   "source": [
    "$$\n",
    "R_k = \\begin{pmatrix} 1 & 0 \\\\ 0 & e^{2\\pi i/2^k} \\end{pmatrix}\n",
    "$$"
   ]
  },
  {
   "cell_type": "code",
   "execution_count": 6,
   "id": "084b86eb-9bf8-491b-8b09-83a3e88c3680",
   "metadata": {},
   "outputs": [
    {
     "name": "stderr",
     "output_type": "stream",
     "text": [
      "/opt/conda/envs/pennylane/lib/python3.8/site-packages/_distutils_hack/__init__.py:30: UserWarning: Setuptools is replacing distutils.\n",
      "  warnings.warn(\"Setuptools is replacing distutils.\")\n"
     ]
    }
   ],
   "source": [
    "import pennylane as qml\n",
    "import numpy as np"
   ]
  },
  {
   "cell_type": "code",
   "execution_count": 7,
   "id": "730630b0-9757-4f6a-a52a-e0c23d3b8d85",
   "metadata": {},
   "outputs": [],
   "source": [
    "def apply_swaps(wires=None):\n",
    "    num_wires = len(wires)\n",
    "    for wire in range(num_wires // 2):\n",
    "        qml.SWAP(wires=[wire, num_wires - wire - 1])"
   ]
  },
  {
   "cell_type": "code",
   "execution_count": 8,
   "id": "d9d6479d-c064-460d-8dfd-c997e0fb046d",
   "metadata": {},
   "outputs": [],
   "source": [
    "def apply_controlled_rotations(target_idx=None, wires=None):\n",
    "    qml.Hadamard(wires=target_idx)\n",
    "    \n",
    "    num_wires = len(wires)\n",
    "    num_shifts = num_wires - target_idx + 1\n",
    "    \n",
    "    phase_shifts = [2 * np.pi / 2 ** k for k in range(2, num_shifts)]\n",
    "    \n",
    "    for idx, shift in enumerate(phase_shifts):\n",
    "        control_idx = target_idx + idx + 1\n",
    "        qml.ControlledPhaseShift(shift, wires=[control_idx, target_idx])"
   ]
  },
  {
   "cell_type": "code",
   "execution_count": 9,
   "id": "a1453408-bf7d-454f-9dd9-ce6981a9f9ab",
   "metadata": {},
   "outputs": [],
   "source": [
    "def QFT_circuit():\n",
    "    for target_idx in range(len(dev.wires)):  \n",
    "        apply_controlled_rotations(target_idx=target_idx, wires=dev.wires)\n",
    "    \n",
    "    apply_swaps(wires=dev.wires)\n",
    "    \n",
    "    return qml.state()"
   ]
  },
  {
   "cell_type": "code",
   "execution_count": 10,
   "id": "b99f4e70-95db-4e0b-8a46-34511e070ea3",
   "metadata": {},
   "outputs": [],
   "source": [
    "dev = qml.device('default.qubit', wires=3)"
   ]
  },
  {
   "cell_type": "code",
   "execution_count": 11,
   "id": "aea7455a-783f-4b1b-9ac7-a17c2e67476f",
   "metadata": {},
   "outputs": [],
   "source": [
    "qnode = qml.QNode(QFT_circuit, dev)"
   ]
  },
  {
   "cell_type": "code",
   "execution_count": 12,
   "id": "015e9a95-9d56-4cb9-9ba9-01718d605aa2",
   "metadata": {},
   "outputs": [
    {
     "name": "stdout",
     "output_type": "stream",
     "text": [
      " 0: ──H──╭ControlledPhaseShift(1.57)─────╭ControlledPhaseShift(0.785)──────────────────────────────────╭SWAP──╭┤ State \n",
      " 1: ─────╰ControlledPhaseShift(1.57)──H──│─────────────────────────────╭ControlledPhaseShift(1.57)─────│──────├┤ State \n",
      " 2: ─────────────────────────────────────╰ControlledPhaseShift(0.785)──╰ControlledPhaseShift(1.57)──H──╰SWAP──╰┤ State \n",
      "\n"
     ]
    }
   ],
   "source": [
    "print(qml.draw(qnode)())"
   ]
  },
  {
   "cell_type": "code",
   "execution_count": 13,
   "id": "cc88424d-0fc8-4900-bd54-2226b8d90ada",
   "metadata": {},
   "outputs": [
    {
     "name": "stdout",
     "output_type": "stream",
     "text": [
      "[0.35355339+0.j 0.35355339+0.j 0.35355339+0.j 0.35355339+0.j\n",
      " 0.35355339+0.j 0.35355339+0.j 0.35355339+0.j 0.35355339+0.j]\n"
     ]
    }
   ],
   "source": [
    "print(qnode())"
   ]
  },
  {
   "cell_type": "markdown",
   "id": "e0cfe0ea-eb06-4bed-b286-9515caa06940",
   "metadata": {},
   "source": [
    "## Demo 2: QFT from template"
   ]
  },
  {
   "cell_type": "code",
   "execution_count": 14,
   "id": "beb95f1a-c430-475a-bdf0-6ed1a6f32ce5",
   "metadata": {},
   "outputs": [],
   "source": [
    "@qml.qnode(dev)\n",
    "def QFT_with_template():\n",
    "    qml.QFT.decomposition(wires=dev.wires)\n",
    "    return qml.state()"
   ]
  },
  {
   "cell_type": "code",
   "execution_count": 15,
   "id": "9211ac71-80bd-436a-ac54-5de685d67754",
   "metadata": {},
   "outputs": [
    {
     "name": "stdout",
     "output_type": "stream",
     "text": [
      " 0: ──H──╭ControlledPhaseShift(1.57)─────╭ControlledPhaseShift(0.785)──────────────────────────────────╭SWAP──╭┤ State \n",
      " 1: ─────╰ControlledPhaseShift(1.57)──H──│─────────────────────────────╭ControlledPhaseShift(1.57)─────│──────├┤ State \n",
      " 2: ─────────────────────────────────────╰ControlledPhaseShift(0.785)──╰ControlledPhaseShift(1.57)──H──╰SWAP──╰┤ State \n",
      "\n"
     ]
    }
   ],
   "source": [
    "print(qml.draw(QFT_with_template)())"
   ]
  },
  {
   "cell_type": "markdown",
   "id": "0de19cfe-a6c1-4748-bfa7-c022428c0164",
   "metadata": {},
   "source": [
    "## Demo 3: Quantum phase estimation"
   ]
  },
  {
   "cell_type": "markdown",
   "id": "8fe271ef-a945-4f05-a024-6bb09c6cb193",
   "metadata": {},
   "source": [
    "<img src=\"fig/qpe-full-screencap.png\" width=\"500px\">"
   ]
  },
  {
   "cell_type": "code",
   "execution_count": 16,
   "id": "34710c4a-2c7c-4cdd-903e-8e92453fd4be",
   "metadata": {},
   "outputs": [],
   "source": [
    "U = np.kron(qml.T._matrix(), np.kron(qml.PauliX._matrix(), np.eye(2)))"
   ]
  },
  {
   "cell_type": "code",
   "execution_count": 17,
   "id": "ce5050f3-1629-48f2-bdb3-862de43963e3",
   "metadata": {},
   "outputs": [],
   "source": [
    "eigvals, eigvecs = np.linalg.eig(U)"
   ]
  },
  {
   "cell_type": "code",
   "execution_count": 18,
   "id": "8fcf3ed6-e1ff-4dec-9046-4eb9ec67b1c7",
   "metadata": {},
   "outputs": [
    {
     "data": {
      "text/plain": [
       "array([ 1.        +0.j        , -1.        +0.j        ,\n",
       "        1.        +0.j        , -1.        +0.j        ,\n",
       "        0.70710678+0.70710678j, -0.70710678-0.70710678j,\n",
       "        0.70710678+0.70710678j, -0.70710678-0.70710678j])"
      ]
     },
     "execution_count": 18,
     "metadata": {},
     "output_type": "execute_result"
    }
   ],
   "source": [
    "eigvals"
   ]
  },
  {
   "cell_type": "code",
   "execution_count": 19,
   "id": "fac20061-ab63-4300-94d2-4b5a3b8545f4",
   "metadata": {},
   "outputs": [],
   "source": [
    "target_eigvec = eigvecs[:, 4]"
   ]
  },
  {
   "cell_type": "code",
   "execution_count": 20,
   "id": "f1f01770-c2ae-473c-a4db-a3496bb882de",
   "metadata": {},
   "outputs": [
    {
     "data": {
      "text/plain": [
       "array([-0.        +0.00000000e+00j, -0.        +0.00000000e+00j,\n",
       "       -0.        +0.00000000e+00j, -0.        +0.00000000e+00j,\n",
       "        0.70710678+0.00000000e+00j, -0.        +0.00000000e+00j,\n",
       "        0.70710678+5.55111512e-17j, -0.        +0.00000000e+00j])"
      ]
     },
     "execution_count": 20,
     "metadata": {},
     "output_type": "execute_result"
    }
   ],
   "source": [
    "target_eigvec"
   ]
  },
  {
   "cell_type": "code",
   "execution_count": 21,
   "id": "7c52bc56-8f3a-428e-bfd0-b4af34af73c4",
   "metadata": {},
   "outputs": [
    {
     "data": {
      "text/plain": [
       "array([0. +0.j , 0. +0.j , 0. +0.j , 0. +0.j , 0.5+0.5j, 0. +0.j ,\n",
       "       0.5+0.5j, 0. +0.j ])"
      ]
     },
     "execution_count": 21,
     "metadata": {},
     "output_type": "execute_result"
    }
   ],
   "source": [
    "np.dot(U, target_eigvec)"
   ]
  },
  {
   "cell_type": "code",
   "execution_count": 22,
   "id": "1870691b-f43a-4e1c-b5c2-4a203968b14a",
   "metadata": {},
   "outputs": [
    {
     "data": {
      "text/plain": [
       "array([-0. +0.j , -0. +0.j , -0. +0.j , -0. +0.j ,  0.5+0.5j, -0. +0.j ,\n",
       "        0.5+0.5j, -0. +0.j ])"
      ]
     },
     "execution_count": 22,
     "metadata": {},
     "output_type": "execute_result"
    }
   ],
   "source": [
    "eigvals[4] * target_eigvec"
   ]
  },
  {
   "cell_type": "code",
   "execution_count": 23,
   "id": "81306d55-e39c-490a-b988-70917e9646d9",
   "metadata": {},
   "outputs": [
    {
     "data": {
      "text/plain": [
       "(0.7071067811865475+0.7071067811865475j)"
      ]
     },
     "execution_count": 23,
     "metadata": {},
     "output_type": "execute_result"
    }
   ],
   "source": [
    "eigvals[4]"
   ]
  },
  {
   "cell_type": "code",
   "execution_count": 24,
   "id": "dc289ba9-a209-4fef-aff4-851b3929859a",
   "metadata": {},
   "outputs": [
    {
     "data": {
      "text/plain": [
       "0.125"
      ]
     },
     "execution_count": 24,
     "metadata": {},
     "output_type": "execute_result"
    }
   ],
   "source": [
    "np.angle(eigvals[4]) / (2 * np.pi)"
   ]
  },
  {
   "cell_type": "code",
   "execution_count": 25,
   "id": "e23dbf5a-6998-46bc-ac44-6ae0e68177e5",
   "metadata": {},
   "outputs": [],
   "source": [
    "estimation_wires = range(3)\n",
    "target_wires = range(3, 6)\n",
    "\n",
    "dev = qml.device('default.qubit', wires=len(estimation_wires)+len(target_wires), shots=1)\n",
    "\n",
    "@qml.qnode(dev)\n",
    "def quantum_phase_estimation():\n",
    "    # Prepare uniform superposition\n",
    "    for wire in estimation_wires:\n",
    "        qml.Hadamard(wires=wire)\n",
    "        \n",
    "    # Prepare eigenstate on target register\n",
    "    qml.MottonenStatePreparation(target_eigvec, wires=target_wires)\n",
    "    \n",
    "    # Apply controlled unitaries\n",
    "    for est_wire in estimation_wires:\n",
    "        power = 2 ** (len(estimation_wires) - est_wire - 1)\n",
    "        qml.ControlledQubitUnitary(\n",
    "            np.linalg.matrix_power(U, power),\n",
    "            control_wires=est_wire,\n",
    "            wires=target_wires)\n",
    "            \n",
    "    qml.adjoint(qml.QFT)(wires=estimation_wires)\n",
    "    \n",
    "    return qml.sample(wires=estimation_wires)"
   ]
  },
  {
   "cell_type": "code",
   "execution_count": 26,
   "id": "d1614f83-82f7-4f30-a49a-59662f38cd68",
   "metadata": {},
   "outputs": [
    {
     "data": {
      "text/plain": [
       "tensor([0, 0, 1], requires_grad=True)"
      ]
     },
     "execution_count": 26,
     "metadata": {},
     "output_type": "execute_result"
    }
   ],
   "source": [
    "quantum_phase_estimation()"
   ]
  },
  {
   "cell_type": "code",
   "execution_count": 27,
   "id": "4804889e-4771-4dc7-8265-95f19b37d776",
   "metadata": {},
   "outputs": [
    {
     "name": "stdout",
     "output_type": "stream",
     "text": [
      " 0: ───H─────────────────────────────╭C─────────────╭QFT⁻¹──╭┤ Sample[basis] \n",
      " 1: ───H─────────────────────────────│────╭C────────├QFT⁻¹──├┤ Sample[basis] \n",
      " 2: ───H─────────────────────────────│────│────╭C───╰QFT⁻¹──╰┤ Sample[basis] \n",
      " 3: ──╭MottonenStatePreparation(M0)──├U0──├U1──├U2───────────┤               \n",
      " 4: ──├MottonenStatePreparation(M0)──├U0──├U1──├U2───────────┤               \n",
      " 5: ──╰MottonenStatePreparation(M0)──╰U0──╰U1──╰U2───────────┤               \n",
      "U0 =\n",
      "[[ 1.+0.0000000e+00j  0.+0.0000000e+00j  0.+0.0000000e+00j\n",
      "   0.+0.0000000e+00j  0.+0.0000000e+00j  0.+0.0000000e+00j\n",
      "   0.+0.0000000e+00j  0.+0.0000000e+00j]\n",
      " [ 0.+0.0000000e+00j  1.+0.0000000e+00j  0.+0.0000000e+00j\n",
      "   0.+0.0000000e+00j  0.+0.0000000e+00j  0.+0.0000000e+00j\n",
      "   0.+0.0000000e+00j  0.+0.0000000e+00j]\n",
      " [ 0.+0.0000000e+00j  0.+0.0000000e+00j  1.+0.0000000e+00j\n",
      "   0.+0.0000000e+00j  0.+0.0000000e+00j  0.+0.0000000e+00j\n",
      "   0.+0.0000000e+00j  0.+0.0000000e+00j]\n",
      " [ 0.+0.0000000e+00j  0.+0.0000000e+00j  0.+0.0000000e+00j\n",
      "   1.+0.0000000e+00j  0.+0.0000000e+00j  0.+0.0000000e+00j\n",
      "   0.+0.0000000e+00j  0.+0.0000000e+00j]\n",
      " [ 0.+0.0000000e+00j  0.+0.0000000e+00j  0.+0.0000000e+00j\n",
      "   0.+0.0000000e+00j -1.+4.4408921e-16j  0.+0.0000000e+00j\n",
      "   0.+0.0000000e+00j  0.+0.0000000e+00j]\n",
      " [ 0.+0.0000000e+00j  0.+0.0000000e+00j  0.+0.0000000e+00j\n",
      "   0.+0.0000000e+00j  0.+0.0000000e+00j -1.+4.4408921e-16j\n",
      "   0.+0.0000000e+00j  0.+0.0000000e+00j]\n",
      " [ 0.+0.0000000e+00j  0.+0.0000000e+00j  0.+0.0000000e+00j\n",
      "   0.+0.0000000e+00j  0.+0.0000000e+00j  0.+0.0000000e+00j\n",
      "  -1.+4.4408921e-16j  0.+0.0000000e+00j]\n",
      " [ 0.+0.0000000e+00j  0.+0.0000000e+00j  0.+0.0000000e+00j\n",
      "   0.+0.0000000e+00j  0.+0.0000000e+00j  0.+0.0000000e+00j\n",
      "   0.+0.0000000e+00j -1.+4.4408921e-16j]]\n",
      "U1 =\n",
      "[[1.00000000e+00+0.j 0.00000000e+00+0.j 0.00000000e+00+0.j\n",
      "  0.00000000e+00+0.j 0.00000000e+00+0.j 0.00000000e+00+0.j\n",
      "  0.00000000e+00+0.j 0.00000000e+00+0.j]\n",
      " [0.00000000e+00+0.j 1.00000000e+00+0.j 0.00000000e+00+0.j\n",
      "  0.00000000e+00+0.j 0.00000000e+00+0.j 0.00000000e+00+0.j\n",
      "  0.00000000e+00+0.j 0.00000000e+00+0.j]\n",
      " [0.00000000e+00+0.j 0.00000000e+00+0.j 1.00000000e+00+0.j\n",
      "  0.00000000e+00+0.j 0.00000000e+00+0.j 0.00000000e+00+0.j\n",
      "  0.00000000e+00+0.j 0.00000000e+00+0.j]\n",
      " [0.00000000e+00+0.j 0.00000000e+00+0.j 0.00000000e+00+0.j\n",
      "  1.00000000e+00+0.j 0.00000000e+00+0.j 0.00000000e+00+0.j\n",
      "  0.00000000e+00+0.j 0.00000000e+00+0.j]\n",
      " [0.00000000e+00+0.j 0.00000000e+00+0.j 0.00000000e+00+0.j\n",
      "  0.00000000e+00+0.j 2.22044605e-16+1.j 0.00000000e+00+0.j\n",
      "  0.00000000e+00+0.j 0.00000000e+00+0.j]\n",
      " [0.00000000e+00+0.j 0.00000000e+00+0.j 0.00000000e+00+0.j\n",
      "  0.00000000e+00+0.j 0.00000000e+00+0.j 2.22044605e-16+1.j\n",
      "  0.00000000e+00+0.j 0.00000000e+00+0.j]\n",
      " [0.00000000e+00+0.j 0.00000000e+00+0.j 0.00000000e+00+0.j\n",
      "  0.00000000e+00+0.j 0.00000000e+00+0.j 0.00000000e+00+0.j\n",
      "  2.22044605e-16+1.j 0.00000000e+00+0.j]\n",
      " [0.00000000e+00+0.j 0.00000000e+00+0.j 0.00000000e+00+0.j\n",
      "  0.00000000e+00+0.j 0.00000000e+00+0.j 0.00000000e+00+0.j\n",
      "  0.00000000e+00+0.j 2.22044605e-16+1.j]]\n",
      "U2 =\n",
      "[[0.        +0.j         0.        +0.j         1.        +0.j\n",
      "  0.        +0.j         0.        +0.j         0.        +0.j\n",
      "  0.        +0.j         0.        +0.j        ]\n",
      " [0.        +0.j         0.        +0.j         0.        +0.j\n",
      "  1.        +0.j         0.        +0.j         0.        +0.j\n",
      "  0.        +0.j         0.        +0.j        ]\n",
      " [1.        +0.j         0.        +0.j         0.        +0.j\n",
      "  0.        +0.j         0.        +0.j         0.        +0.j\n",
      "  0.        +0.j         0.        +0.j        ]\n",
      " [0.        +0.j         1.        +0.j         0.        +0.j\n",
      "  0.        +0.j         0.        +0.j         0.        +0.j\n",
      "  0.        +0.j         0.        +0.j        ]\n",
      " [0.        +0.j         0.        +0.j         0.        +0.j\n",
      "  0.        +0.j         0.        +0.j         0.        +0.j\n",
      "  0.70710678+0.70710678j 0.        +0.j        ]\n",
      " [0.        +0.j         0.        +0.j         0.        +0.j\n",
      "  0.        +0.j         0.        +0.j         0.        +0.j\n",
      "  0.        +0.j         0.70710678+0.70710678j]\n",
      " [0.        +0.j         0.        +0.j         0.        +0.j\n",
      "  0.        +0.j         0.70710678+0.70710678j 0.        +0.j\n",
      "  0.        +0.j         0.        +0.j        ]\n",
      " [0.        +0.j         0.        +0.j         0.        +0.j\n",
      "  0.        +0.j         0.        +0.j         0.70710678+0.70710678j\n",
      "  0.        +0.j         0.        +0.j        ]]\n",
      "M0 =\n",
      "[-0.        +0.00000000e+00j -0.        +0.00000000e+00j\n",
      " -0.        +0.00000000e+00j -0.        +0.00000000e+00j\n",
      "  0.70710678+0.00000000e+00j -0.        +0.00000000e+00j\n",
      "  0.70710678+5.55111512e-17j -0.        +0.00000000e+00j]\n",
      "\n"
     ]
    }
   ],
   "source": [
    "print(qml.draw(quantum_phase_estimation)())"
   ]
  },
  {
   "cell_type": "code",
   "execution_count": null,
   "id": "befa2c47-199f-4d7f-bd0f-1d9a1cb05ca4",
   "metadata": {},
   "outputs": [],
   "source": []
  }
 ],
 "metadata": {
  "kernelspec": {
   "display_name": "PennyLane",
   "language": "python",
   "name": "pennylane"
  },
  "language_info": {
   "codemirror_mode": {
    "name": "ipython",
    "version": 3
   },
   "file_extension": ".py",
   "mimetype": "text/x-python",
   "name": "python",
   "nbconvert_exporter": "python",
   "pygments_lexer": "ipython3",
   "version": "3.8.12"
  }
 },
 "nbformat": 4,
 "nbformat_minor": 5
}
