{
 "cells": [
  {
   "cell_type": "markdown",
   "id": "2944e1a3-aae3-40ed-ad15-b9002c1aac81",
   "metadata": {},
   "source": [
    "# Demos: Lecture 7"
   ]
  },
  {
   "cell_type": "markdown",
   "id": "6160520c-3db8-467a-a6bc-3fd8e1ce9d54",
   "metadata": {},
   "source": [
    "## Demo 1: Deutsch's algorithm"
   ]
  },
  {
   "cell_type": "markdown",
   "id": "e27598eb-14fb-4988-b463-64f2e184540f",
   "metadata": {},
   "source": [
    "\n",
    "<img src=\"fig/deutsch_2.png\">"
   ]
  },
  {
   "cell_type": "markdown",
   "id": "7f2cdc57-ee2d-4b4d-9db3-54b76c9441b2",
   "metadata": {},
   "source": [
    "<img src=\"fig/deutsch_oracles.png\" width=\"400px\">"
   ]
  },
  {
   "cell_type": "markdown",
   "id": "791fb07d-2803-4c3d-8db4-204d64521865",
   "metadata": {},
   "source": [
    "## Demo 2: Grover's algorithm"
   ]
  },
  {
   "cell_type": "markdown",
   "id": "9a4c5242-c8e1-4bed-956f-5030a941d932",
   "metadata": {},
   "source": [
    "<img src=\"fig/grover_full.png\" width=\"500px\">"
   ]
  },
  {
   "cell_type": "code",
   "execution_count": null,
   "id": "fa18b6e2-989a-454b-a48a-d4616bee7f0d",
   "metadata": {},
   "outputs": [],
   "source": []
  }
 ],
 "metadata": {
  "kernelspec": {
   "display_name": "Python 3",
   "language": "python",
   "name": "python3"
  },
  "language_info": {
   "codemirror_mode": {
    "name": "ipython",
    "version": 3
   },
   "file_extension": ".py",
   "mimetype": "text/x-python",
   "name": "python",
   "nbconvert_exporter": "python",
   "pygments_lexer": "ipython3",
   "version": "3.8.5"
  }
 },
 "nbformat": 4,
 "nbformat_minor": 5
}
