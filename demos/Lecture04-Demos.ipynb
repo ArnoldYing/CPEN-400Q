{
 "cells": [
  {
   "cell_type": "markdown",
   "metadata": {},
   "source": [
    "# Demos: Lecture 4"
   ]
  },
  {
   "cell_type": "code",
   "execution_count": 1,
   "metadata": {},
   "outputs": [
    {
     "name": "stderr",
     "output_type": "stream",
     "text": [
      "/opt/conda/envs/pennylane/lib/python3.8/site-packages/_distutils_hack/__init__.py:30: UserWarning: Setuptools is replacing distutils.\n",
      "  warnings.warn(\"Setuptools is replacing distutils.\")\n"
     ]
    }
   ],
   "source": [
    "import pennylane as qml\n",
    "import numpy as np"
   ]
  },
  {
   "cell_type": "markdown",
   "metadata": {},
   "source": [
    "## Demo 1: `qml.ctrl`"
   ]
  },
  {
   "cell_type": "code",
   "execution_count": 7,
   "metadata": {},
   "outputs": [],
   "source": [
    "def some_function():\n",
    "    qml.PauliX(wires=1)\n",
    "    qml.CNOT(wires=[1, 2])\n",
    "    \n",
    "    qml.Hadamard(wires=2)\n",
    "    qml.CRX(0.3, wires=[2, 1])"
   ]
  },
  {
   "cell_type": "code",
   "execution_count": 8,
   "metadata": {},
   "outputs": [],
   "source": [
    "dev = qml.device('default.qubit', wires=3)\n",
    "\n",
    "@qml.qnode(dev)\n",
    "def control_the_thing():\n",
    "    qml.Hadamard(wires=0)\n",
    "    \n",
    "    qml.ctrl(some_function, control=0)()\n",
    "    \n",
    "    return qml.state()"
   ]
  },
  {
   "cell_type": "code",
   "execution_count": 9,
   "metadata": {},
   "outputs": [
    {
     "data": {
      "text/plain": [
       "tensor([ 7.07106781e-01+0.00000000e+00j,  0.00000000e+00+0.00000000e+00j,\n",
       "         0.00000000e+00+0.00000000e+00j,  0.00000000e+00+0.00000000e+00j,\n",
       "        -3.85185989e-34-4.90653893e-18j,  2.08166817e-17+7.47190662e-02j,\n",
       "         5.00000000e-01+0.00000000e+00j, -4.94385539e-01+8.32667268e-17j], requires_grad=True)"
      ]
     },
     "execution_count": 9,
     "metadata": {},
     "output_type": "execute_result"
    }
   ],
   "source": [
    "control_the_thing()"
   ]
  },
  {
   "cell_type": "code",
   "execution_count": 10,
   "metadata": {},
   "outputs": [
    {
     "name": "stdout",
     "output_type": "stream",
     "text": [
      " 0: ──H──╭C──╭C──╭ControlledPhaseShift(1.57)──╭C─────────╭ControlledPhaseShift(1.57)──╭C─────────╭C─────────╭C──╭C──────────╭C──╭C──────────╭┤ State \n",
      " 1: ─────╰X──├C──│────────────────────────────│──────────│────────────────────────────╰RZ(1.57)──╰RY(0.15)──├X──╰RY(-0.15)──├X──╰RZ(-1.57)──├┤ State \n",
      " 2: ─────────╰X──╰ControlledPhaseShift(1.57)──╰RX(1.57)──╰ControlledPhaseShift(1.57)────────────────────────╰C──────────────╰C──────────────╰┤ State \n",
      "\n"
     ]
    }
   ],
   "source": [
    "print(qml.draw(control_the_thing, expansion_strategy='device')())"
   ]
  },
  {
   "cell_type": "markdown",
   "metadata": {},
   "source": [
    "## Demo 2: multi-qubit measurements"
   ]
  },
  {
   "cell_type": "code",
   "execution_count": 21,
   "metadata": {},
   "outputs": [],
   "source": [
    "dev = qml.device('default.qubit', wires=3)#, shots=10)\n",
    "\n",
    "@qml.qnode(dev)\n",
    "def something_parametrized(x, y):\n",
    "    qml.Hadamard(wires=0)\n",
    "    qml.CRX(x, wires=[0, 1])\n",
    "    qml.CRY(y, wires=[1, 2])\n",
    "    \n",
    "    return qml.probs(wires=[0])"
   ]
  },
  {
   "cell_type": "code",
   "execution_count": 22,
   "metadata": {},
   "outputs": [
    {
     "data": {
      "text/plain": [
       "tensor([0.5, 0.5], requires_grad=True)"
      ]
     },
     "execution_count": 22,
     "metadata": {},
     "output_type": "execute_result"
    }
   ],
   "source": [
    "something_parametrized(0.1, 0.2)"
   ]
  },
  {
   "cell_type": "markdown",
   "metadata": {},
   "source": [
    "## Demo 3: multi-qubit expectation values"
   ]
  },
  {
   "cell_type": "code",
   "execution_count": 23,
   "metadata": {},
   "outputs": [],
   "source": [
    "dev = qml.device('default.qubit', wires=3)#, shots=10)\n",
    "\n",
    "@qml.qnode(dev)\n",
    "def something_parametrized(x, y):\n",
    "    qml.Hadamard(wires=0)\n",
    "    qml.CRX(x, wires=[0, 1])\n",
    "    qml.CRY(y, wires=[1, 2])\n",
    "    \n",
    "    return qml.expval(qml.PauliZ(0)), qml.expval(qml.PauliZ(1)), qml.expval(qml.PauliZ(2))"
   ]
  },
  {
   "cell_type": "code",
   "execution_count": 24,
   "metadata": {},
   "outputs": [
    {
     "data": {
      "text/plain": [
       "tensor([5.55111512e-17, 9.77668245e-01, 9.99118577e-01], requires_grad=True)"
      ]
     },
     "execution_count": 24,
     "metadata": {},
     "output_type": "execute_result"
    }
   ],
   "source": [
    "something_parametrized(0.3, 0.4)"
   ]
  },
  {
   "cell_type": "code",
   "execution_count": 25,
   "metadata": {},
   "outputs": [],
   "source": [
    "dev = qml.device('default.qubit', wires=3)#, shots=10)\n",
    "\n",
    "@qml.qnode(dev)\n",
    "def something_parametrized(x, y):\n",
    "    qml.Hadamard(wires=0)\n",
    "    qml.CRX(x, wires=[0, 1])\n",
    "    qml.CRY(y, wires=[1, 2])\n",
    "    \n",
    "    return qml.expval(qml.PauliX(0) @ qml.PauliX(1) @ qml.PauliY(2))"
   ]
  },
  {
   "cell_type": "code",
   "execution_count": 26,
   "metadata": {},
   "outputs": [
    {
     "data": {
      "text/plain": [
       "tensor(-0.02968877, requires_grad=True)"
      ]
     },
     "execution_count": 26,
     "metadata": {},
     "output_type": "execute_result"
    }
   ],
   "source": [
    "something_parametrized(0.3, 0.4)"
   ]
  },
  {
   "cell_type": "markdown",
   "metadata": {},
   "source": [
    "## Demo 4: superdense coding"
   ]
  },
  {
   "cell_type": "markdown",
   "metadata": {},
   "source": [
    "<img src=\"fig/superdense.png\" width=\"600px\">"
   ]
  },
  {
   "cell_type": "code",
   "execution_count": 29,
   "metadata": {},
   "outputs": [],
   "source": [
    "dev = qml.device('default.qubit', wires=2, shots=1)\n",
    "\n",
    "def create_entangled_state(wires=None):\n",
    "    qml.Hadamard(wires=wires[0])\n",
    "    qml.CNOT(wires=[wires[0], wires[1]])\n",
    "    \n",
    "@qml.qnode(dev)\n",
    "def superdense_coding(b1=0, b2=0):\n",
    "    create_entangled_state(wires=[0, 1])\n",
    "    \n",
    "    if b1 == 1:\n",
    "        qml.PauliZ(wires=0)\n",
    "        \n",
    "    if b2 == 1:\n",
    "        qml.PauliX(wires=0)\n",
    "        \n",
    "    qml.adjoint(create_entangled_state)(wires=[0, 1])\n",
    "    \n",
    "    return qml.sample()"
   ]
  },
  {
   "cell_type": "code",
   "execution_count": 33,
   "metadata": {},
   "outputs": [
    {
     "data": {
      "text/plain": [
       "tensor([1, 0], requires_grad=True)"
      ]
     },
     "execution_count": 33,
     "metadata": {},
     "output_type": "execute_result"
    }
   ],
   "source": [
    "superdense_coding(b1=1, b2=0)"
   ]
  },
  {
   "cell_type": "markdown",
   "metadata": {},
   "source": [
    "## Demo 5: teleportation "
   ]
  },
  {
   "cell_type": "markdown",
   "metadata": {},
   "source": [
    "<img src=\"fig/teleportation_deferred.png\" width=\"800px\">"
   ]
  }
 ],
 "metadata": {
  "kernelspec": {
   "display_name": "PennyLane",
   "language": "python",
   "name": "pennylane"
  },
  "language_info": {
   "codemirror_mode": {
    "name": "ipython",
    "version": 3
   },
   "file_extension": ".py",
   "mimetype": "text/x-python",
   "name": "python",
   "nbconvert_exporter": "python",
   "pygments_lexer": "ipython3",
   "version": "3.8.12"
  }
 },
 "nbformat": 4,
 "nbformat_minor": 4
}
