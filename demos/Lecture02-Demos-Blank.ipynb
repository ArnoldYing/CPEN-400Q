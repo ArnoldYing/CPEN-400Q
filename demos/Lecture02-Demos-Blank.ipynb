{
 "cells": [
  {
   "cell_type": "markdown",
   "id": "877db40a-e5e9-462a-84e5-0e2f52b93597",
   "metadata": {},
   "source": [
    "# Demos: Lecture 2"
   ]
  },
  {
   "cell_type": "markdown",
   "id": "d7f6550f-3b76-4b19-8bd1-e41bbe7cab4c",
   "metadata": {},
   "source": [
    "## Demo 1: QNodes"
   ]
  },
  {
   "cell_type": "markdown",
   "id": "822cc78c-1331-4a04-9461-79e561a30748",
   "metadata": {},
   "source": [
    "## Demo 2: relative phases"
   ]
  },
  {
   "cell_type": "markdown",
   "id": "e3822577-7637-40e0-8459-e2c6abdb5a0c",
   "metadata": {},
   "source": [
    "## Demo 3: universality of Pauli rotations"
   ]
  },
  {
   "cell_type": "markdown",
   "id": "3ed4b7bf-b358-4c94-901a-ce7a553967ad",
   "metadata": {},
   "source": [
    "## Demo 4: expectation values "
   ]
  },
  {
   "cell_type": "markdown",
   "id": "14eb297d-f09b-4d36-93db-2d02c7a4e006",
   "metadata": {},
   "source": [
    "## Demo 5: basis rotation"
   ]
  }
 ],
 "metadata": {
  "kernelspec": {
   "display_name": "Python 3",
   "language": "python",
   "name": "python3"
  },
  "language_info": {
   "codemirror_mode": {
    "name": "ipython",
    "version": 3
   },
   "file_extension": ".py",
   "mimetype": "text/x-python",
   "name": "python",
   "nbconvert_exporter": "python",
   "pygments_lexer": "ipython3",
   "version": "3.8.5"
  }
 },
 "nbformat": 4,
 "nbformat_minor": 5
}
