{
 "cells": [
  {
   "cell_type": "markdown",
   "id": "877db40a-e5e9-462a-84e5-0e2f52b93597",
   "metadata": {},
   "source": [
    "# Demos: Lecture 2"
   ]
  },
  {
   "cell_type": "markdown",
   "id": "d7f6550f-3b76-4b19-8bd1-e41bbe7cab4c",
   "metadata": {},
   "source": [
    "## Demo 1: QNodes"
   ]
  },
  {
   "cell_type": "markdown",
   "id": "fa6c1c7d-d6ec-4170-ba10-731ff6ead12c",
   "metadata": {},
   "source": [
    "<img src=\"fig/xzh.png\" width=300>"
   ]
  },
  {
   "cell_type": "code",
   "execution_count": null,
   "id": "3ee4789b-cf09-4233-8173-addff20dead8",
   "metadata": {},
   "outputs": [],
   "source": [
    " "
   ]
  },
  {
   "cell_type": "markdown",
   "id": "822cc78c-1331-4a04-9461-79e561a30748",
   "metadata": {},
   "source": [
    "## Exercise 1: relative phases"
   ]
  },
  {
   "cell_type": "markdown",
   "id": "892b9555-047a-491f-9657-696f74410ee1",
   "metadata": {},
   "source": [
    "Implement the circuit in the picture. Run it on a device with 1000 shots, and try two different values of $\\theta$. How does $\\theta$ affect the measurement outcome probabilites?\n",
    "\n",
    "<img src=\"fig/exercise-circuit.png\" width=300>"
   ]
  },
  {
   "cell_type": "code",
   "execution_count": null,
   "id": "e63e36f7-16c1-471f-af8b-bd9bb3605ca3",
   "metadata": {},
   "outputs": [],
   "source": []
  },
  {
   "cell_type": "code",
   "execution_count": null,
   "id": "31743d0d-a39b-4963-85b2-b75706669cac",
   "metadata": {},
   "outputs": [],
   "source": []
  },
  {
   "cell_type": "code",
   "execution_count": null,
   "id": "c5d36a04-4322-4e2d-a111-ef113cee9ac9",
   "metadata": {},
   "outputs": [],
   "source": []
  },
  {
   "cell_type": "markdown",
   "id": "dacdd8f6-8ef0-4cb6-83b4-947df3d01713",
   "metadata": {},
   "source": [
    "## Exercise 2: state preparation"
   ]
  },
  {
   "cell_type": "markdown",
   "id": "e101b5e3-c666-4432-8855-bd20afd3347e",
   "metadata": {},
   "source": [
    "Write a QNode that prepares the quantum state\n",
    "\n",
    "$$\n",
    "\\begin{equation*}\n",
    "|\\psi \\rangle = \\frac{\\sqrt{3}}{2}|0 \\rangle  - \\frac{1}{\\sqrt{2}} e^{i\\frac{5}{4}}| 1\\rangle \n",
    "\\end{equation*}\n",
    "$$\n",
    "\n",
    "Run it on an ideal simulated device (do not set `shots`), and return `qml.state()`. "
   ]
  },
  {
   "cell_type": "code",
   "execution_count": null,
   "id": "18b32247-1868-4e5b-b157-9990cdea32bb",
   "metadata": {},
   "outputs": [],
   "source": []
  },
  {
   "cell_type": "code",
   "execution_count": null,
   "id": "83ee7943-ffaf-47d0-87e7-80f14cec606b",
   "metadata": {},
   "outputs": [],
   "source": []
  },
  {
   "cell_type": "markdown",
   "id": "e3822577-7637-40e0-8459-e2c6abdb5a0c",
   "metadata": {},
   "source": [
    "## Demo 2: universality of Pauli rotations"
   ]
  },
  {
   "cell_type": "markdown",
   "id": "8074fba9-bb3b-4e84-a542-b4561f484c3f",
   "metadata": {},
   "source": [
    "The Hadamard gate three ways."
   ]
  },
  {
   "cell_type": "code",
   "execution_count": null,
   "id": "13e68e80-18ac-4cf5-adf2-570aeff387c9",
   "metadata": {},
   "outputs": [],
   "source": [
    "def hadamard():\n",
    "    qml.Hadamard(wires=0)\n",
    "\n",
    "def hadamard_with_rzrx():\n",
    "    qml.RZ(np.pi/2, wires=0)\n",
    "    qml.RX(np.pi/2, wires=0)\n",
    "    qml.RZ(np.pi/2, wires=0)\n",
    "    \n",
    "def hadamard_with_rot():\n",
    "    qml.Rot(np.pi, np.pi/2, 0, wires=0)"
   ]
  },
  {
   "cell_type": "code",
   "execution_count": null,
   "id": "d3fe67d6-8d76-4cb1-9e79-f022fb39b6c9",
   "metadata": {},
   "outputs": [],
   "source": []
  }
 ],
 "metadata": {
  "kernelspec": {
   "display_name": "Python 3 (ipykernel)",
   "language": "python",
   "name": "python3"
  },
  "language_info": {
   "codemirror_mode": {
    "name": "ipython",
    "version": 3
   },
   "file_extension": ".py",
   "mimetype": "text/x-python",
   "name": "python",
   "nbconvert_exporter": "python",
   "pygments_lexer": "ipython3",
   "version": "3.9.7"
  }
 },
 "nbformat": 4,
 "nbformat_minor": 5
}
