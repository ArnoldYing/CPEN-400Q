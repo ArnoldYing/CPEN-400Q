{
 "cells": [
  {
   "cell_type": "markdown",
   "id": "877db40a-e5e9-462a-84e5-0e2f52b93597",
   "metadata": {},
   "source": [
    "# Demos: Lecture 2"
   ]
  },
  {
   "cell_type": "markdown",
   "id": "d7f6550f-3b76-4b19-8bd1-e41bbe7cab4c",
   "metadata": {},
   "source": [
    "## Demo 1: QNodes"
   ]
  },
  {
   "cell_type": "code",
   "execution_count": 1,
   "id": "7cc3fe5c-00ca-4010-9de9-b676c9cef037",
   "metadata": {},
   "outputs": [],
   "source": [
    "import pennylane as qml\n",
    "import numpy as np"
   ]
  },
  {
   "cell_type": "code",
   "execution_count": 2,
   "id": "313990fb-7bb4-47ac-9641-b619a8319f89",
   "metadata": {},
   "outputs": [],
   "source": [
    "dev = qml.device(\"default.qubit\", wires=1, shots=100)\n",
    "\n",
    "def my_quantum_function():\n",
    "    qml.Hadamard(wires=0)\n",
    "    qml.PauliZ(wires=0)\n",
    "    qml.PauliX(wires=0)\n",
    "    return qml.sample()"
   ]
  },
  {
   "cell_type": "code",
   "execution_count": 3,
   "id": "cd129cf8-4415-4f91-b5d5-7967f92a48f8",
   "metadata": {},
   "outputs": [],
   "source": [
    "my_qnode = qml.QNode(my_quantum_function, dev)"
   ]
  },
  {
   "cell_type": "code",
   "execution_count": 4,
   "id": "124fbb95-fa6e-47c3-aca7-21c282eec097",
   "metadata": {},
   "outputs": [],
   "source": [
    "result = my_qnode()"
   ]
  },
  {
   "cell_type": "code",
   "execution_count": 5,
   "id": "e6b4fab1-14a3-41ca-82ff-bfd042614604",
   "metadata": {},
   "outputs": [
    {
     "data": {
      "text/plain": [
       "tensor([0, 0, 1, 1, 0, 0, 0, 1, 1, 1, 1, 1, 1, 0, 1, 0, 0, 1, 0, 1, 0, 1,\n",
       "        1, 1, 0, 1, 1, 1, 0, 0, 0, 0, 0, 0, 0, 0, 0, 0, 1, 1, 1, 0, 0, 1,\n",
       "        0, 0, 1, 0, 0, 0, 0, 1, 1, 1, 0, 1, 1, 1, 0, 0, 0, 0, 1, 0, 0, 0,\n",
       "        0, 0, 1, 1, 0, 0, 0, 0, 1, 1, 0, 0, 0, 1, 1, 0, 0, 1, 1, 0, 0, 0,\n",
       "        0, 0, 0, 1, 1, 1, 1, 0, 1, 0, 0, 1], requires_grad=True)"
      ]
     },
     "execution_count": 5,
     "metadata": {},
     "output_type": "execute_result"
    }
   ],
   "source": [
    "result"
   ]
  },
  {
   "cell_type": "code",
   "execution_count": 6,
   "id": "306e2daf-a06c-4042-80d7-6e0de677e9df",
   "metadata": {},
   "outputs": [
    {
     "name": "stdout",
     "output_type": "stream",
     "text": [
      " 0: ──H──Z──X──┤ Sample[basis] \n",
      "\n"
     ]
    }
   ],
   "source": [
    "drawer = qml.draw(my_qnode)\n",
    "print(drawer())"
   ]
  },
  {
   "cell_type": "code",
   "execution_count": 9,
   "id": "f3c1d0d0-c2bf-46ea-bf27-aa7fb71fa5e7",
   "metadata": {},
   "outputs": [
    {
     "name": "stdout",
     "output_type": "stream",
     "text": [
      "(<Figure size 432x144 with 1 Axes>, <matplotlib.axes._axes.Axes object at 0x7f76d303e370>)\n"
     ]
    },
    {
     "data": {
      "image/png": "[encoded data removed]",
      "text/plain": [
       "<Figure size 432x144 with 1 Axes>"
      ]
     },
     "metadata": {},
     "output_type": "display_data"
    }
   ],
   "source": [
    "qml.drawer.use_style('black_white')\n",
    "drawer = qml.draw_mpl(my_qnode)\n",
    "print(drawer())"
   ]
  },
  {
   "cell_type": "markdown",
   "id": "822cc78c-1331-4a04-9461-79e561a30748",
   "metadata": {},
   "source": [
    "## Demo 2: relative phases"
   ]
  },
  {
   "cell_type": "code",
   "execution_count": 13,
   "id": "31743d0d-a39b-4963-85b2-b75706669cac",
   "metadata": {},
   "outputs": [],
   "source": [
    "@qml.qnode(dev)\n",
    "def rotate_with_rz(theta):\n",
    "    qml.Hadamard(wires=0)\n",
    "    qml.RZ(theta, wires=0)\n",
    "    return qml.sample()"
   ]
  },
  {
   "cell_type": "code",
   "execution_count": 14,
   "id": "a0603655-9d0e-42ab-aa75-1dc20c582bad",
   "metadata": {},
   "outputs": [
    {
     "data": {
      "text/plain": [
       "tensor([1, 0, 1, 1, 0, 0, 1, 0, 0, 0, 1, 1, 1, 1, 1, 1, 1, 0, 0, 1, 1, 1,\n",
       "        1, 0, 1, 1, 1, 0, 0, 1, 1, 1, 0, 0, 0, 0, 0, 0, 0, 0, 1, 0, 0, 1,\n",
       "        1, 1, 0, 1, 1, 0, 0, 1, 1, 1, 1, 0, 0, 0, 0, 0, 0, 0, 1, 0, 0, 1,\n",
       "        1, 1, 0, 1, 1, 1, 1, 0, 0, 0, 1, 0, 1, 0, 0, 0, 1, 0, 1, 0, 1, 0,\n",
       "        1, 1, 1, 1, 1, 0, 1, 0, 1, 0, 1, 0], requires_grad=True)"
      ]
     },
     "execution_count": 14,
     "metadata": {},
     "output_type": "execute_result"
    }
   ],
   "source": [
    "rotate_with_rz(0.2)"
   ]
  },
  {
   "cell_type": "code",
   "execution_count": 15,
   "id": "cb89ca80-69ac-4870-bf38-25d03be38825",
   "metadata": {},
   "outputs": [
    {
     "data": {
      "text/plain": [
       "tensor(0.49, requires_grad=True)"
      ]
     },
     "execution_count": 15,
     "metadata": {},
     "output_type": "execute_result"
    }
   ],
   "source": [
    "np.mean(rotate_with_rz(0.7))"
   ]
  },
  {
   "cell_type": "code",
   "execution_count": 18,
   "id": "41c7950c-dc48-4dfd-a9e0-d5f8af61c511",
   "metadata": {},
   "outputs": [],
   "source": [
    "@qml.qnode(dev)\n",
    "def rotate_with_rz(theta):\n",
    "    qml.Hadamard(wires=0)\n",
    "    qml.RZ(theta, wires=0)\n",
    "    return qml.probs()"
   ]
  },
  {
   "cell_type": "code",
   "execution_count": 22,
   "id": "7f5b1694-4697-4a7f-b3ac-d7a86f553a58",
   "metadata": {},
   "outputs": [
    {
     "data": {
      "text/plain": [
       "tensor([0.47, 0.53], requires_grad=True)"
      ]
     },
     "execution_count": 22,
     "metadata": {},
     "output_type": "execute_result"
    }
   ],
   "source": [
    "rotate_with_rz(0.6)"
   ]
  },
  {
   "cell_type": "code",
   "execution_count": 23,
   "id": "203f2c41-4cd2-4198-846e-1647b7e8a3a4",
   "metadata": {},
   "outputs": [],
   "source": [
    "@qml.qnode(dev)\n",
    "def rotate_with_rx(theta):\n",
    "    qml.RX(theta, wires=0)\n",
    "    return qml.sample()"
   ]
  },
  {
   "cell_type": "code",
   "execution_count": 24,
   "id": "d515876e-e464-4d60-b99c-52f3d10f749e",
   "metadata": {},
   "outputs": [
    {
     "data": {
      "text/plain": [
       "tensor([0, 0, 1, 0, 1, 0, 1, 1, 0, 0, 0, 1, 0, 0, 0, 0, 1, 1, 0, 0, 1, 0,\n",
       "        1, 1, 0, 1, 0, 1, 1, 0, 1, 0, 0, 0, 1, 0, 0, 1, 0, 0, 0, 0, 1, 1,\n",
       "        1, 1, 0, 1, 1, 1, 1, 1, 0, 1, 0, 0, 1, 0, 0, 0, 0, 0, 1, 0, 0, 0,\n",
       "        0, 0, 0, 0, 1, 0, 0, 0, 0, 0, 0, 1, 0, 1, 0, 0, 0, 1, 0, 0, 1, 1,\n",
       "        1, 0, 0, 1, 0, 0, 1, 0, 0, 0, 0, 0], requires_grad=True)"
      ]
     },
     "execution_count": 24,
     "metadata": {},
     "output_type": "execute_result"
    }
   ],
   "source": [
    "rotate_with_rx(1.5)"
   ]
  },
  {
   "cell_type": "code",
   "execution_count": 35,
   "id": "38600c27-6bf5-4700-9b6a-c8789ba49b00",
   "metadata": {},
   "outputs": [
    {
     "data": {
      "text/plain": [
       "tensor(0.37, requires_grad=True)"
      ]
     },
     "execution_count": 35,
     "metadata": {},
     "output_type": "execute_result"
    }
   ],
   "source": [
    "np.mean(rotate_with_rx(1.5))"
   ]
  },
  {
   "cell_type": "code",
   "execution_count": 25,
   "id": "e837f97c-286d-4550-bc82-6db43fea706a",
   "metadata": {},
   "outputs": [],
   "source": [
    "@qml.qnode(dev)\n",
    "def rotate_with_rx(theta):\n",
    "    qml.RX(theta, wires=0)\n",
    "    return qml.state()"
   ]
  },
  {
   "cell_type": "code",
   "execution_count": 26,
   "id": "cb301fa5-3ce7-4fb9-afd0-402d23222995",
   "metadata": {},
   "outputs": [
    {
     "name": "stdout",
     "output_type": "stream",
     "text": [
      "(<Figure size 288x144 with 1 Axes>, <matplotlib.axes._axes.Axes object at 0x7f76d2face20>)\n"
     ]
    },
    {
     "data": {
      "image/png": "[encoded data removed]",
      "text/plain": [
       "<Figure size 288x144 with 1 Axes>"
      ]
     },
     "metadata": {},
     "output_type": "display_data"
    }
   ],
   "source": [
    "print(qml.draw_mpl(rotate_with_rx)(1.5))"
   ]
  },
  {
   "cell_type": "code",
   "execution_count": 27,
   "id": "f00e9cf3-8179-4648-83d3-c651fed8fbba",
   "metadata": {},
   "outputs": [
    {
     "data": {
      "text/plain": [
       "tensor([0.73168887+0.j        , 0.        -0.68163876j], requires_grad=True)"
      ]
     },
     "execution_count": 27,
     "metadata": {},
     "output_type": "execute_result"
    }
   ],
   "source": [
    "rotate_with_rx(1.5)"
   ]
  },
  {
   "cell_type": "code",
   "execution_count": 28,
   "id": "ec7d8432-6f15-4e46-8c3d-80693bdc4838",
   "metadata": {},
   "outputs": [
    {
     "data": {
      "text/plain": [
       "tensor([0.73168887+0.j        , 0.        +0.68163876j], requires_grad=True)"
      ]
     },
     "execution_count": 28,
     "metadata": {},
     "output_type": "execute_result"
    }
   ],
   "source": [
    "rotate_with_rx(-1.5)"
   ]
  },
  {
   "cell_type": "code",
   "execution_count": 31,
   "id": "2d551258-7199-42b1-a200-d19d6928ccad",
   "metadata": {},
   "outputs": [],
   "source": [
    "@qml.qnode(dev)\n",
    "def rotate_with_adjoint(theta):\n",
    "    qml.adjoint(qml.RX)(theta, wires=0)\n",
    "    return qml.state()"
   ]
  },
  {
   "cell_type": "code",
   "execution_count": 32,
   "id": "bcef4036-dd29-434e-ab82-0bb8981d0f50",
   "metadata": {},
   "outputs": [
    {
     "data": {
      "text/plain": [
       "tensor([0.73168887+0.j        , 0.        +0.68163876j], requires_grad=True)"
      ]
     },
     "execution_count": 32,
     "metadata": {},
     "output_type": "execute_result"
    }
   ],
   "source": [
    "rotate_with_adjoint(1.5)"
   ]
  },
  {
   "cell_type": "markdown",
   "id": "e3822577-7637-40e0-8459-e2c6abdb5a0c",
   "metadata": {},
   "source": [
    "## Demo 3: universality of Pauli rotations"
   ]
  },
  {
   "cell_type": "markdown",
   "id": "8074fba9-bb3b-4e84-a542-b4561f484c3f",
   "metadata": {},
   "source": [
    "The Hadamard gate three ways."
   ]
  },
  {
   "cell_type": "code",
   "execution_count": 23,
   "id": "13e68e80-18ac-4cf5-adf2-570aeff387c9",
   "metadata": {},
   "outputs": [],
   "source": [
    "def hadamard():\n",
    "    qml.Hadamard(wires=0)\n",
    "\n",
    "def hadamard_with_rzrx():\n",
    "    qml.RZ(np.pi/2, wires=0)\n",
    "    qml.RX(np.pi/2, wires=0)\n",
    "    qml.RZ(np.pi/2, wires=0)\n",
    "    \n",
    "def hadamard_with_rot():\n",
    "    qml.Rot(np.pi, np.pi/2, 0, wires=0)"
   ]
  },
  {
   "cell_type": "code",
   "execution_count": 6,
   "id": "663c9f2d-70cd-46cd-97f4-a0141cb0ce0a",
   "metadata": {},
   "outputs": [
    {
     "name": "stdout",
     "output_type": "stream",
     "text": [
      "[[ 0.70710678  0.70710678]\n",
      " [ 0.70710678 -0.70710678]]\n"
     ]
    }
   ],
   "source": [
    "hadamard_mat = qml.transforms.get_unitary_matrix(hadamard)\n",
    "print(hadamard_mat())"
   ]
  },
  {
   "cell_type": "code",
   "execution_count": 9,
   "id": "f4e3c8e0-193e-4e00-8305-14bf7291b02d",
   "metadata": {},
   "outputs": [
    {
     "name": "stdout",
     "output_type": "stream",
     "text": [
      "[[1.11022302e-16-0.70710678j 0.00000000e+00-0.70710678j]\n",
      " [0.00000000e+00-0.70710678j 1.11022302e-16+0.70710678j]]\n"
     ]
    }
   ],
   "source": [
    "hadamard_with_rzrx_mat = qml.transforms.get_unitary_matrix(hadamard_with_rzrx)\n",
    "print(hadamard_with_rzrx_mat())"
   ]
  },
  {
   "cell_type": "code",
   "execution_count": 10,
   "id": "66f40e6e-fd93-4ca5-8863-060fa4050beb",
   "metadata": {},
   "outputs": [],
   "source": [
    "mat1 = hadamard_mat()\n",
    "mat2 = hadamard_with_rzrx_mat()"
   ]
  },
  {
   "cell_type": "code",
   "execution_count": 12,
   "id": "209b6c8b-a51d-412f-8e24-99aae56ff6ea",
   "metadata": {},
   "outputs": [
    {
     "data": {
      "text/plain": [
       "False"
      ]
     },
     "execution_count": 12,
     "metadata": {},
     "output_type": "execute_result"
    }
   ],
   "source": [
    "np.allclose(mat1, mat2)"
   ]
  },
  {
   "cell_type": "code",
   "execution_count": 13,
   "id": "28c3f374-8b42-4188-bea5-90a4ac57493a",
   "metadata": {},
   "outputs": [
    {
     "data": {
      "text/plain": [
       "array([[0.-0.7071j, 0.-0.7071j],\n",
       "       [0.-0.7071j, 0.+0.7071j]])"
      ]
     },
     "execution_count": 13,
     "metadata": {},
     "output_type": "execute_result"
    }
   ],
   "source": [
    "np.round(mat2, decimals=4)"
   ]
  },
  {
   "cell_type": "code",
   "execution_count": 16,
   "id": "e74074c8-f1ef-492d-9922-8e200a640516",
   "metadata": {},
   "outputs": [
    {
     "data": {
      "text/plain": [
       "array([[ 0.+1.j,  0.-0.j],\n",
       "       [ 0.+0.j, -0.+1.j]])"
      ]
     },
     "execution_count": 16,
     "metadata": {},
     "output_type": "execute_result"
    }
   ],
   "source": [
    "np.round(np.dot(mat1, np.conj(mat2.T)), decimals=4)"
   ]
  },
  {
   "cell_type": "code",
   "execution_count": 24,
   "id": "f8cec450-7193-49c5-b57d-dac72be59dd5",
   "metadata": {},
   "outputs": [],
   "source": [
    "hadamard_with_rot_mat = qml.transforms.get_unitary_matrix(hadamard_with_rot)\n",
    "mat3 = hadamard_with_rot_mat()"
   ]
  },
  {
   "cell_type": "code",
   "execution_count": 25,
   "id": "032e4ff5-4707-4faf-93f6-6af547ad5f01",
   "metadata": {},
   "outputs": [
    {
     "data": {
      "text/plain": [
       "array([[ 0.-0.7071j, -0.-0.7071j],\n",
       "       [ 0.-0.7071j,  0.+0.7071j]])"
      ]
     },
     "execution_count": 25,
     "metadata": {},
     "output_type": "execute_result"
    }
   ],
   "source": [
    "np.round(mat3, decimals=4)"
   ]
  },
  {
   "cell_type": "markdown",
   "id": "3ed4b7bf-b358-4c94-901a-ce7a553967ad",
   "metadata": {},
   "source": [
    "## Demo 4: expectation values "
   ]
  },
  {
   "cell_type": "code",
   "execution_count": 57,
   "id": "15b8a9c0-192f-4a11-aa81-5660ede82f39",
   "metadata": {},
   "outputs": [],
   "source": [
    "dev = qml.device('default.qubit', wires=1)\n",
    "  \n",
    "@qml.qnode(dev)\n",
    "def measure_z():\n",
    "    qml.RX(2*np.pi/3, wires=0)    \n",
    "    return qml.expval(qml.PauliZ(0))\n",
    "    #return qml.state()"
   ]
  },
  {
   "cell_type": "code",
   "execution_count": 58,
   "id": "e1f1978c-07c2-48d2-8899-87d2a03058a6",
   "metadata": {},
   "outputs": [
    {
     "data": {
      "text/plain": [
       "tensor(-0.8660254, requires_grad=True)"
      ]
     },
     "execution_count": 58,
     "metadata": {},
     "output_type": "execute_result"
    }
   ],
   "source": [
    "measure_z()"
   ]
  },
  {
   "cell_type": "code",
   "execution_count": 59,
   "id": "6b64be8d-54e5-4e93-81cb-9a3e416821d0",
   "metadata": {},
   "outputs": [],
   "source": [
    "dev = qml.device('default.qubit', wires=1, shots=1000)\n",
    "  \n",
    "@qml.qnode(dev)\n",
    "def measure_z():\n",
    "    qml.RX(2*np.pi/3, wires=0)    \n",
    "    return qml.expval(qml.PauliZ(0))\n",
    "    #return qml.state()"
   ]
  },
  {
   "cell_type": "code",
   "execution_count": 62,
   "id": "5d548458-21f0-4dea-970e-e077df7f9f85",
   "metadata": {},
   "outputs": [
    {
     "data": {
      "text/plain": [
       "tensor(-0.868, requires_grad=True)"
      ]
     },
     "execution_count": 62,
     "metadata": {},
     "output_type": "execute_result"
    }
   ],
   "source": [
    "measure_z()"
   ]
  },
  {
   "cell_type": "code",
   "execution_count": null,
   "id": "2032def3-158a-4af5-8a64-24aba0e8eacc",
   "metadata": {},
   "outputs": [],
   "source": [
    "dev = qml.device('default.qubit', wires=1, shots=1000)\n",
    "  \n",
    "@qml.qnode(dev)\n",
    "def measure_z():\n",
    "    qml.RX(2*np.pi/3, wires=0)    \n",
    "    return qml.sample(qml.PauliZ(0))\n",
    "    #return qml.state()"
   ]
  },
  {
   "cell_type": "markdown",
   "id": "14eb297d-f09b-4d36-93db-2d02c7a4e006",
   "metadata": {},
   "source": [
    "## Demo 5: basis rotation"
   ]
  },
  {
   "cell_type": "code",
   "execution_count": null,
   "id": "b2ed32ea-5e31-45bc-b852-edb365ef2a8e",
   "metadata": {},
   "outputs": [],
   "source": [
    "dev = qml.device('default.qubit', wires=1, shots=100)\n",
    "  \n",
    "def convert_from_y_basis():\n",
    "    qml.adjoint(qml.S)(wires=0)\n",
    "    qml.Hadamard(wires=0)\n",
    "    \n",
    "@qml.qnode(dev)\n",
    "def rotate_basis(x, y, z):\n",
    "    qml.RX(x, wires=0)\n",
    "    qml.RY(y, wires=0)\n",
    "    qml.RZ(z, wires=0)\n",
    "    \n",
    "    convert_from_y_basis()\n",
    "    \n",
    "    return qml.samples()"
   ]
  },
  {
   "cell_type": "code",
   "execution_count": null,
   "id": "6c38bc0a-de13-417b-8f5e-6eb3728067fb",
   "metadata": {},
   "outputs": [],
   "source": [
    "dev = qml.device('default.qubit', wires=1, shots=100)\n",
    "  \n",
    "def convert_to_y_basis():\n",
    "    qml.Hadamard(wires=0)\n",
    "    qml.S(wires=0)\n",
    "    \n",
    "@qml.qnode(dev)\n",
    "def rotate_basis(x, y, z):\n",
    "    qml.RX(x, wires=0)\n",
    "    qml.RY(y, wires=0)\n",
    "    qml.RZ(z, wires=0)\n",
    "    \n",
    "    qml.adjoint(convert_to_y_basis)()\n",
    "    \n",
    "    return qml.samples()"
   ]
  }
 ],
 "metadata": {
  "kernelspec": {
   "display_name": "Python 3",
   "language": "python",
   "name": "python3"
  },
  "language_info": {
   "codemirror_mode": {
    "name": "ipython",
    "version": 3
   },
   "file_extension": ".py",
   "mimetype": "text/x-python",
   "name": "python",
   "nbconvert_exporter": "python",
   "pygments_lexer": "ipython3",
   "version": "3.8.5"
  }
 },
 "nbformat": 4,
 "nbformat_minor": 5
}
