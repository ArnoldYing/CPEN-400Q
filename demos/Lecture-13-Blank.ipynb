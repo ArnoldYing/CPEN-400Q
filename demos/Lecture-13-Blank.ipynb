{
 "cells": [
  {
   "cell_type": "markdown",
   "id": "1ecc2235-07c3-4098-8bb1-cd170f86e5c5",
   "metadata": {},
   "source": [
    "# Demos: Lecture 13"
   ]
  },
  {
   "cell_type": "markdown",
   "id": "34443a94-f07f-4753-82d0-da1141c44c63",
   "metadata": {},
   "source": [
    "## Demo 1: gradient of a quantum circuit"
   ]
  },
  {
   "cell_type": "markdown",
   "id": "0cc23870-1160-4015-a479-c24122426349",
   "metadata": {},
   "source": [
    "<img src=\"fig/pauliz_opt.png\" width=\"400px\">"
   ]
  },
  {
   "cell_type": "code",
   "execution_count": null,
   "id": "4cebd3ce-edeb-4fbd-84fe-91cfac99c467",
   "metadata": {},
   "outputs": [],
   "source": []
  },
  {
   "cell_type": "markdown",
   "id": "82018df8-dc4b-4455-87cf-ed96251e7fd6",
   "metadata": {
    "tags": []
   },
   "source": [
    "## Demo 2: training a small PQC"
   ]
  },
  {
   "cell_type": "code",
   "execution_count": null,
   "id": "bd0255e5-2eec-450d-8983-46a7796dbbc6",
   "metadata": {},
   "outputs": [],
   "source": []
  },
  {
   "cell_type": "markdown",
   "id": "68b8c93f-90ac-4c61-abdd-7abcaa1901a4",
   "metadata": {},
   "source": [
    "## Demo 3: parameter-shift rules"
   ]
  },
  {
   "cell_type": "code",
   "execution_count": null,
   "id": "45805eb5-3892-4924-8ef9-613b8831d9c4",
   "metadata": {},
   "outputs": [],
   "source": []
  },
  {
   "cell_type": "markdown",
   "id": "4db31eab-aa15-424d-aa21-825102901871",
   "metadata": {},
   "source": [
    "## Demo 4: multi-parameter circuits"
   ]
  },
  {
   "cell_type": "markdown",
   "id": "c522e0b5-ffb5-4ef4-b6f9-74cff28de96f",
   "metadata": {},
   "source": [
    "<img src=\"fig/two_param_opt.png\">"
   ]
  },
  {
   "cell_type": "code",
   "execution_count": null,
   "id": "7654f160-a7ae-4d55-8afb-2593b0ca6fa5",
   "metadata": {},
   "outputs": [],
   "source": []
  },
  {
   "cell_type": "markdown",
   "id": "4e45addf-ec60-4f8e-93d6-23505cc9d2ae",
   "metadata": {},
   "source": [
    "## Demo 5: changing up the cost function"
   ]
  },
  {
   "cell_type": "code",
   "execution_count": null,
   "id": "df26125b-e41e-46e9-83e3-4ae999677fb8",
   "metadata": {},
   "outputs": [],
   "source": []
  }
 ],
 "metadata": {
  "kernelspec": {
   "display_name": "Python 3 (ipykernel)",
   "language": "python",
   "name": "python3"
  },
  "language_info": {
   "codemirror_mode": {
    "name": "ipython",
    "version": 3
   },
   "file_extension": ".py",
   "mimetype": "text/x-python",
   "name": "python",
   "nbconvert_exporter": "python",
   "pygments_lexer": "ipython3",
   "version": "3.9.7"
  }
 },
 "nbformat": 4,
 "nbformat_minor": 5
}
