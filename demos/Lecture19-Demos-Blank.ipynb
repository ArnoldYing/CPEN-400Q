{
 "cells": [
  {
   "cell_type": "markdown",
   "id": "e530df96-e795-4dba-86ff-7f969d436c0f",
   "metadata": {},
   "source": [
    "# Demos: Lecture 19"
   ]
  },
  {
   "cell_type": "code",
   "execution_count": null,
   "id": "2d8ba658-efef-45ca-8ea8-5ea6f12a6831",
   "metadata": {},
   "outputs": [],
   "source": [
    "import pennylane as qml\n",
    "from pennylane import numpy as np\n",
    "from itertools import chain\n",
    "\n",
    "from lecture19_helpers import *"
   ]
  },
  {
   "cell_type": "markdown",
   "id": "8bf34752-3f98-48b1-9874-18b9c03b180e",
   "metadata": {},
   "source": [
    "## Demo 1: QAOA from scratch"
   ]
  },
  {
   "cell_type": "code",
   "execution_count": null,
   "id": "41fc9ded-4ace-4613-890b-c72a59dff5d2",
   "metadata": {},
   "outputs": [],
   "source": []
  },
  {
   "cell_type": "code",
   "execution_count": null,
   "id": "c4f38820-e6ba-4cf0-a259-b509fef3d45e",
   "metadata": {},
   "outputs": [],
   "source": []
  },
  {
   "cell_type": "code",
   "execution_count": null,
   "id": "7043b543-291b-4cbb-b321-c4be1b333bef",
   "metadata": {},
   "outputs": [],
   "source": []
  },
  {
   "cell_type": "code",
   "execution_count": null,
   "id": "c64af5c0-a5bf-4baf-9438-c3c4382cd552",
   "metadata": {},
   "outputs": [],
   "source": []
  },
  {
   "cell_type": "code",
   "execution_count": null,
   "id": "e95522ba-6fdb-4d88-b4da-c6a9d04bc121",
   "metadata": {},
   "outputs": [],
   "source": []
  },
  {
   "cell_type": "code",
   "execution_count": null,
   "id": "5617f2a2-1ccd-476f-8a9e-38d1c257b01a",
   "metadata": {},
   "outputs": [],
   "source": []
  },
  {
   "cell_type": "code",
   "execution_count": null,
   "id": "498238cf-3000-4bd4-a0cb-5d5d13f2d1b9",
   "metadata": {},
   "outputs": [],
   "source": []
  },
  {
   "cell_type": "code",
   "execution_count": null,
   "id": "71ad7edb-6f84-41f9-804b-4065ec043fea",
   "metadata": {},
   "outputs": [],
   "source": []
  },
  {
   "cell_type": "code",
   "execution_count": null,
   "id": "c46cdb2b-fac3-4cc4-a21a-691653df660c",
   "metadata": {},
   "outputs": [],
   "source": []
  },
  {
   "cell_type": "code",
   "execution_count": null,
   "id": "93754557-da3d-4e3a-bd98-3781707237fc",
   "metadata": {},
   "outputs": [],
   "source": []
  },
  {
   "cell_type": "code",
   "execution_count": null,
   "id": "67259aae-5771-40a3-848a-c8a1693a560f",
   "metadata": {},
   "outputs": [],
   "source": []
  },
  {
   "cell_type": "code",
   "execution_count": null,
   "id": "2dc1078d-ed52-4d33-9a05-deedaa5bfab2",
   "metadata": {},
   "outputs": [],
   "source": []
  },
  {
   "cell_type": "code",
   "execution_count": null,
   "id": "0ed3b2d7-6c3c-4756-af6f-9df578d2cd24",
   "metadata": {},
   "outputs": [],
   "source": []
  },
  {
   "cell_type": "markdown",
   "id": "4351152b-df23-4fc5-b4ae-04773afe24b2",
   "metadata": {},
   "source": [
    "## Demo 2: using `qml.qaoa`"
   ]
  },
  {
   "cell_type": "code",
   "execution_count": null,
   "id": "1383e3ee-cd9f-4bb4-859c-381fbf2c0d3d",
   "metadata": {},
   "outputs": [],
   "source": []
  },
  {
   "cell_type": "code",
   "execution_count": null,
   "id": "36dad7b4-918d-453e-87b4-6cf08964ef13",
   "metadata": {},
   "outputs": [],
   "source": []
  },
  {
   "cell_type": "code",
   "execution_count": null,
   "id": "160aad88-5277-45aa-9013-a483dc2d7c4c",
   "metadata": {},
   "outputs": [],
   "source": []
  },
  {
   "cell_type": "code",
   "execution_count": null,
   "id": "91336193-7df3-41f0-a696-06ae96cfc7dc",
   "metadata": {},
   "outputs": [],
   "source": []
  },
  {
   "cell_type": "code",
   "execution_count": null,
   "id": "c87811ba-8069-4b08-9c87-97cb41e42a7a",
   "metadata": {},
   "outputs": [],
   "source": []
  },
  {
   "cell_type": "code",
   "execution_count": null,
   "id": "63705525-a72d-48ec-9224-6bbf06c71b40",
   "metadata": {},
   "outputs": [],
   "source": []
  },
  {
   "cell_type": "code",
   "execution_count": null,
   "id": "547b1090-d744-4bd4-ba7f-4a18792bfdfb",
   "metadata": {},
   "outputs": [],
   "source": []
  },
  {
   "cell_type": "code",
   "execution_count": null,
   "id": "d4453323-924d-454a-bda1-59a021677ba1",
   "metadata": {},
   "outputs": [],
   "source": []
  }
 ],
 "metadata": {
  "kernelspec": {
   "display_name": "Python 3 (ipykernel)",
   "language": "python",
   "name": "python3"
  },
  "language_info": {
   "codemirror_mode": {
    "name": "ipython",
    "version": 3
   },
   "file_extension": ".py",
   "mimetype": "text/x-python",
   "name": "python",
   "nbconvert_exporter": "python",
   "pygments_lexer": "ipython3",
   "version": "3.9.7"
  }
 },
 "nbformat": 4,
 "nbformat_minor": 5
}
