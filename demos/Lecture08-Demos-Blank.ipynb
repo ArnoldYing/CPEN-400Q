{
 "cells": [
  {
   "cell_type": "markdown",
   "id": "2944e1a3-aae3-40ed-ad15-b9002c1aac81",
   "metadata": {},
   "source": [
    "# Demos: Lecture 8"
   ]
  },
  {
   "cell_type": "markdown",
   "id": "791fb07d-2803-4c3d-8db4-204d64521865",
   "metadata": {},
   "source": [
    "## Demo 1: Grover revisited"
   ]
  },
  {
   "cell_type": "markdown",
   "id": "5c121611-2b94-45aa-a26b-7714cac76da9",
   "metadata": {},
   "source": [
    "<img src=\"fig/grover_full.png\" width=\"500px\">"
   ]
  },
  {
   "cell_type": "markdown",
   "id": "75f9a261-3981-47fa-be5b-01286eb535da",
   "metadata": {},
   "source": [
    "## Demo 2: `qml.specs`"
   ]
  },
  {
   "cell_type": "code",
   "execution_count": null,
   "id": "b5b96c3d-d4c5-4c6b-8176-c335e3b5d85f",
   "metadata": {},
   "outputs": [],
   "source": []
  }
 ],
 "metadata": {
  "kernelspec": {
   "display_name": "Python 3",
   "language": "python",
   "name": "python3"
  },
  "language_info": {
   "codemirror_mode": {
    "name": "ipython",
    "version": 3
   },
   "file_extension": ".py",
   "mimetype": "text/x-python",
   "name": "python",
   "nbconvert_exporter": "python",
   "pygments_lexer": "ipython3",
   "version": "3.8.5"
  }
 },
 "nbformat": 4,
 "nbformat_minor": 5
}
