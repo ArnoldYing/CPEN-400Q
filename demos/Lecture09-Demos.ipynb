{
 "cells": [
  {
   "cell_type": "markdown",
   "metadata": {},
   "source": [
    "# Demos: Lecture 9"
   ]
  },
  {
   "cell_type": "markdown",
   "metadata": {},
   "source": [
    "## Demo 1: `qml.specs` revisited"
   ]
  },
  {
   "cell_type": "code",
   "execution_count": 12,
   "metadata": {
    "tags": []
   },
   "outputs": [],
   "source": [
    "import pennylane as qml\n",
    "from pprint import pprint"
   ]
  },
  {
   "cell_type": "code",
   "execution_count": 3,
   "metadata": {
    "tags": []
   },
   "outputs": [],
   "source": [
    "n_bits = 3\n",
    "n_work_wires = 2\n",
    "special_string = '110'\n",
    "\n",
    "dev = qml.device('default.qubit', wires=n_bits+1+n_work_wires)\n",
    "\n",
    "\n",
    "def hadamard_transform(wires=None):\n",
    "    for wire in wires:\n",
    "        qml.Hadamard(wires=wire)\n",
    "\n",
    "def oracle():\n",
    "    qml.MultiControlledX(\n",
    "        control_wires=range(n_bits), \n",
    "        wires=n_bits, \n",
    "        control_values=special_string,\n",
    "        work_wires=range(n_bits+1, n_bits+1+n_work_wires)\n",
    "    )\n",
    "    \n",
    "def diffusion():\n",
    "    hadamard_transform(wires=range(n_bits))\n",
    "    qml.MultiControlledX(\n",
    "        control_wires=range(n_bits), \n",
    "        wires=n_bits, \n",
    "        control_values='0'*n_bits,\n",
    "        work_wires=range(n_bits+1, n_bits+1+n_work_wires)\n",
    "    )\n",
    "    hadamard_transform(wires=range(n_bits))"
   ]
  },
  {
   "cell_type": "code",
   "execution_count": 4,
   "metadata": {},
   "outputs": [],
   "source": [
    "@qml.qnode(dev, expansion_strategy='device')\n",
    "def grover(num_steps=1):\n",
    "    qml.PauliX(wires=n_bits)\n",
    "    \n",
    "    hadamard_transform(wires=range(n_bits+1))\n",
    "        \n",
    "    for _ in range(num_steps):\n",
    "        oracle()\n",
    "        diffusion()\n",
    "        \n",
    "    return qml.probs(wires=range(n_bits))    "
   ]
  },
  {
   "cell_type": "code",
   "execution_count": 5,
   "metadata": {},
   "outputs": [
    {
     "name": "stdout",
     "output_type": "stream",
     "text": [
      " 0: ──H─────╭C──H──╭C──H──╭C──H──╭C──H──╭┤ Probs \n",
      " 1: ──H─────├C──H──├C──H──├C──H──├C──H──├┤ Probs \n",
      " 2: ──H─────├C──H──├C──H──├C──H──├C──H──╰┤ Probs \n",
      " 3: ──X──H──╰X─────╰X─────╰X─────╰X──────┤       \n",
      "\n"
     ]
    }
   ],
   "source": [
    "print(qml.draw(grover)(num_steps=2))"
   ]
  },
  {
   "cell_type": "code",
   "execution_count": 6,
   "metadata": {},
   "outputs": [
    {
     "name": "stdout",
     "output_type": "stream",
     "text": [
      "{'depth': 10,\n",
      " 'device_name': 'default.qubit.autograd',\n",
      " 'diff_method': 'best',\n",
      " 'expansion_strategy': 'device',\n",
      " 'gate_sizes': defaultdict(<class 'int'>, {1: 17, 4: 4}),\n",
      " 'gate_types': defaultdict(<class 'int'>,\n",
      "                           {'Hadamard': 16,\n",
      "                            'MultiControlledX': 4,\n",
      "                            'PauliX': 1}),\n",
      " 'gradient_fn': 'backprop',\n",
      " 'gradient_options': {},\n",
      " 'interface': 'autograd',\n",
      " 'num_device_wires': 6,\n",
      " 'num_diagonalizing_gates': 0,\n",
      " 'num_observables': 1,\n",
      " 'num_operations': 21,\n",
      " 'num_trainable_params': 0,\n",
      " 'num_used_wires': 4}\n"
     ]
    }
   ],
   "source": [
    "pprint(qml.specs(grover)(num_steps=2))"
   ]
  },
  {
   "cell_type": "code",
   "execution_count": 7,
   "metadata": {},
   "outputs": [],
   "source": [
    "dev.operations.remove('MultiControlledX')"
   ]
  },
  {
   "cell_type": "code",
   "execution_count": 8,
   "metadata": {
    "jupyter": {
     "source_hidden": true
    },
    "tags": []
   },
   "outputs": [
    {
     "name": "stdout",
     "output_type": "stream",
     "text": [
      " 0: ──H─────────╭C─────────╭C──H──X──────╭C─────────╭C──X──H──────╭C─────────╭C──H──X──────╭C─────────╭C──X──H──╭┤ Probs \n",
      " 1: ──H─────────├C─────────├C──H──X──────├C─────────├C──X──H──────├C─────────├C──H──X──────├C─────────├C──X──H──├┤ Probs \n",
      " 2: ──H──X──╭C──│───╭C──X──│───H──X──╭C──│───╭C──X──│───H──X──╭C──│───╭C──X──│───H──X──╭C──│───╭C──X──│───H─────╰┤ Probs \n",
      " 3: ──X──H──├X──│───├X─────│─────────├X──│───├X─────│─────────├X──│───├X─────│─────────├X──│───├X─────│──────────┤       \n",
      " 4: ────────╰C──╰X──╰C─────╰X────────╰C──╰X──╰C─────╰X────────╰C──╰X──╰C─────╰X────────╰C──╰X──╰C─────╰X─────────┤       \n",
      "\n"
     ]
    }
   ],
   "source": [
    "print(qml.draw(grover)(num_steps=2))"
   ]
  },
  {
   "cell_type": "code",
   "execution_count": 9,
   "metadata": {},
   "outputs": [
    {
     "name": "stdout",
     "output_type": "stream",
     "text": [
      "{'depth': 26,\n",
      " 'device_name': 'default.qubit.autograd',\n",
      " 'diff_method': 'best',\n",
      " 'expansion_strategy': 'device',\n",
      " 'gate_sizes': defaultdict(<class 'int'>, {1: 33, 3: 16}),\n",
      " 'gate_types': defaultdict(<class 'int'>,\n",
      "                           {'Hadamard': 16,\n",
      "                            'PauliX': 17,\n",
      "                            'Toffoli': 16}),\n",
      " 'gradient_fn': 'backprop',\n",
      " 'gradient_options': {},\n",
      " 'interface': 'autograd',\n",
      " 'num_device_wires': 6,\n",
      " 'num_diagonalizing_gates': 0,\n",
      " 'num_observables': 1,\n",
      " 'num_operations': 49,\n",
      " 'num_trainable_params': 0,\n",
      " 'num_used_wires': 5}\n"
     ]
    }
   ],
   "source": [
    "pprint(qml.specs(grover)(num_steps=2))"
   ]
  },
  {
   "cell_type": "markdown",
   "metadata": {
    "tags": []
   },
   "source": [
    "## Demo 2: quantum tapes"
   ]
  },
  {
   "cell_type": "code",
   "execution_count": 13,
   "metadata": {
    "tags": []
   },
   "outputs": [],
   "source": [
    "dev = qml.device('default.qubit', wires=4)\n",
    "\n",
    "@qml.qnode(dev)\n",
    "def my_function():\n",
    "    qml.Hadamard(wires=0)\n",
    "    qml.CNOT(wires=[0, 1])\n",
    "    qml.S(wires=1)\n",
    "    qml.RX(0.3, wires=2)\n",
    "    qml.RY(0.8, wires=3)\n",
    "    qml.CNOT(wires=[0, 1])\n",
    "    return qml.expval(qml.PauliX(1))"
   ]
  },
  {
   "cell_type": "code",
   "execution_count": 14,
   "metadata": {},
   "outputs": [],
   "source": [
    "my_function.qtape"
   ]
  },
  {
   "cell_type": "code",
   "execution_count": 15,
   "metadata": {},
   "outputs": [
    {
     "data": {
      "text/plain": [
       "tensor(0., requires_grad=True)"
      ]
     },
     "execution_count": 15,
     "metadata": {},
     "output_type": "execute_result"
    }
   ],
   "source": [
    "my_function()"
   ]
  },
  {
   "cell_type": "code",
   "execution_count": 16,
   "metadata": {
    "jupyter": {
     "source_hidden": true
    },
    "tags": []
   },
   "outputs": [
    {
     "data": {
      "text/plain": [
       "<JacobianTape: wires=[0, 1, 2, 3], params=0>"
      ]
     },
     "execution_count": 16,
     "metadata": {},
     "output_type": "execute_result"
    }
   ],
   "source": [
    "my_function.qtape"
   ]
  },
  {
   "cell_type": "code",
   "execution_count": 17,
   "metadata": {
    "jupyter": {
     "source_hidden": true
    },
    "tags": []
   },
   "outputs": [
    {
     "data": {
      "text/plain": [
       "[Hadamard(wires=[0]),\n",
       " CNOT(wires=[0, 1]),\n",
       " S(wires=[1]),\n",
       " RX(0.3, wires=[2]),\n",
       " RY(0.8, wires=[3]),\n",
       " CNOT(wires=[0, 1])]"
      ]
     },
     "execution_count": 17,
     "metadata": {},
     "output_type": "execute_result"
    }
   ],
   "source": [
    "my_function.qtape.operations"
   ]
  },
  {
   "cell_type": "code",
   "execution_count": 18,
   "metadata": {},
   "outputs": [
    {
     "data": {
      "text/plain": [
       "[expval(PauliX(wires=[1]))]"
      ]
     },
     "execution_count": 18,
     "metadata": {},
     "output_type": "execute_result"
    }
   ],
   "source": [
    "my_function.qtape.measurements"
   ]
  },
  {
   "cell_type": "markdown",
   "metadata": {
    "tags": []
   },
   "source": [
    "## Demo 3: tape/qfunc transforms"
   ]
  },
  {
   "cell_type": "code",
   "execution_count": 19,
   "metadata": {
    "tags": []
   },
   "outputs": [],
   "source": [
    "@qml.qfunc_transform\n",
    "def x_to_hzh(tape):\n",
    "    for op in tape.operations + tape.measurements:\n",
    "        if op.name == \"PauliX\":\n",
    "            qml.Hadamard(wires=op.wires)\n",
    "            qml.PauliZ(wires=op.wires)\n",
    "            qml.Hadamard(wires=op.wires)\n",
    "        else:\n",
    "            qml.apply(op)"
   ]
  },
  {
   "cell_type": "code",
   "execution_count": 20,
   "metadata": {
    "tags": []
   },
   "outputs": [],
   "source": [
    "def some_pauli_x():\n",
    "    qml.PauliX(wires=0)\n",
    "    qml.PauliX(wires=1)\n",
    "    return qml.probs(wires=[0, 1])"
   ]
  },
  {
   "cell_type": "code",
   "execution_count": 21,
   "metadata": {},
   "outputs": [
    {
     "name": "stdout",
     "output_type": "stream",
     "text": [
      " 0: ──X──╭┤ Probs \n",
      " 1: ──X──╰┤ Probs \n",
      "\n"
     ]
    }
   ],
   "source": [
    "dev = qml.device('default.qubit', wires=2)\n",
    "\n",
    "some_qnode = qml.QNode(some_pauli_x, dev)\n",
    "\n",
    "print(qml.draw(some_qnode)())"
   ]
  },
  {
   "cell_type": "code",
   "execution_count": 22,
   "metadata": {},
   "outputs": [],
   "source": [
    "new_function = x_to_hzh(some_pauli_x)"
   ]
  },
  {
   "cell_type": "code",
   "execution_count": 23,
   "metadata": {},
   "outputs": [
    {
     "name": "stdout",
     "output_type": "stream",
     "text": [
      " 0: ──H──Z──H──╭┤ Probs \n",
      " 1: ──H──Z──H──╰┤ Probs \n",
      "\n"
     ]
    }
   ],
   "source": [
    "new_qnode = qml.QNode(new_function, dev)\n",
    "\n",
    "print(qml.draw(new_qnode)())"
   ]
  },
  {
   "cell_type": "code",
   "execution_count": 24,
   "metadata": {},
   "outputs": [],
   "source": [
    "@qml.qfunc_transform\n",
    "def z_to_hxh(tape):\n",
    "    for op in tape.operations + tape.measurements:\n",
    "        if op.name == \"PauliZ\":\n",
    "            qml.Hadamard(wires=op.wires)\n",
    "            qml.PauliX(wires=op.wires)\n",
    "            qml.Hadamard(wires=op.wires)\n",
    "        else:\n",
    "            qml.apply(op)"
   ]
  },
  {
   "cell_type": "code",
   "execution_count": 25,
   "metadata": {},
   "outputs": [],
   "source": [
    "@z_to_hxh\n",
    "@x_to_hzh\n",
    "def some_pauli_x():\n",
    "    qml.PauliX(wires=0)\n",
    "    qml.PauliX(wires=1)\n",
    "    return qml.probs(wires=[0, 1])\n",
    "\n",
    "qnode = qml.QNode(some_pauli_x, dev)"
   ]
  },
  {
   "cell_type": "code",
   "execution_count": 26,
   "metadata": {},
   "outputs": [
    {
     "name": "stdout",
     "output_type": "stream",
     "text": [
      " 0: ──H──H──X──H──H──╭┤ Probs \n",
      " 1: ──H──H──X──H──H──╰┤ Probs \n",
      "\n"
     ]
    }
   ],
   "source": [
    "print(qml.draw(qnode)())"
   ]
  },
  {
   "cell_type": "markdown",
   "metadata": {
    "tags": []
   },
   "source": [
    "## Demo 4: circuit compilation (small)"
   ]
  },
  {
   "cell_type": "code",
   "execution_count": 27,
   "metadata": {},
   "outputs": [],
   "source": [
    "@qml.transforms.cancel_inverses\n",
    "@z_to_hxh\n",
    "@x_to_hzh\n",
    "def some_pauli_x():\n",
    "    qml.PauliX(wires=0)\n",
    "    qml.PauliX(wires=1)\n",
    "    return qml.probs(wires=[0, 1])\n",
    "\n",
    "qnode = qml.QNode(some_pauli_x, dev)"
   ]
  },
  {
   "cell_type": "code",
   "execution_count": 28,
   "metadata": {},
   "outputs": [
    {
     "name": "stdout",
     "output_type": "stream",
     "text": [
      " 0: ──X──╭┤ Probs \n",
      " 1: ──X──╰┤ Probs \n",
      "\n"
     ]
    }
   ],
   "source": [
    "print(qml.draw(qnode)())"
   ]
  },
  {
   "cell_type": "markdown",
   "metadata": {
    "tags": []
   },
   "source": [
    "## Demo 5: circuit compilation (large)"
   ]
  },
  {
   "cell_type": "code",
   "execution_count": 1,
   "metadata": {},
   "outputs": [
    {
     "name": "stderr",
     "output_type": "stream",
     "text": [
      "/opt/conda/envs/pennylane/lib/python3.8/site-packages/_distutils_hack/__init__.py:30: UserWarning: Setuptools is replacing distutils.\n",
      "  warnings.warn(\"Setuptools is replacing distutils.\")\n"
     ]
    }
   ],
   "source": [
    "import numpy as np\n",
    "import pennylane as qml"
   ]
  },
  {
   "cell_type": "code",
   "execution_count": 18,
   "metadata": {},
   "outputs": [],
   "source": [
    "dev = qml.device('default.qubit', wires=6)\n",
    "\n",
    "weights = np.random.rand(len(dev.wires), 7)\n",
    "\n",
    "def big_function():\n",
    "    for wire in dev.wires:\n",
    "        qml.Hadamard(wires=wire)\n",
    "        \n",
    "    qml.RandomLayers(weights, dev.wires, seed=0)\n",
    "    \n",
    "    return qml.state()"
   ]
  },
  {
   "cell_type": "code",
   "execution_count": 8,
   "metadata": {},
   "outputs": [],
   "source": [
    "original_qnode = qml.QNode(big_function, dev, expansion_strategy='device')"
   ]
  },
  {
   "cell_type": "code",
   "execution_count": 5,
   "metadata": {},
   "outputs": [
    {
     "name": "stdout",
     "output_type": "stream",
     "text": [
      " 0: ──H──RZ(0.314)────────RY(0.796)─────────────────────────────╭C──╭C──────────────╭C───RZ(0.6)────RZ(0.0896)───RY(0.242)──────────────╭C──RX(0.0804)──RY(0.272)──────╭C─────────────────────────╭X───RY(0.115)─────────────────────────╭C───────────────────╭C────────────────────╭┤ State \n",
      " 1: ──H──────────────╭X──────────────╭X──RY(0.22)───╭C──────────│───╰X──────────╭C──│───╭C──────────RZ(0.778)───╭C───────────RX(0.724)──│───RZ(0.784)───RY(0.976)──╭X──│───╭C──────────RX(0.51)───│───────────────╭X──────────RX(0.223)──│───╭C──╭C───────────│─────────────────────├┤ State \n",
      " 2: ──H──RX(0.301)───│───╭X──────────│──────────────╰X──────────│────RY(0.48)───│───│───│───────────────────────╰X───────────RX(0.981)──│───RY(0.221)──────────────│───│───╰X─────────────────────│───────────────│──────────────────────│───│───╰X───────────╰X────────────────────├┤ State \n",
      " 3: ──H──RX(0.207)───│───╰C──────────│───RX(0.812)───RZ(0.118)──│───────────────│───│───│───────────────────────────────────────────────│──────────────────────────╰C──│───╭C─────────────────────╰C──╭C──────────╰C──────────RX(0.147)──╰X──╰X───RZ(0.0217)───RX(0.734)──RZ(0.18)──├┤ State \n",
      " 4: ──H──────────────╰C──────────────╰C──RZ(0.854)──────────────│───────────────│───╰X──╰X──────────RX(0.951)────RY(0.0626)──RY(0.105)──│───RZ(0.503)──────────────────│───╰X─────────────────────────╰X───────────RZ(0.249)────────────────────────────────────────────────────────├┤ State \n",
      " 5: ──H──RY(0.0691)───────RZ(0.861)──────RZ(0.425)──────────────╰X───RX(0.871)──╰X───────RX(0.537)──────────────────────────────────────╰X──RY(0.883)──────────────────╰X───RX(0.586)──RX(0.507)───────RX(0.695)───RY(0.676)────────────────────────────────────────────────────────╰┤ State \n",
      "\n"
     ]
    }
   ],
   "source": [
    "print(qml.draw(original_qnode, expansion_strategy='device')())"
   ]
  },
  {
   "cell_type": "code",
   "execution_count": 6,
   "metadata": {},
   "outputs": [],
   "source": [
    "from pprint import pprint"
   ]
  },
  {
   "cell_type": "code",
   "execution_count": 9,
   "metadata": {},
   "outputs": [
    {
     "name": "stdout",
     "output_type": "stream",
     "text": [
      "{'depth': 24,\n",
      " 'device_name': 'default.qubit.autograd',\n",
      " 'diff_method': 'best',\n",
      " 'expansion_strategy': 'device',\n",
      " 'gate_sizes': defaultdict(<class 'int'>, {1: 48, 2: 22}),\n",
      " 'gate_types': defaultdict(<class 'int'>,\n",
      "                           {'CNOT': 22,\n",
      "                            'Hadamard': 6,\n",
      "                            'RX': 16,\n",
      "                            'RY': 13,\n",
      "                            'RZ': 13}),\n",
      " 'gradient_fn': 'backprop',\n",
      " 'gradient_options': {},\n",
      " 'interface': 'autograd',\n",
      " 'num_device_wires': 6,\n",
      " 'num_diagonalizing_gates': 0,\n",
      " 'num_observables': 1,\n",
      " 'num_operations': 70,\n",
      " 'num_trainable_params': 42,\n",
      " 'num_used_wires': 6}\n"
     ]
    }
   ],
   "source": [
    "pprint(qml.specs(original_qnode)())"
   ]
  },
  {
   "cell_type": "code",
   "execution_count": 19,
   "metadata": {},
   "outputs": [],
   "source": [
    "pipeline = [\n",
    "    qml.transforms.cancel_inverses,\n",
    "    qml.transforms.commute_controlled(direction=\"left\"),\n",
    "    qml.transforms.single_qubit_fusion(),\n",
    "]"
   ]
  },
  {
   "cell_type": "code",
   "execution_count": 20,
   "metadata": {},
   "outputs": [],
   "source": [
    "new_qnode = qml.QNode(\n",
    "    qml.compile(pipeline=pipeline)(big_function),\n",
    "    dev,\n",
    "    expansion_strategy='device'\n",
    ")\n",
    "    "
   ]
  },
  {
   "cell_type": "code",
   "execution_count": 21,
   "metadata": {},
   "outputs": [
    {
     "name": "stdout",
     "output_type": "stream",
     "text": [
      "{'depth': 19,\n",
      " 'device_name': 'default.qubit.autograd',\n",
      " 'diff_method': 'best',\n",
      " 'expansion_strategy': 'device',\n",
      " 'gate_sizes': defaultdict(<class 'int'>, {1: 21, 2: 20}),\n",
      " 'gate_types': defaultdict(<class 'int'>,\n",
      "                           {'CNOT': 20,\n",
      "                            'RY': 1,\n",
      "                            'RZ': 1,\n",
      "                            'Rot': 19}),\n",
      " 'gradient_fn': 'backprop',\n",
      " 'gradient_options': {},\n",
      " 'interface': 'autograd',\n",
      " 'num_device_wires': 6,\n",
      " 'num_diagonalizing_gates': 0,\n",
      " 'num_observables': 1,\n",
      " 'num_operations': 41,\n",
      " 'num_trainable_params': 0,\n",
      " 'num_used_wires': 6}\n"
     ]
    }
   ],
   "source": [
    "pprint(qml.specs(new_qnode)())"
   ]
  },
  {
   "cell_type": "code",
   "execution_count": null,
   "metadata": {},
   "outputs": [],
   "source": []
  }
 ],
 "metadata": {
  "kernelspec": {
   "display_name": "PennyLane",
   "language": "python",
   "name": "pennylane"
  },
  "language_info": {
   "codemirror_mode": {
    "name": "ipython",
    "version": 3
   },
   "file_extension": ".py",
   "mimetype": "text/x-python",
   "name": "python",
   "nbconvert_exporter": "python",
   "pygments_lexer": "ipython3",
   "version": "3.8.12"
  }
 },
 "nbformat": 4,
 "nbformat_minor": 4
}
