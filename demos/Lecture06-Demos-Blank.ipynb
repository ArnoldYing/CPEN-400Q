{
 "cells": [
  {
   "cell_type": "markdown",
   "id": "2944e1a3-aae3-40ed-ad15-b9002c1aac81",
   "metadata": {},
   "source": [
    "# Demos: Lecture 6"
   ]
  },
  {
   "cell_type": "markdown",
   "id": "884ecb6c-1246-4e6b-aa49-8bc26db3ffef",
   "metadata": {},
   "source": [
    "## Demo 1: Hadamard transform"
   ]
  },
  {
   "cell_type": "code",
   "execution_count": 1,
   "id": "bf787988-6a84-436f-98ed-43e3c0d186b4",
   "metadata": {},
   "outputs": [],
   "source": [
    "import pennylane as qml\n",
    "import numpy as np"
   ]
  },
  {
   "cell_type": "code",
   "execution_count": 3,
   "id": "e099dcbd-f3e1-47db-80aa-e9df3793b815",
   "metadata": {},
   "outputs": [],
   "source": [
    "def apply_hadamard_transform(num_wires):\n",
    "    \n",
    "    dev = qml.device('default.qubit', wires=num_wires)\n",
    "    \n",
    "    @qml.qnode(dev)\n",
    "    def hadamard_transform():\n",
    "        for wire in range(num_wires):\n",
    "            qml.Hadamard(wires=wire)\n",
    "        return qml.state()\n",
    "    \n",
    "    return hadamard_transform()"
   ]
  },
  {
   "cell_type": "code",
   "execution_count": 4,
   "id": "1492086e-9dd7-4a26-bb86-6983d4562e76",
   "metadata": {},
   "outputs": [
    {
     "data": {
      "text/plain": [
       "tensor([0.70710678+0.j, 0.70710678+0.j], requires_grad=True)"
      ]
     },
     "execution_count": 4,
     "metadata": {},
     "output_type": "execute_result"
    }
   ],
   "source": [
    "apply_hadamard_transform(1)"
   ]
  },
  {
   "cell_type": "code",
   "execution_count": 5,
   "id": "a8132908-daca-4cd3-a689-98785fb7c3ef",
   "metadata": {},
   "outputs": [
    {
     "data": {
      "text/plain": [
       "tensor([0.5+0.j, 0.5+0.j, 0.5+0.j, 0.5+0.j], requires_grad=True)"
      ]
     },
     "execution_count": 5,
     "metadata": {},
     "output_type": "execute_result"
    }
   ],
   "source": [
    "apply_hadamard_transform(2)"
   ]
  },
  {
   "cell_type": "code",
   "execution_count": 7,
   "id": "4439673d-1e90-4481-b181-0ff3219f8615",
   "metadata": {},
   "outputs": [
    {
     "data": {
      "text/plain": [
       "tensor([0.1767767+0.j, 0.1767767+0.j, 0.1767767+0.j, 0.1767767+0.j,\n",
       "        0.1767767+0.j, 0.1767767+0.j, 0.1767767+0.j, 0.1767767+0.j,\n",
       "        0.1767767+0.j, 0.1767767+0.j, 0.1767767+0.j, 0.1767767+0.j,\n",
       "        0.1767767+0.j, 0.1767767+0.j, 0.1767767+0.j, 0.1767767+0.j,\n",
       "        0.1767767+0.j, 0.1767767+0.j, 0.1767767+0.j, 0.1767767+0.j,\n",
       "        0.1767767+0.j, 0.1767767+0.j, 0.1767767+0.j, 0.1767767+0.j,\n",
       "        0.1767767+0.j, 0.1767767+0.j, 0.1767767+0.j, 0.1767767+0.j,\n",
       "        0.1767767+0.j, 0.1767767+0.j, 0.1767767+0.j, 0.1767767+0.j], requires_grad=True)"
      ]
     },
     "execution_count": 7,
     "metadata": {},
     "output_type": "execute_result"
    }
   ],
   "source": [
    "apply_hadamard_transform(5)"
   ]
  },
  {
   "cell_type": "code",
   "execution_count": 8,
   "id": "376ac707-524d-4b10-be5f-cb1ea90a3dcb",
   "metadata": {},
   "outputs": [],
   "source": [
    "def apply_hadamard_transform(num_wires):\n",
    "    \n",
    "    dev = qml.device('default.qubit', wires=num_wires, shots=10)\n",
    "    \n",
    "    @qml.qnode(dev)\n",
    "    def hadamard_transform():\n",
    "        for wire in range(num_wires):\n",
    "            qml.Hadamard(wires=wire)\n",
    "        return qml.sample()\n",
    "    \n",
    "    return hadamard_transform()"
   ]
  },
  {
   "cell_type": "code",
   "execution_count": 9,
   "id": "72bf5d35-4d19-4342-82a8-85fb98cdbd9f",
   "metadata": {},
   "outputs": [
    {
     "data": {
      "text/plain": [
       "tensor([1, 0, 0, 1, 0, 1, 0, 0, 0, 0], requires_grad=True)"
      ]
     },
     "execution_count": 9,
     "metadata": {},
     "output_type": "execute_result"
    }
   ],
   "source": [
    "apply_hadamard_transform(1)"
   ]
  },
  {
   "cell_type": "code",
   "execution_count": 10,
   "id": "aa378869-e56f-4352-8f67-4fd9384ede39",
   "metadata": {},
   "outputs": [
    {
     "data": {
      "text/plain": [
       "tensor([[0, 1],\n",
       "        [1, 1],\n",
       "        [1, 1],\n",
       "        [1, 0],\n",
       "        [1, 1],\n",
       "        [1, 0],\n",
       "        [0, 0],\n",
       "        [0, 1],\n",
       "        [1, 1],\n",
       "        [0, 1]], requires_grad=True)"
      ]
     },
     "execution_count": 10,
     "metadata": {},
     "output_type": "execute_result"
    }
   ],
   "source": [
    "apply_hadamard_transform(2)"
   ]
  },
  {
   "cell_type": "markdown",
   "id": "6160520c-3db8-467a-a6bc-3fd8e1ce9d54",
   "metadata": {},
   "source": [
    "## Demo 2: Deutsch's algorithm"
   ]
  },
  {
   "cell_type": "markdown",
   "id": "e27598eb-14fb-4988-b463-64f2e184540f",
   "metadata": {},
   "source": [
    "\n",
    "<img src=\"fig/deutsch_2.png\">"
   ]
  },
  {
   "cell_type": "code",
   "execution_count": 9,
   "id": "408ffb79-fb35-44aa-98e0-5611d91988e6",
   "metadata": {},
   "outputs": [],
   "source": [
    "dev = qml.device('default.qubit', wires=2)"
   ]
  },
  {
   "cell_type": "code",
   "execution_count": 12,
   "id": "5aafd8d0-f2f1-40f3-8094-4d8e7f269d6e",
   "metadata": {},
   "outputs": [],
   "source": [
    "def oracle(func=1):\n",
    "    # 1: f(0) = f(1) = 0\n",
    "    # Do nothing!\n",
    "    \n",
    "    # 2: f(0) = f(1) = 1\n",
    "    if func == 2:\n",
    "        qml.CNOT(wires=[0, 1])\n",
    "        qml.PauliX(wires=0)\n",
    "        qml.CNOT(wires=[0, 1])\n",
    "        qml.PauliX(wires=0)\n",
    "        \n",
    "    # 3: f(0) = 0, f(1) = 1\n",
    "    if func == 3:\n",
    "        qml.CNOT(wires=[0, 1])\n",
    "        \n",
    "    # 4: f(0) = 1, f(1) = 0\n",
    "    if func == 4:\n",
    "        qml.PauliX(wires=0)\n",
    "        qml.CNOT(wires=[0, 1])\n",
    "        qml.PauliX(wires=0)"
   ]
  },
  {
   "cell_type": "code",
   "execution_count": 21,
   "id": "c6ca4c3e-378a-4a53-bd2b-cdc2c3084f96",
   "metadata": {},
   "outputs": [],
   "source": [
    "@qml.qnode(dev)\n",
    "def deutsch_circuit(func=None):\n",
    "    qml.PauliX(wires=1)\n",
    "    qml.Hadamard(wires=0)\n",
    "    qml.Hadamard(wires=1)\n",
    "    \n",
    "    oracle(func=func)\n",
    "    \n",
    "    qml.Hadamard(wires=0)\n",
    "    \n",
    "    return qml.probs(wires=0)\n"
   ]
  },
  {
   "cell_type": "code",
   "execution_count": 22,
   "id": "7462db48-da13-4bad-9e3d-187f86a76028",
   "metadata": {},
   "outputs": [],
   "source": [
    "def deutsch(func):\n",
    "    if np.allclose(deutsch_circuit(func=func), np.array([1, 0])):\n",
    "        print(\"Constant\")\n",
    "    elif np.allclose(deutsch_circuit(func=func), np.array([0, 1])):\n",
    "        print(\"Balanced\")"
   ]
  },
  {
   "cell_type": "code",
   "execution_count": 23,
   "id": "f48606d9-ba51-4d8c-8d02-d77d6c05989a",
   "metadata": {},
   "outputs": [
    {
     "name": "stdout",
     "output_type": "stream",
     "text": [
      "Balanced\n"
     ]
    }
   ],
   "source": [
    "deutsch(4)"
   ]
  }
 ],
 "metadata": {
  "kernelspec": {
   "display_name": "Python 3",
   "language": "python",
   "name": "python3"
  },
  "language_info": {
   "codemirror_mode": {
    "name": "ipython",
    "version": 3
   },
   "file_extension": ".py",
   "mimetype": "text/x-python",
   "name": "python",
   "nbconvert_exporter": "python",
   "pygments_lexer": "ipython3",
   "version": "3.7.6"
  }
 },
 "nbformat": 4,
 "nbformat_minor": 5
}
