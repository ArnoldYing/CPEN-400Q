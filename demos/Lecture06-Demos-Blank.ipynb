{
 "cells": [
  {
   "cell_type": "markdown",
   "id": "2944e1a3-aae3-40ed-ad15-b9002c1aac81",
   "metadata": {},
   "source": [
    "# Demos: Lecture 6"
   ]
  },
  {
   "cell_type": "markdown",
   "id": "884ecb6c-1246-4e6b-aa49-8bc26db3ffef",
   "metadata": {},
   "source": [
    "## Demo 1: Hadamard transform"
   ]
  },
  {
   "cell_type": "markdown",
   "id": "6160520c-3db8-467a-a6bc-3fd8e1ce9d54",
   "metadata": {},
   "source": [
    "## Demo 2: Deutsch's algorithm"
   ]
  },
  {
   "cell_type": "markdown",
   "id": "e27598eb-14fb-4988-b463-64f2e184540f",
   "metadata": {},
   "source": [
    "\n",
    "<img src=\"fig/deutsch_2.png\">"
   ]
  }
 ],
 "metadata": {
  "kernelspec": {
   "display_name": "Python 3",
   "language": "python",
   "name": "python3"
  },
  "language_info": {
   "codemirror_mode": {
    "name": "ipython",
    "version": 3
   },
   "file_extension": ".py",
   "mimetype": "text/x-python",
   "name": "python",
   "nbconvert_exporter": "python",
   "pygments_lexer": "ipython3",
   "version": "3.8.5"
  }
 },
 "nbformat": 4,
 "nbformat_minor": 5
}
