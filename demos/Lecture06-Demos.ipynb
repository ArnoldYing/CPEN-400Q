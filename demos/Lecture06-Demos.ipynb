{
 "cells": [
  {
   "cell_type": "markdown",
   "id": "2944e1a3-aae3-40ed-ad15-b9002c1aac81",
   "metadata": {},
   "source": [
    "# Demos: Lecture 6"
   ]
  },
  {
   "cell_type": "markdown",
   "id": "884ecb6c-1246-4e6b-aa49-8bc26db3ffef",
   "metadata": {},
   "source": [
    "## Demo 1: Hadamard transform"
   ]
  },
  {
   "cell_type": "code",
   "execution_count": 1,
   "id": "96f7ce20-e225-4a4d-aa31-e54271d6280a",
   "metadata": {},
   "outputs": [
    {
     "name": "stderr",
     "output_type": "stream",
     "text": [
      "/opt/conda/envs/pennylane/lib/python3.8/site-packages/_distutils_hack/__init__.py:30: UserWarning: Setuptools is replacing distutils.\n",
      "  warnings.warn(\"Setuptools is replacing distutils.\")\n"
     ]
    }
   ],
   "source": [
    "import pennylane as qml\n",
    "import numpy as np"
   ]
  },
  {
   "cell_type": "code",
   "execution_count": 2,
   "id": "262fffda-4abc-47b5-afd4-2a32602e09ee",
   "metadata": {},
   "outputs": [],
   "source": [
    "def hadamard_transform(wires=None):\n",
    "    for wire in wires:\n",
    "        qml.Hadamard(wires=wire)"
   ]
  },
  {
   "cell_type": "code",
   "execution_count": 5,
   "id": "e0cce348-32a6-4f8d-8ea4-3d82647c7e90",
   "metadata": {},
   "outputs": [],
   "source": [
    "num_wires = 6\n",
    "dev = qml.device('default.qubit', wires=num_wires)\n",
    "\n",
    "@qml.qnode(dev)\n",
    "def apply_hadamard_transform():\n",
    "    hadamard_transform(wires=dev.wires)\n",
    "    return qml.state()"
   ]
  },
  {
   "cell_type": "code",
   "execution_count": 6,
   "id": "cf03abe0-a831-44a2-9535-c1d8d9cca50f",
   "metadata": {},
   "outputs": [
    {
     "data": {
      "text/plain": [
       "tensor([0.125+0.j, 0.125+0.j, 0.125+0.j, 0.125+0.j, 0.125+0.j, 0.125+0.j,\n",
       "        0.125+0.j, 0.125+0.j, 0.125+0.j, 0.125+0.j, 0.125+0.j, 0.125+0.j,\n",
       "        0.125+0.j, 0.125+0.j, 0.125+0.j, 0.125+0.j, 0.125+0.j, 0.125+0.j,\n",
       "        0.125+0.j, 0.125+0.j, 0.125+0.j, 0.125+0.j, 0.125+0.j, 0.125+0.j,\n",
       "        0.125+0.j, 0.125+0.j, 0.125+0.j, 0.125+0.j, 0.125+0.j, 0.125+0.j,\n",
       "        0.125+0.j, 0.125+0.j, 0.125+0.j, 0.125+0.j, 0.125+0.j, 0.125+0.j,\n",
       "        0.125+0.j, 0.125+0.j, 0.125+0.j, 0.125+0.j, 0.125+0.j, 0.125+0.j,\n",
       "        0.125+0.j, 0.125+0.j, 0.125+0.j, 0.125+0.j, 0.125+0.j, 0.125+0.j,\n",
       "        0.125+0.j, 0.125+0.j, 0.125+0.j, 0.125+0.j, 0.125+0.j, 0.125+0.j,\n",
       "        0.125+0.j, 0.125+0.j, 0.125+0.j, 0.125+0.j, 0.125+0.j, 0.125+0.j,\n",
       "        0.125+0.j, 0.125+0.j, 0.125+0.j, 0.125+0.j], requires_grad=True)"
      ]
     },
     "execution_count": 6,
     "metadata": {},
     "output_type": "execute_result"
    }
   ],
   "source": [
    "apply_hadamard_transform()"
   ]
  },
  {
   "cell_type": "code",
   "execution_count": 7,
   "id": "ee3567f9-4111-4b50-b829-12611f1a6650",
   "metadata": {},
   "outputs": [
    {
     "name": "stdout",
     "output_type": "stream",
     "text": [
      " 0: ──H──╭┤ State \n",
      " 1: ──H──├┤ State \n",
      " 2: ──H──├┤ State \n",
      " 3: ──H──├┤ State \n",
      " 4: ──H──├┤ State \n",
      " 5: ──H──╰┤ State \n",
      "\n"
     ]
    }
   ],
   "source": [
    "print(qml.draw(apply_hadamard_transform)())"
   ]
  },
  {
   "cell_type": "markdown",
   "id": "6160520c-3db8-467a-a6bc-3fd8e1ce9d54",
   "metadata": {},
   "source": [
    "## Demo 2: Deutsch's algorithm"
   ]
  },
  {
   "cell_type": "markdown",
   "id": "e27598eb-14fb-4988-b463-64f2e184540f",
   "metadata": {},
   "source": [
    "\n",
    "<img src=\"fig/deutsch_2.png\">"
   ]
  },
  {
   "cell_type": "code",
   "execution_count": 22,
   "id": "07889e49-e46b-4495-9686-e1104fd3baaa",
   "metadata": {},
   "outputs": [],
   "source": [
    "dev = qml.device('default.qubit', wires=2, shots=1)\n",
    "\n",
    "\n",
    "def oracle(func=1):\n",
    "    # f1: f(0) = 0, f(1) = 0 (constant)\n",
    "    # |x>|y> -> |x>|y+f(x)>\n",
    "    # |0>|0> -> |0>|0>; |0>|1> -> |0>|1>; ...\n",
    "    \n",
    "    # f2: f(0) = 1, f(1) = 1 (constant)\n",
    "    # |0>|0> -> |0>|1>; |0>|1> -> |0>|0>; |1>|0> -> |1>|1>, |1>|1> -> |1>|0>\n",
    "    if func == 2:\n",
    "        qml.PauliX(wires=1)\n",
    "        #qml.PauliX(wires=0)\n",
    "        #qml.CNOT(wires=[0, 1])\n",
    "        #qml.PauliX(wires=0)\n",
    "        \n",
    "        #qml.CNOT(wires=[0, 1]) # |10>, |11>\n",
    "    \n",
    "    # f3: f(0) = 0, f(1) = 1 (balanced)\n",
    "    if func == 3:\n",
    "        qml.CNOT(wires=[0, 1])\n",
    "    \n",
    "    # f4: f(0) = 1, f(1) = 0 (balanced)\n",
    "    if func == 4:\n",
    "        qml.PauliX(wires=0)\n",
    "        qml.CNOT(wires=[0, 1])\n",
    "        qml.PauliX(wires=0)\n",
    "\n",
    "@qml.qnode(dev)\n",
    "def deutsch_circuit(func=1):\n",
    "    qml.Hadamard(wires=0) # Prepare |+>\n",
    "    \n",
    "    qml.PauliX(wires=1)\n",
    "    qml.Hadamard(wires=1) # Prepare |->\n",
    "    \n",
    "    oracle(func=func)\n",
    "    \n",
    "    qml.Hadamard(wires=0) # Rotate to computational basis\n",
    "    \n",
    "    return qml.probs(wires=0)"
   ]
  },
  {
   "cell_type": "code",
   "execution_count": 23,
   "id": "e11da927-140a-4390-a889-9a6234a85196",
   "metadata": {},
   "outputs": [],
   "source": [
    "def deutsch_algorithm(func=1):\n",
    "    res = deutsch_circuit(func=func)\n",
    "    \n",
    "    if np.allclose(res, [1, 0]):\n",
    "        print(\"Constant\")\n",
    "    if np.allclose(res, [0, 1]):\n",
    "        print(\"Balanced\")"
   ]
  },
  {
   "cell_type": "code",
   "execution_count": 27,
   "id": "b98c0a78-4660-4a82-9c15-038ec867cc5d",
   "metadata": {},
   "outputs": [
    {
     "name": "stdout",
     "output_type": "stream",
     "text": [
      "Balanced\n"
     ]
    }
   ],
   "source": [
    "deutsch_algorithm(func=4)"
   ]
  },
  {
   "cell_type": "code",
   "execution_count": null,
   "id": "f47ce821-de2c-45f7-b24c-99125cd36729",
   "metadata": {},
   "outputs": [],
   "source": []
  }
 ],
 "metadata": {
  "kernelspec": {
   "display_name": "PennyLane",
   "language": "python",
   "name": "pennylane"
  },
  "language_info": {
   "codemirror_mode": {
    "name": "ipython",
    "version": 3
   },
   "file_extension": ".py",
   "mimetype": "text/x-python",
   "name": "python",
   "nbconvert_exporter": "python",
   "pygments_lexer": "ipython3",
   "version": "3.8.12"
  }
 },
 "nbformat": 4,
 "nbformat_minor": 5
}
