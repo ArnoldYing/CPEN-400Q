{
 "cells": [
  {
   "cell_type": "markdown",
   "id": "e530df96-e795-4dba-86ff-7f969d436c0f",
   "metadata": {},
   "source": [
    "# Demos: Lecture 18"
   ]
  },
  {
   "cell_type": "code",
   "execution_count": null,
   "id": "2d8ba658-efef-45ca-8ea8-5ea6f12a6831",
   "metadata": {},
   "outputs": [],
   "source": [
    "import pennylane as qml\n",
    "from pennylane import numpy as np\n",
    "import matplotlib.pyplot as plt\n",
    "\n",
    "from lecture18_helpers import *"
   ]
  },
  {
   "cell_type": "markdown",
   "id": "8bf34752-3f98-48b1-9874-18b9c03b180e",
   "metadata": {},
   "source": [
    "## Demo 1: mitigating error in noisy VQE simulations"
   ]
  },
  {
   "cell_type": "markdown",
   "id": "44d61bd9-6534-4720-95cc-cfc66b191b78",
   "metadata": {},
   "source": [
    "Ground state of $H_2$ looks like:\n",
    "\n",
    "$$\n",
    "|\\psi_g(\\theta)\\rangle = \\cos(\\theta/2) |1100\\rangle - \\sin(\\theta/2) |0011\\rangle\n",
    "$$"
   ]
  },
  {
   "cell_type": "code",
   "execution_count": null,
   "id": "73bee57e-0a22-4f97-b675-b59f9f301b98",
   "metadata": {},
   "outputs": [],
   "source": [
    "bond_length = 1.3228\n",
    "symbols = [\"H\", \"H\"]\n",
    "coordinates = np.array([0.0, 0.0, -bond_length/2, 0.0, 0.0, bond_length/2])\n",
    "\n",
    "H, n_qubits = qml.qchem.molecular_hamiltonian(symbols, coordinates)"
   ]
  },
  {
   "cell_type": "code",
   "execution_count": null,
   "id": "ed19684a-b6ee-4f38-a8c0-1e477d07336d",
   "metadata": {},
   "outputs": [],
   "source": [
    "dev = qml.device(\"default.qubit\", wires=4)\n",
    "\n",
    "def prepare_ground_state(theta):\n",
    "    qml.PauliX(wires=0)\n",
    "    qml.PauliX(wires=1)\n",
    "    qml.DoubleExcitation(theta, wires=range(4))\n",
    "    return qml.expval(H)\n",
    "\n",
    "optimal_theta = np.array(0.20973288, requires_grad=True)"
   ]
  },
  {
   "cell_type": "code",
   "execution_count": null,
   "id": "2022f668-804c-40f7-b7d9-57ca9906e1cd",
   "metadata": {},
   "outputs": [],
   "source": []
  },
  {
   "cell_type": "code",
   "execution_count": null,
   "id": "d86f78b8-a5ee-4615-b5de-5e2f8e5d7a3f",
   "metadata": {},
   "outputs": [],
   "source": []
  },
  {
   "cell_type": "code",
   "execution_count": null,
   "id": "97952c9a-9cbc-43e4-a818-07991d008550",
   "metadata": {},
   "outputs": [],
   "source": [
    "from qiskit.test.mock import FakeSantiago\n",
    "from qiskit.providers.aer import QasmSimulator\n",
    "from qiskit.providers.aer.noise import NoiseModel"
   ]
  },
  {
   "cell_type": "code",
   "execution_count": null,
   "id": "6971a0c8-8042-4cf5-9b6e-c86b179be6fd",
   "metadata": {},
   "outputs": [],
   "source": [
    "device = QasmSimulator.from_backend(FakeSantiago())\n",
    "\n",
    "noise_model = NoiseModel.from_backend(device, readout_error=False)\n",
    "\n",
    "noisy_dev = qml.device(\n",
    "    \"qiskit.aer\", backend='qasm_simulator', wires=4, shots=10000, noise_model=noise_model\n",
    ")"
   ]
  },
  {
   "cell_type": "code",
   "execution_count": null,
   "id": "a60940f7-6af6-45dd-bb04-96b148a61430",
   "metadata": {},
   "outputs": [],
   "source": []
  },
  {
   "cell_type": "code",
   "execution_count": null,
   "id": "edec7fde-1471-42e1-b6b6-ebbe9fa594d9",
   "metadata": {},
   "outputs": [],
   "source": []
  },
  {
   "cell_type": "markdown",
   "id": "8d6007ef-85e5-4e5f-8080-3291b6d09437",
   "metadata": {},
   "source": [
    "Explore what happens with a single term in the Hamiltonian."
   ]
  },
  {
   "cell_type": "code",
   "execution_count": null,
   "id": "53b16afd-e5ae-4cb7-9442-233b3a2808e1",
   "metadata": {},
   "outputs": [],
   "source": []
  },
  {
   "cell_type": "code",
   "execution_count": null,
   "id": "47cf3562-aedd-41f0-ac6a-85e5f47a35b8",
   "metadata": {},
   "outputs": [],
   "source": []
  },
  {
   "cell_type": "code",
   "execution_count": null,
   "id": "cbf696a6-e483-4646-9c0e-1624bc2ef948",
   "metadata": {},
   "outputs": [],
   "source": []
  },
  {
   "cell_type": "code",
   "execution_count": null,
   "id": "1e0c9d69-a162-49f8-9467-ff9ef4bf1a65",
   "metadata": {},
   "outputs": [],
   "source": []
  },
  {
   "cell_type": "code",
   "execution_count": null,
   "id": "4b8c2cac-c3b8-4742-9264-bf5156b2101a",
   "metadata": {},
   "outputs": [],
   "source": []
  },
  {
   "cell_type": "code",
   "execution_count": null,
   "id": "b3b2681c-4d25-45bc-b51e-1065ce3c7791",
   "metadata": {},
   "outputs": [],
   "source": []
  },
  {
   "cell_type": "code",
   "execution_count": null,
   "id": "0f8bd76f-a557-43d0-ab94-5a2c0141388d",
   "metadata": {},
   "outputs": [],
   "source": []
  },
  {
   "cell_type": "code",
   "execution_count": null,
   "id": "102aadee-c0d6-45d0-b633-c637229e75f2",
   "metadata": {},
   "outputs": [],
   "source": []
  },
  {
   "cell_type": "code",
   "execution_count": null,
   "id": "efd9b49e-153d-4a62-9b27-5677559cc746",
   "metadata": {},
   "outputs": [],
   "source": []
  },
  {
   "cell_type": "code",
   "execution_count": null,
   "id": "34bc5f96-a5cc-4f30-819b-4795c321a6ff",
   "metadata": {},
   "outputs": [],
   "source": []
  },
  {
   "cell_type": "code",
   "execution_count": null,
   "id": "aea32727-75b1-4827-b892-7201e96a8ccf",
   "metadata": {},
   "outputs": [],
   "source": []
  },
  {
   "cell_type": "code",
   "execution_count": null,
   "id": "bb3ff92d-28f8-4cde-8730-bc1747258c1c",
   "metadata": {},
   "outputs": [],
   "source": []
  },
  {
   "cell_type": "code",
   "execution_count": null,
   "id": "94594b30-88f0-4eb5-a789-50328e3955d4",
   "metadata": {},
   "outputs": [],
   "source": []
  },
  {
   "cell_type": "markdown",
   "id": "89a0c18d-e8cd-4098-9a8d-7c6e022b6a80",
   "metadata": {},
   "source": [
    "## Demo 2: simple quantum state tomography"
   ]
  },
  {
   "cell_type": "code",
   "execution_count": null,
   "id": "e4c4dda2-2498-4235-9cc4-f2f846c1ba81",
   "metadata": {},
   "outputs": [],
   "source": [
    "mixed_dev = qml.device(\"default.mixed\", wires=4)\n",
    "\n",
    "@qml.qnode(mixed_dev)\n",
    "def prepare_h_state(theta):\n",
    "    qml.PauliX(wires=0)\n",
    "    qml.PauliX(wires=1)\n",
    "    qml.DoubleExcitation(theta, wires=range(4))\n",
    "    return qml.state()"
   ]
  },
  {
   "cell_type": "code",
   "execution_count": null,
   "id": "83102c28-4a4a-4202-984f-a53de4baf064",
   "metadata": {},
   "outputs": [],
   "source": [
    "ideal_state = prepare_h_state(optimal_theta)"
   ]
  },
  {
   "cell_type": "code",
   "execution_count": null,
   "id": "f3e789e1-86d0-447c-aeab-ef258d238703",
   "metadata": {},
   "outputs": [],
   "source": []
  },
  {
   "cell_type": "code",
   "execution_count": null,
   "id": "b1cd7e97-41cd-46c6-bd26-db8e63b5ba74",
   "metadata": {},
   "outputs": [],
   "source": []
  },
  {
   "cell_type": "code",
   "execution_count": null,
   "id": "188b47d1-0e14-4d56-8049-7834aad620df",
   "metadata": {},
   "outputs": [],
   "source": []
  },
  {
   "cell_type": "code",
   "execution_count": null,
   "id": "f289f744-8bbf-4e3d-a8aa-a79613288b2c",
   "metadata": {},
   "outputs": [],
   "source": []
  },
  {
   "cell_type": "code",
   "execution_count": null,
   "id": "9a23ff14-8704-4e01-9ed5-7a71e3829697",
   "metadata": {},
   "outputs": [],
   "source": []
  },
  {
   "cell_type": "code",
   "execution_count": null,
   "id": "567cf84d-29fc-46d3-8f40-997b8ea0e7e1",
   "metadata": {},
   "outputs": [],
   "source": []
  },
  {
   "cell_type": "markdown",
   "id": "fa5ca0f6-ad8f-4672-afc0-dedb8530da20",
   "metadata": {},
   "source": [
    "## Demo 3: Tomography x ZNE"
   ]
  },
  {
   "cell_type": "code",
   "execution_count": null,
   "id": "b14ed571-df74-4706-a246-43a238573d11",
   "metadata": {},
   "outputs": [],
   "source": []
  },
  {
   "cell_type": "code",
   "execution_count": null,
   "id": "c29642f5-70d8-48cc-90bf-051ff24d44d2",
   "metadata": {},
   "outputs": [],
   "source": []
  },
  {
   "cell_type": "code",
   "execution_count": null,
   "id": "9e2474f4-1f6e-4158-9dd5-8450eab064c9",
   "metadata": {},
   "outputs": [],
   "source": []
  },
  {
   "cell_type": "code",
   "execution_count": null,
   "id": "17c176d3-97b2-4ee7-babd-18130490b305",
   "metadata": {},
   "outputs": [],
   "source": []
  }
 ],
 "metadata": {
  "kernelspec": {
   "display_name": "Python 3 (ipykernel)",
   "language": "python",
   "name": "python3"
  },
  "language_info": {
   "codemirror_mode": {
    "name": "ipython",
    "version": 3
   },
   "file_extension": ".py",
   "mimetype": "text/x-python",
   "name": "python",
   "nbconvert_exporter": "python",
   "pygments_lexer": "ipython3",
   "version": "3.9.7"
  }
 },
 "nbformat": 4,
 "nbformat_minor": 5
}
