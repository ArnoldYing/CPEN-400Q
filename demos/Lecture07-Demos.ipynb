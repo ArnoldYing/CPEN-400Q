{
 "cells": [
  {
   "cell_type": "markdown",
   "id": "2944e1a3-aae3-40ed-ad15-b9002c1aac81",
   "metadata": {},
   "source": [
    "# Demos: Lecture 7"
   ]
  },
  {
   "cell_type": "markdown",
   "id": "6160520c-3db8-467a-a6bc-3fd8e1ce9d54",
   "metadata": {},
   "source": [
    "## Demo 1: Deutsch's algorithm"
   ]
  },
  {
   "cell_type": "markdown",
   "id": "e27598eb-14fb-4988-b463-64f2e184540f",
   "metadata": {},
   "source": [
    "\n",
    "<img src=\"fig/deutsch_2.png\">"
   ]
  },
  {
   "cell_type": "markdown",
   "id": "7f2cdc57-ee2d-4b4d-9db3-54b76c9441b2",
   "metadata": {},
   "source": [
    "<img src=\"fig/deutsch_oracles.png\" width=\"400px\">"
   ]
  },
  {
   "cell_type": "code",
   "execution_count": 2,
   "id": "3024e54a-a63c-4ead-b578-d36ce39b864f",
   "metadata": {},
   "outputs": [
    {
     "name": "stderr",
     "output_type": "stream",
     "text": [
      "/opt/conda/envs/pennylane/lib/python3.8/site-packages/_distutils_hack/__init__.py:30: UserWarning: Setuptools is replacing distutils.\n",
      "  warnings.warn(\"Setuptools is replacing distutils.\")\n"
     ]
    }
   ],
   "source": [
    "import pennylane as qml\n",
    "import numpy as np"
   ]
  },
  {
   "cell_type": "code",
   "execution_count": 12,
   "id": "c292933f-a0ce-41f6-b3c8-9fefb2dc7fd7",
   "metadata": {},
   "outputs": [],
   "source": [
    "def oracle_f1():\n",
    "    pass\n",
    "\n",
    "def oracle_f2():\n",
    "    qml.PauliX(wires=1)\n",
    "    \n",
    "def oracle_f3():\n",
    "    qml.CNOT(wires=[0, 1])\n",
    "    \n",
    "def oracle_f4():\n",
    "    qml.MultiControlledX(control_wires=0, wires=1, control_values='0')\n",
    "    \n",
    "oracle_dict = {\n",
    "    1: oracle_f1,\n",
    "    2: oracle_f2,\n",
    "    3: oracle_f3,\n",
    "    4: oracle_f4\n",
    "}\n",
    "    \n",
    "    \n",
    "def oracle(func_id=None):\n",
    "    oracle_dict[func_id]()"
   ]
  },
  {
   "cell_type": "code",
   "execution_count": 13,
   "id": "e349b9b9-fec7-4515-a486-be1042924ab1",
   "metadata": {},
   "outputs": [],
   "source": [
    "def deutsch_circuit(func_id=None):\n",
    "    qml.PauliX(wires=1)\n",
    "    qml.Hadamard(wires=1)\n",
    "    \n",
    "    qml.Hadamard(wires=0)\n",
    "    \n",
    "    oracle(func_id=func_id)\n",
    "    \n",
    "    qml.Hadamard(wires=0)\n",
    "    \n",
    "    return qml.probs(wires=0)"
   ]
  },
  {
   "cell_type": "code",
   "execution_count": 14,
   "id": "11042307-a354-4cb7-b4ca-ae86e6cf89af",
   "metadata": {},
   "outputs": [],
   "source": [
    "dev = qml.device('default.qubit', wires=2)\n",
    "\n",
    "deutsch_qnode = qml.QNode(deutsch_circuit, dev)"
   ]
  },
  {
   "cell_type": "code",
   "execution_count": 17,
   "id": "7212cc7c-552a-4147-9d1e-d0e64c69b37a",
   "metadata": {},
   "outputs": [
    {
     "data": {
      "text/plain": [
       "tensor([1., 0.], requires_grad=True)"
      ]
     },
     "execution_count": 17,
     "metadata": {},
     "output_type": "execute_result"
    }
   ],
   "source": [
    "deutsch_qnode(func_id=2)"
   ]
  },
  {
   "cell_type": "markdown",
   "id": "791fb07d-2803-4c3d-8db4-204d64521865",
   "metadata": {},
   "source": [
    "## Demo 2: Grover's algorithm"
   ]
  },
  {
   "cell_type": "markdown",
   "id": "9a4c5242-c8e1-4bed-956f-5030a941d932",
   "metadata": {},
   "source": [
    "<img src=\"fig/grover_full.png\" width=\"500px\">"
   ]
  },
  {
   "cell_type": "code",
   "execution_count": 18,
   "id": "d1e1d52a-1c0c-4637-9907-bd949ce5c57c",
   "metadata": {},
   "outputs": [],
   "source": [
    "dev = qml.device('default.qubit', wires=6)\n",
    "\n",
    "\n",
    "def hadamard_transform(wires=None):\n",
    "    for wire in wires:\n",
    "        qml.Hadamard(wires=wire)\n",
    "\n",
    "\n",
    "def initialize_everything():\n",
    "    qml.PauliX(wires=5)\n",
    "    hadamard_transform(wires=range(6))\n",
    "\n",
    "\n",
    "def diffusion():\n",
    "    hadamard_transform(wires=range(5))\n",
    "    qml.MultiControlledX(control_wires=range(5), wires=5, control_values='00000')\n",
    "    hadamard_transform(wires=range(5))\n",
    "\n",
    "    \n",
    "def oracle():\n",
    "    qml.MultiControlledX(control_wires=range(5), wires=5, control_values='11110')    \n",
    "    \n",
    "    \n",
    "def grover(num_steps=1):\n",
    "    initialize_everything()\n",
    "    \n",
    "    for _ in range(num_steps):\n",
    "        oracle()\n",
    "        diffusion()\n",
    "        \n",
    "    return qml.probs(wires=range(5))"
   ]
  },
  {
   "cell_type": "code",
   "execution_count": 19,
   "id": "ffdf30a5-ee04-4e1b-b47b-3f14f50a621d",
   "metadata": {},
   "outputs": [],
   "source": [
    "grover_qnode = qml.QNode(grover, dev)"
   ]
  },
  {
   "cell_type": "code",
   "execution_count": 21,
   "id": "b4e99b82-c68b-4aef-8a39-46f8c50922da",
   "metadata": {},
   "outputs": [
    {
     "data": {
      "text/plain": [
       "tensor([0.01282501, 0.01282501, 0.01282501, 0.01282501, 0.01282501,\n",
       "        0.01282501, 0.01282501, 0.01282501, 0.01282501, 0.01282501,\n",
       "        0.01282501, 0.01282501, 0.01282501, 0.01282501, 0.01282501,\n",
       "        0.01282501, 0.01282501, 0.01282501, 0.01282501, 0.01282501,\n",
       "        0.01282501, 0.01282501, 0.01282501, 0.01282501, 0.01282501,\n",
       "        0.01282501, 0.01282501, 0.01282501, 0.01282501, 0.01282501,\n",
       "        0.60242462, 0.01282501], requires_grad=True)"
      ]
     },
     "execution_count": 21,
     "metadata": {},
     "output_type": "execute_result"
    }
   ],
   "source": [
    "grover_qnode(num_steps=2)"
   ]
  },
  {
   "cell_type": "code",
   "execution_count": 22,
   "id": "2bb3d858-1318-4b76-8e10-8966178813cf",
   "metadata": {},
   "outputs": [],
   "source": [
    "import matplotlib.pyplot as plt"
   ]
  },
  {
   "cell_type": "code",
   "execution_count": 23,
   "id": "8bcc7a91-817f-40fb-9998-d6bf993fdd6b",
   "metadata": {},
   "outputs": [
    {
     "data": {
      "text/plain": [
       "<BarContainer object of 32 artists>"
      ]
     },
     "execution_count": 23,
     "metadata": {},
     "output_type": "execute_result"
    },
    {
     "data": {
      "image/png": "[encoded data removed]",
      "text/plain": [
       "<Figure size 432x288 with 1 Axes>"
      ]
     },
     "metadata": {
      "needs_background": "light"
     },
     "output_type": "display_data"
    }
   ],
   "source": [
    "plt.bar(range(32), grover_qnode(num_steps=1))"
   ]
  },
  {
   "cell_type": "code",
   "execution_count": 24,
   "id": "7c414a76-43ad-4a40-9006-36121f443181",
   "metadata": {},
   "outputs": [
    {
     "data": {
      "text/plain": [
       "<BarContainer object of 32 artists>"
      ]
     },
     "execution_count": 24,
     "metadata": {},
     "output_type": "execute_result"
    },
    {
     "data": {
      "image/png": "[encoded data removed]",
      "text/plain": [
       "<Figure size 432x288 with 1 Axes>"
      ]
     },
     "metadata": {
      "needs_background": "light"
     },
     "output_type": "display_data"
    }
   ],
   "source": [
    "plt.bar(range(32), grover_qnode(num_steps=2))"
   ]
  },
  {
   "cell_type": "code",
   "execution_count": 25,
   "id": "211d5e5f-4411-4982-ba4a-00e2abda4f85",
   "metadata": {},
   "outputs": [
    {
     "data": {
      "text/plain": [
       "<BarContainer object of 32 artists>"
      ]
     },
     "execution_count": 25,
     "metadata": {},
     "output_type": "execute_result"
    },
    {
     "data": {
      "image/png": "[encoded data removed]",
      "text/plain": [
       "<Figure size 432x288 with 1 Axes>"
      ]
     },
     "metadata": {
      "needs_background": "light"
     },
     "output_type": "display_data"
    }
   ],
   "source": [
    "plt.bar(range(32), grover_qnode(num_steps=3))"
   ]
  },
  {
   "cell_type": "code",
   "execution_count": 26,
   "id": "d1130f15-143d-4f63-ac6b-4ea64fa6c158",
   "metadata": {},
   "outputs": [
    {
     "data": {
      "text/plain": [
       "tensor([0.00332463, 0.00332463, 0.00332463, 0.00332463, 0.00332463,\n",
       "        0.00332463, 0.00332463, 0.00332463, 0.00332463, 0.00332463,\n",
       "        0.00332463, 0.00332463, 0.00332463, 0.00332463, 0.00332463,\n",
       "        0.00332463, 0.00332463, 0.00332463, 0.00332463, 0.00332463,\n",
       "        0.00332463, 0.00332463, 0.00332463, 0.00332463, 0.00332463,\n",
       "        0.00332463, 0.00332463, 0.00332463, 0.00332463, 0.00332463,\n",
       "        0.89693654, 0.00332463], requires_grad=True)"
      ]
     },
     "execution_count": 26,
     "metadata": {},
     "output_type": "execute_result"
    }
   ],
   "source": [
    "grover_qnode(num_steps=3)"
   ]
  },
  {
   "cell_type": "code",
   "execution_count": 27,
   "id": "416d8478-7234-4e03-bd12-20ef0c4d992e",
   "metadata": {},
   "outputs": [
    {
     "data": {
      "text/plain": [
       "<BarContainer object of 32 artists>"
      ]
     },
     "execution_count": 27,
     "metadata": {},
     "output_type": "execute_result"
    },
    {
     "data": {
      "image/png": "[encoded data removed]",
      "text/plain": [
       "<Figure size 432x288 with 1 Axes>"
      ]
     },
     "metadata": {
      "needs_background": "light"
     },
     "output_type": "display_data"
    }
   ],
   "source": [
    "plt.bar(range(32), grover_qnode(num_steps=4))"
   ]
  },
  {
   "cell_type": "code",
   "execution_count": 28,
   "id": "4307b12d-0aea-41f4-8d1c-fda2a522923c",
   "metadata": {},
   "outputs": [
    {
     "data": {
      "text/plain": [
       "tensor([2.63769180e-05, 2.63769180e-05, 2.63769180e-05, 2.63769180e-05,\n",
       "        2.63769180e-05, 2.63769180e-05, 2.63769180e-05, 2.63769180e-05,\n",
       "        2.63769180e-05, 2.63769180e-05, 2.63769180e-05, 2.63769180e-05,\n",
       "        2.63769180e-05, 2.63769180e-05, 2.63769180e-05, 2.63769180e-05,\n",
       "        2.63769180e-05, 2.63769180e-05, 2.63769180e-05, 2.63769180e-05,\n",
       "        2.63769180e-05, 2.63769180e-05, 2.63769180e-05, 2.63769180e-05,\n",
       "        2.63769180e-05, 2.63769180e-05, 2.63769180e-05, 2.63769180e-05,\n",
       "        2.63769180e-05, 2.63769180e-05, 9.99182316e-01, 2.63769180e-05], requires_grad=True)"
      ]
     },
     "execution_count": 28,
     "metadata": {},
     "output_type": "execute_result"
    }
   ],
   "source": [
    "grover_qnode(num_steps=4)"
   ]
  },
  {
   "cell_type": "code",
   "execution_count": 29,
   "id": "c36155c2-14af-4b44-9bda-543fea08d7b6",
   "metadata": {},
   "outputs": [
    {
     "data": {
      "text/plain": [
       "tensor([0.00452785, 0.00452785, 0.00452785, 0.00452785, 0.00452785,\n",
       "        0.00452785, 0.00452785, 0.00452785, 0.00452785, 0.00452785,\n",
       "        0.00452785, 0.00452785, 0.00452785, 0.00452785, 0.00452785,\n",
       "        0.00452785, 0.00452785, 0.00452785, 0.00452785, 0.00452785,\n",
       "        0.00452785, 0.00452785, 0.00452785, 0.00452785, 0.00452785,\n",
       "        0.00452785, 0.00452785, 0.00452785, 0.00452785, 0.00452785,\n",
       "        0.85963666, 0.00452785], requires_grad=True)"
      ]
     },
     "execution_count": 29,
     "metadata": {},
     "output_type": "execute_result"
    }
   ],
   "source": [
    "grover_qnode(num_steps=5)"
   ]
  },
  {
   "cell_type": "code",
   "execution_count": 30,
   "id": "8f399917-1419-4d33-848b-a781012bb48a",
   "metadata": {},
   "outputs": [
    {
     "data": {
      "text/plain": [
       "<BarContainer object of 32 artists>"
      ]
     },
     "execution_count": 30,
     "metadata": {},
     "output_type": "execute_result"
    },
    {
     "data": {
      "image/png": "[encoded data removed]",
      "text/plain": [
       "<Figure size 432x288 with 1 Axes>"
      ]
     },
     "metadata": {
      "needs_background": "light"
     },
     "output_type": "display_data"
    }
   ],
   "source": [
    "plt.bar(range(32), grover_qnode(num_steps=5))"
   ]
  },
  {
   "cell_type": "code",
   "execution_count": 31,
   "id": "47cb3931-6d6e-4958-8994-2d51d43d068e",
   "metadata": {},
   "outputs": [
    {
     "data": {
      "text/plain": [
       "<BarContainer object of 32 artists>"
      ]
     },
     "execution_count": 31,
     "metadata": {},
     "output_type": "execute_result"
    },
    {
     "data": {
      "image/png": "[encoded data removed]",
      "text/plain": [
       "<Figure size 432x288 with 1 Axes>"
      ]
     },
     "metadata": {
      "needs_background": "light"
     },
     "output_type": "display_data"
    }
   ],
   "source": [
    "plt.bar(range(32), grover_qnode(num_steps=6))"
   ]
  },
  {
   "cell_type": "code",
   "execution_count": 32,
   "id": "d853193c-ac1e-4122-ab27-749af0e78a65",
   "metadata": {},
   "outputs": [
    {
     "data": {
      "text/plain": [
       "<BarContainer object of 32 artists>"
      ]
     },
     "execution_count": 32,
     "metadata": {},
     "output_type": "execute_result"
    },
    {
     "data": {
      "image/png": "[encoded data removed]",
      "text/plain": [
       "<Figure size 432x288 with 1 Axes>"
      ]
     },
     "metadata": {
      "needs_background": "light"
     },
     "output_type": "display_data"
    }
   ],
   "source": [
    "plt.bar(range(32), grover_qnode(num_steps=8))"
   ]
  },
  {
   "cell_type": "code",
   "execution_count": 33,
   "id": "d4c23375-33ae-4074-9685-9986e2efef1f",
   "metadata": {},
   "outputs": [
    {
     "data": {
      "text/plain": [
       "<BarContainer object of 32 artists>"
      ]
     },
     "execution_count": 33,
     "metadata": {},
     "output_type": "execute_result"
    },
    {
     "data": {
      "image/png": "[encoded data removed]",
      "text/plain": [
       "<Figure size 432x288 with 1 Axes>"
      ]
     },
     "metadata": {
      "needs_background": "light"
     },
     "output_type": "display_data"
    }
   ],
   "source": [
    "plt.bar(range(32), grover_qnode(num_steps=13))"
   ]
  },
  {
   "cell_type": "code",
   "execution_count": null,
   "id": "37808532-7015-4822-983d-f18e48fc2d5d",
   "metadata": {},
   "outputs": [],
   "source": []
  }
 ],
 "metadata": {
  "kernelspec": {
   "display_name": "PennyLane",
   "language": "python",
   "name": "pennylane"
  },
  "language_info": {
   "codemirror_mode": {
    "name": "ipython",
    "version": 3
   },
   "file_extension": ".py",
   "mimetype": "text/x-python",
   "name": "python",
   "nbconvert_exporter": "python",
   "pygments_lexer": "ipython3",
   "version": "3.8.12"
  }
 },
 "nbformat": 4,
 "nbformat_minor": 5
}
