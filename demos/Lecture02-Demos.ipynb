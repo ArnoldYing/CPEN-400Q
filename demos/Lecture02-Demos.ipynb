{
 "cells": [
  {
   "cell_type": "markdown",
   "id": "877db40a-e5e9-462a-84e5-0e2f52b93597",
   "metadata": {},
   "source": [
    "# Demos: Lecture 2"
   ]
  },
  {
   "cell_type": "markdown",
   "id": "d7f6550f-3b76-4b19-8bd1-e41bbe7cab4c",
   "metadata": {},
   "source": [
    "## Demo 1: QNodes"
   ]
  },
  {
   "cell_type": "code",
   "execution_count": 1,
   "id": "50874627-f1f0-47a1-90ca-a78a8a13f51a",
   "metadata": {},
   "outputs": [],
   "source": [
    "import pennylane as qml\n",
    "import numpy as np"
   ]
  },
  {
   "cell_type": "code",
   "execution_count": 2,
   "id": "046e3ca1-1380-4e4e-bb15-f5a0fe4f6a63",
   "metadata": {},
   "outputs": [],
   "source": [
    "dev = qml.device(\"default.qubit\", wires=1, shots=20)"
   ]
  },
  {
   "cell_type": "code",
   "execution_count": 17,
   "id": "156aa5c2-170c-4f24-b6d8-15941ab2608c",
   "metadata": {},
   "outputs": [],
   "source": [
    "def my_quantum_function():\n",
    "    qml.Hadamard(wires=0)\n",
    "    qml.PauliZ(wires=0)\n",
    "    qml.PauliX(wires=0)\n",
    "    return qml.state()"
   ]
  },
  {
   "cell_type": "code",
   "execution_count": 18,
   "id": "73fed219-9e8c-472a-8e3b-01307c590a35",
   "metadata": {},
   "outputs": [],
   "source": [
    "my_qnode = qml.QNode(my_quantum_function, dev)"
   ]
  },
  {
   "cell_type": "code",
   "execution_count": 19,
   "id": "c86e79df-54f0-470f-a867-64a0c7fea5f4",
   "metadata": {},
   "outputs": [
    {
     "data": {
      "text/plain": [
       "tensor([-0.70710678+0.j,  0.70710678+0.j], requires_grad=True)"
      ]
     },
     "execution_count": 19,
     "metadata": {},
     "output_type": "execute_result"
    }
   ],
   "source": [
    "my_qnode()"
   ]
  },
  {
   "cell_type": "code",
   "execution_count": 6,
   "id": "917d52ad-4b57-4892-a70a-6daa9392b5bc",
   "metadata": {},
   "outputs": [],
   "source": [
    "drawer = qml.draw(my_qnode)"
   ]
  },
  {
   "cell_type": "code",
   "execution_count": 7,
   "id": "8b77effd-b786-4378-99d4-dd93b24096a8",
   "metadata": {},
   "outputs": [
    {
     "name": "stdout",
     "output_type": "stream",
     "text": [
      " 0: ──H──Z──X──┤ Sample[basis] \n",
      "\n"
     ]
    }
   ],
   "source": [
    "print(drawer())"
   ]
  },
  {
   "cell_type": "markdown",
   "id": "822cc78c-1331-4a04-9461-79e561a30748",
   "metadata": {},
   "source": [
    "## Demo 2: relative phases"
   ]
  },
  {
   "cell_type": "markdown",
   "id": "e3822577-7637-40e0-8459-e2c6abdb5a0c",
   "metadata": {},
   "source": [
    "## Demo 3: universality of Pauli rotations"
   ]
  },
  {
   "cell_type": "code",
   "execution_count": 8,
   "id": "cc6916cb-0367-4831-b076-e7039fd726c0",
   "metadata": {},
   "outputs": [],
   "source": [
    "def hadamard():\n",
    "    qml.Hadamard(wires=0)"
   ]
  },
  {
   "cell_type": "code",
   "execution_count": 9,
   "id": "f0408867-ffc1-4f8b-911d-ffb21c38e1fc",
   "metadata": {},
   "outputs": [],
   "source": [
    "hadamard_mat = qml.transforms.get_unitary_matrix(hadamard)"
   ]
  },
  {
   "cell_type": "code",
   "execution_count": 10,
   "id": "c051a9cc-2ece-42f1-b0cb-9c24a33d2d5f",
   "metadata": {},
   "outputs": [
    {
     "data": {
      "text/plain": [
       "array([[ 0.70710678,  0.70710678],\n",
       "       [ 0.70710678, -0.70710678]])"
      ]
     },
     "execution_count": 10,
     "metadata": {},
     "output_type": "execute_result"
    }
   ],
   "source": [
    "hadamard_mat()"
   ]
  },
  {
   "cell_type": "code",
   "execution_count": 11,
   "id": "42235e02-7be1-4ff9-b036-110f080c6f5c",
   "metadata": {},
   "outputs": [],
   "source": [
    "def hadamard_with_rzrx():\n",
    "    qml.RZ(np.pi/2, wires=0)\n",
    "    qml.RX(np.pi/2, wires=0)\n",
    "    qml.RZ(np.pi/2, wires=0)"
   ]
  },
  {
   "cell_type": "code",
   "execution_count": 12,
   "id": "d9fe446f-528e-481c-aa6f-848355cf2844",
   "metadata": {},
   "outputs": [],
   "source": [
    "hadamard_with_rzrx_mat = qml.transforms.get_unitary_matrix(hadamard_with_rzrx)"
   ]
  },
  {
   "cell_type": "code",
   "execution_count": 16,
   "id": "7d5dadce-ec4a-45ca-ac01-0e9b5cdb998f",
   "metadata": {},
   "outputs": [
    {
     "data": {
      "text/plain": [
       "array([[ 0.70710678+0.j,  0.70710678+0.j],\n",
       "       [ 0.70710678+0.j, -0.70710678-0.j]])"
      ]
     },
     "execution_count": 16,
     "metadata": {},
     "output_type": "execute_result"
    }
   ],
   "source": [
    "np.round(hadamard_with_rzrx_mat(), decimals=8) / (-1j)"
   ]
  },
  {
   "cell_type": "markdown",
   "id": "3ed4b7bf-b358-4c94-901a-ce7a553967ad",
   "metadata": {},
   "source": [
    "## Demo 4: expectation values "
   ]
  },
  {
   "cell_type": "code",
   "execution_count": 23,
   "id": "4fdbfebe-8777-4a02-a28e-4bce7d6d273e",
   "metadata": {},
   "outputs": [],
   "source": [
    "dev = qml.device('default.qubit', wires=1)\n",
    "\n",
    "@qml.qnode(dev)\n",
    "def my_quantum_function():\n",
    "    qml.Hadamard(wires=0)\n",
    "    qml.PauliZ(wires=0)\n",
    "    qml.PauliX(wires=0)\n",
    "    return qml.expval(qml.PauliY(wires=0))"
   ]
  },
  {
   "cell_type": "code",
   "execution_count": 24,
   "id": "68103b7e-99b7-41f1-9705-e61207c72d8c",
   "metadata": {},
   "outputs": [
    {
     "data": {
      "text/plain": [
       "tensor(0., requires_grad=True)"
      ]
     },
     "execution_count": 24,
     "metadata": {},
     "output_type": "execute_result"
    }
   ],
   "source": [
    "my_quantum_function()"
   ]
  },
  {
   "cell_type": "markdown",
   "id": "14eb297d-f09b-4d36-93db-2d02c7a4e006",
   "metadata": {},
   "source": [
    "## Demo 5: basis rotation"
   ]
  }
 ],
 "metadata": {
  "kernelspec": {
   "display_name": "Python 3",
   "language": "python",
   "name": "python3"
  },
  "language_info": {
   "codemirror_mode": {
    "name": "ipython",
    "version": 3
   },
   "file_extension": ".py",
   "mimetype": "text/x-python",
   "name": "python",
   "nbconvert_exporter": "python",
   "pygments_lexer": "ipython3",
   "version": "3.8.5"
  }
 },
 "nbformat": 4,
 "nbformat_minor": 5
}
