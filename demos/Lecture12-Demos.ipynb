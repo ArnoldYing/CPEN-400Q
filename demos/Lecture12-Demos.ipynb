{
 "cells": [
  {
   "cell_type": "markdown",
   "metadata": {},
   "source": [
    "## Demos: Lecture 12"
   ]
  },
  {
   "cell_type": "markdown",
   "metadata": {},
   "source": [
    "### Demo 1: Shor's algorithm"
   ]
  },
  {
   "cell_type": "code",
   "execution_count": 1,
   "metadata": {},
   "outputs": [
    {
     "name": "stderr",
     "output_type": "stream",
     "text": [
      "/opt/conda/envs/pennylane/lib/python3.8/site-packages/_distutils_hack/__init__.py:30: UserWarning: Setuptools is replacing distutils.\n",
      "  warnings.warn(\"Setuptools is replacing distutils.\")\n"
     ]
    }
   ],
   "source": [
    "import pennylane as qml\n",
    "import numpy as np\n",
    "\n",
    "from lecture12_helpers import *"
   ]
  },
  {
   "cell_type": "markdown",
   "metadata": {},
   "source": [
    "<img src=\"fig/shor-flowchart.jpeg\" width=\"300px\">"
   ]
  },
  {
   "cell_type": "code",
   "execution_count": 3,
   "metadata": {},
   "outputs": [],
   "source": [
    "def shors_algorithm(N):\n",
    "    \n",
    "    for _ in range(10):\n",
    "        \n",
    "        # Choose a candidate a\n",
    "        a = np.random.choice(list(range(2, N - 1)))\n",
    "        \n",
    "        # Check if it's co-prime\n",
    "        if np.gcd(a, N) != 1:\n",
    "            p = np.gcd(a, N)\n",
    "            q = N // p\n",
    "            return p, q\n",
    "        \n",
    "        # If it's co-prime, construct U_Na, run QPE \n",
    "        # to get the period\n",
    "        r = get_period_quantum(N, a)\n",
    "        \n",
    "        # If the period is odd, restart\n",
    "        if r % 2 == 1:\n",
    "            continue\n",
    "        \n",
    "        # If the period is even, compute square root\n",
    "        x = (a ** (r // 2)) % N\n",
    "        \n",
    "        # If non-trivial, find p and q with gcd\n",
    "        if x != 1 and x != N - 1:\n",
    "            p = np.gcd(x - 1, N)\n",
    "            q = np.gcd(x + 1, N)\n",
    "            return p, q"
   ]
  },
  {
   "cell_type": "code",
   "execution_count": 10,
   "metadata": {},
   "outputs": [],
   "source": [
    "def get_period_quantum(N, a):\n",
    "    \n",
    "    U_Na = get_U_Na(N, a)\n",
    "    \n",
    "    n_estimation_wires = 12\n",
    "    n_target_wires = int(np.log2(len(U_Na)))\n",
    "    \n",
    "    estimation_wires = range(n_estimation_wires)\n",
    "    target_wires = range(n_estimation_wires, n_estimation_wires+n_target_wires)\n",
    "    \n",
    "    dev = qml.device('default.qubit', wires=n_estimation_wires+n_target_wires, shots=1)\n",
    "\n",
    "    @qml.qnode(dev)\n",
    "    def run_qpe():\n",
    "        # Initialize state\n",
    "        qml.PauliX(wires=target_wires[-1])\n",
    "        \n",
    "        # Do QPE\n",
    "        qml.QuantumPhaseEstimation(\n",
    "            U_Na,\n",
    "            estimation_wires=estimation_wires,\n",
    "            target_wires=target_wires\n",
    "        )\n",
    "        \n",
    "        # Return a sample\n",
    "        return qml.sample(wires=estimation_wires)\n",
    "    \n",
    "    candidate_r = []\n",
    "    \n",
    "    for _ in range(10):\n",
    "        output_sample = run_qpe()\n",
    "        phase = fractional_binary_to_float(output_sample)\n",
    "        est_r = phase_to_order(phase, N)\n",
    "        candidate_r.append(est_r)\n",
    "        \n",
    "    return max(candidate_r)\n",
    "        \n",
    "        \n",
    "        "
   ]
  },
  {
   "cell_type": "code",
   "execution_count": null,
   "metadata": {},
   "outputs": [],
   "source": [
    "N = 391 # 19, 13\n",
    "\n",
    "for _ in range(10):\n",
    "    p, q = shors_algorithm(N)\n",
    "    if p * q == N:\n",
    "        print(f\"p={p}\\nq={q}\")\n",
    "        break"
   ]
  },
  {
   "cell_type": "code",
   "execution_count": 11,
   "metadata": {},
   "outputs": [
    {
     "data": {
      "text/plain": [
       "391"
      ]
     },
     "execution_count": 11,
     "metadata": {},
     "output_type": "execute_result"
    }
   ],
   "source": [
    "23 * 17"
   ]
  },
  {
   "cell_type": "code",
   "execution_count": null,
   "metadata": {},
   "outputs": [],
   "source": []
  }
 ],
 "metadata": {
  "kernelspec": {
   "display_name": "PennyLane",
   "language": "python",
   "name": "pennylane"
  },
  "language_info": {
   "codemirror_mode": {
    "name": "ipython",
    "version": 3
   },
   "file_extension": ".py",
   "mimetype": "text/x-python",
   "name": "python",
   "nbconvert_exporter": "python",
   "pygments_lexer": "ipython3",
   "version": "3.8.12"
  }
 },
 "nbformat": 4,
 "nbformat_minor": 4
}
