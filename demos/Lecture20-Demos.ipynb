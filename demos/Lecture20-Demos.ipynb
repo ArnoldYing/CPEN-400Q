{
 "cells": [
  {
   "cell_type": "markdown",
   "id": "e530df96-e795-4dba-86ff-7f969d436c0f",
   "metadata": {},
   "source": [
    "# Demos: Lecture 20"
   ]
  },
  {
   "cell_type": "code",
   "execution_count": 1,
   "id": "2d8ba658-efef-45ca-8ea8-5ea6f12a6831",
   "metadata": {},
   "outputs": [],
   "source": [
    "import pennylane as qml\n",
    "from pennylane import numpy as np\n",
    "import matplotlib.pyplot as plt\n",
    "from scipy.linalg import expm"
   ]
  },
  {
   "cell_type": "markdown",
   "id": "8bf34752-3f98-48b1-9874-18b9c03b180e",
   "metadata": {},
   "source": [
    "## Demo 1: `MultiRZ` and `PauliRot`"
   ]
  },
  {
   "cell_type": "code",
   "execution_count": 2,
   "id": "9a3e76ab-19d2-44f6-a0bd-3e118c08f9ce",
   "metadata": {},
   "outputs": [],
   "source": [
    "def ZZZ_CNOT(theta):\n",
    "    qml.CNOT(wires=[0, 1])\n",
    "    qml.CNOT(wires=[1, 2])\n",
    "    qml.RZ(theta, wires=2)\n",
    "    qml.CNOT(wires=[1, 2])\n",
    "    qml.CNOT(wires=[0, 1])\n",
    "    \n",
    "def ZZZ_PauliRot(theta):\n",
    "    qml.PauliRot(theta, 'ZZZ', wires=[0, 1, 2])\n",
    "    \n",
    "def RZRZRZ(theta):\n",
    "    qml.RZ(theta, wires=0)\n",
    "    qml.RZ(theta, wires=1)\n",
    "    qml.RZ(theta, wires=2)"
   ]
  },
  {
   "cell_type": "code",
   "execution_count": 3,
   "id": "4cd165f1-1b58-4158-8f51-f7d634bfa6fa",
   "metadata": {},
   "outputs": [],
   "source": [
    "mat1 = qml.transforms.get_unitary_matrix(ZZZ_CNOT)(-0.2)\n",
    "mat2 = qml.transforms.get_unitary_matrix(ZZZ_PauliRot)(-0.2)\n",
    "mat3 = qml.transforms.get_unitary_matrix(RZRZRZ)(-0.2)"
   ]
  },
  {
   "cell_type": "code",
   "execution_count": 4,
   "id": "02e43628-dce1-42d1-afc7-5a8d091645a9",
   "metadata": {},
   "outputs": [
    {
     "data": {
      "text/plain": [
       "True"
      ]
     },
     "execution_count": 4,
     "metadata": {},
     "output_type": "execute_result"
    }
   ],
   "source": [
    "np.allclose(mat1, mat2)"
   ]
  },
  {
   "cell_type": "code",
   "execution_count": 5,
   "id": "62d9fc1c-111e-4f08-8e1d-7c51300e088a",
   "metadata": {},
   "outputs": [
    {
     "data": {
      "text/plain": [
       "False"
      ]
     },
     "execution_count": 5,
     "metadata": {},
     "output_type": "execute_result"
    }
   ],
   "source": [
    "np.allclose(mat1, mat3)"
   ]
  },
  {
   "cell_type": "code",
   "execution_count": 6,
   "id": "a49c2cb1-c2ac-45cf-b32d-16cc6060e937",
   "metadata": {},
   "outputs": [],
   "source": [
    "dev = qml.device('default.qubit', wires=3)\n",
    "\n",
    "@qml.qnode(dev)\n",
    "def circuit(theta):\n",
    "    qml.PauliRot(theta, 'ZZZ', wires=range(3))\n",
    "    return qml.probs(wires=0)"
   ]
  },
  {
   "cell_type": "code",
   "execution_count": 11,
   "id": "7ba0ef00-e189-4603-99a4-ae8a12ed60eb",
   "metadata": {},
   "outputs": [
    {
     "name": "stdout",
     "output_type": "stream",
     "text": [
      " 0: ──────╭X──RZ(-0.2)──╭X──────┤ Probs \n",
      " 1: ──╭X──╰C────────────╰C──╭X──┤       \n",
      " 2: ──╰C────────────────────╰C──┤       \n",
      "\n"
     ]
    }
   ],
   "source": [
    "print(qml.draw(circuit, expansion_strategy=\"device\")(-0.2))"
   ]
  },
  {
   "cell_type": "code",
   "execution_count": 9,
   "id": "21eb4f90-b4a4-4cae-8862-a3f2facb785e",
   "metadata": {},
   "outputs": [],
   "source": [
    "dev.operations.remove(\"MultiRZ\")"
   ]
  },
  {
   "cell_type": "code",
   "execution_count": 18,
   "id": "93051263-46d8-4f4b-bd9a-f0439ebedd6f",
   "metadata": {},
   "outputs": [],
   "source": [
    "dev = qml.device('default.qubit', wires=4)\n",
    "\n",
    "@qml.qnode(dev)\n",
    "def circuit(theta):\n",
    "    qml.PauliRot(theta, 'YYYY', wires=range(4))\n",
    "    return qml.probs(wires=0)"
   ]
  },
  {
   "cell_type": "code",
   "execution_count": 19,
   "id": "841833e4-ea70-48aa-87a1-6f7181ebbab7",
   "metadata": {},
   "outputs": [
    {
     "name": "stdout",
     "output_type": "stream",
     "text": [
      " 0: ──RX(1.57)──────────╭X──RZ(-0.2)──╭X───RX(-1.57)─────────────────────────┤ Probs \n",
      " 1: ──RX(1.57)──────╭X──╰C────────────╰C──╭X───────────RX(-1.57)─────────────┤       \n",
      " 2: ──RX(1.57)──╭X──╰C────────────────────╰C──────────╭X──────────RX(-1.57)──┤       \n",
      " 3: ──RX(1.57)──╰C────────────────────────────────────╰C──────────RX(-1.57)──┤       \n",
      "\n"
     ]
    }
   ],
   "source": [
    "print(qml.draw(circuit, expansion_strategy=\"device\")(-0.2))"
   ]
  },
  {
   "cell_type": "markdown",
   "id": "c5dee0d8-ce27-4ff2-a288-4ad0a69313db",
   "metadata": {
    "tags": []
   },
   "source": [
    "## Demo 2: commuting Pauli terms"
   ]
  },
  {
   "cell_type": "code",
   "execution_count": 21,
   "id": "a91dead6-9ecb-4ad5-a8bd-54e5d8444b65",
   "metadata": {},
   "outputs": [],
   "source": [
    "pauli_1 = 'XZIX'\n",
    "pauli_2 = 'YIZY'"
   ]
  },
  {
   "cell_type": "code",
   "execution_count": 22,
   "id": "a64718d3-a7a6-4741-bb1f-385310eb05e2",
   "metadata": {},
   "outputs": [
    {
     "data": {
      "text/plain": [
       "True"
      ]
     },
     "execution_count": 22,
     "metadata": {},
     "output_type": "execute_result"
    }
   ],
   "source": [
    "qml.grouping.is_commuting(\n",
    "    qml.grouping.string_to_pauli_word(pauli_1), # qml.PauliX(0) @ qml.PauliZ(1)...\n",
    "    qml.grouping.string_to_pauli_word(pauli_2),\n",
    ")"
   ]
  },
  {
   "cell_type": "code",
   "execution_count": 23,
   "id": "87a67b09-dcf1-4497-8807-097320147617",
   "metadata": {},
   "outputs": [],
   "source": [
    "@qml.qnode(dev)\n",
    "def circuit_1(theta, phi):\n",
    "    qml.PauliRot(theta, pauli_1, wires=range(4))\n",
    "    qml.PauliRot(phi, pauli_2, wires=range(4))\n",
    "    return qml.probs(wires=0)\n",
    "\n",
    "@qml.qnode(dev)\n",
    "def circuit_2(theta, phi):\n",
    "    qml.PauliRot(phi, pauli_2, wires=range(4))\n",
    "    qml.PauliRot(theta, pauli_1, wires=range(4))\n",
    "    return qml.probs(wires=0)"
   ]
  },
  {
   "cell_type": "code",
   "execution_count": 24,
   "id": "86b9d1cc-0fa7-4254-8fdd-4c221ddfae37",
   "metadata": {},
   "outputs": [
    {
     "name": "stdout",
     "output_type": "stream",
     "text": [
      " 0: ──H──────╭X──RZ(0.4)──╭X───H──RX(1.57)────────────────╭X──RZ(0.8)──╭X───RX(-1.57)─────────────┤ Probs \n",
      " 1: ─────╭X──╰C───────────╰C──╭X──────────────────────────│────────────│──────────────────────────┤       \n",
      " 2: ─────│────────────────────│───────────────────────╭X──╰C───────────╰C──╭X─────────────────────┤       \n",
      " 3: ──H──╰C───────────────────╰C──H─────────RX(1.57)──╰C───────────────────╰C──────────RX(-1.57)──┤       \n",
      "\n"
     ]
    }
   ],
   "source": [
    "print(qml.draw(circuit_1, expansion_strategy=\"device\")(0.4, 0.8))"
   ]
  },
  {
   "cell_type": "code",
   "execution_count": 25,
   "id": "2fcff43f-2045-444a-b92e-6086246a63ad",
   "metadata": {},
   "outputs": [
    {
     "name": "stdout",
     "output_type": "stream",
     "text": [
      " 0: ──RX(1.57)──────╭X──RZ(0.8)──╭X───RX(-1.57)──H─────────────────╭X──RZ(0.4)──╭X───H─────┤ Probs \n",
      " 1: ────────────────│────────────│─────────────────────────────╭X──╰C───────────╰C──╭X─────┤       \n",
      " 2: ────────────╭X──╰C───────────╰C──╭X────────────────────────│────────────────────│──────┤       \n",
      " 3: ──RX(1.57)──╰C───────────────────╰C──────────RX(-1.57)──H──╰C───────────────────╰C──H──┤       \n",
      "\n"
     ]
    }
   ],
   "source": [
    "print(qml.draw(circuit_2, expansion_strategy=\"device\")(0.4, 0.8))"
   ]
  },
  {
   "cell_type": "code",
   "execution_count": 26,
   "id": "c075ba9d-a2a1-46c2-886a-033e8a312d0d",
   "metadata": {},
   "outputs": [],
   "source": [
    "mat1 = qml.transforms.get_unitary_matrix(circuit_1)(0.4, 0.8)\n",
    "mat2 = qml.transforms.get_unitary_matrix(circuit_2)(0.4, 0.8)"
   ]
  },
  {
   "cell_type": "code",
   "execution_count": 27,
   "id": "760663b6-accd-4a0f-a1db-be190473b9bc",
   "metadata": {},
   "outputs": [
    {
     "data": {
      "text/plain": [
       "True"
      ]
     },
     "execution_count": 27,
     "metadata": {},
     "output_type": "execute_result"
    }
   ],
   "source": [
    "np.allclose(mat1, mat2)"
   ]
  },
  {
   "cell_type": "markdown",
   "id": "f1de2e7c-f362-46e4-aed0-b3739cfddc13",
   "metadata": {
    "tags": []
   },
   "source": [
    "## Demo 3: Trotterization"
   ]
  },
  {
   "cell_type": "code",
   "execution_count": 28,
   "id": "2e5f3e5d-8abb-4621-8e7f-3526c684a90c",
   "metadata": {},
   "outputs": [],
   "source": [
    "coeffs = [1.0, 2.0, 3.0, -1.0, -2.0, -3.0]\n",
    "\n",
    "obs = [\n",
    "    qml.PauliX(0) @ qml.PauliX(1),\n",
    "    qml.PauliX(1) @ qml.PauliX(2),\n",
    "    qml.PauliX(2) @ qml.PauliX(0),\n",
    "    qml.PauliZ(0),\n",
    "    qml.PauliZ(1),\n",
    "    qml.PauliZ(2),\n",
    "]\n",
    "\n",
    "H = qml.Hamiltonian(coeffs, obs)\n",
    "\n",
    "H_mat = np.array(\n",
    "    [\n",
    "        [-6.0, 0.0, 0.0, 2.0, 0.0, 3.0, 1.0, 0.0],\n",
    "        [0.0, 0.0, 2.0, 0.0, 3.0, 0.0, 0.0, 1.0],\n",
    "        [0.0, 2.0, -2.0, 0.0, 1.0, 0.0, 0.0, 3.0],\n",
    "        [2.0, 0.0, 0.0, 4.0, 0.0, 1.0, 3.0, 0.0],\n",
    "        [0.0, 3.0, 1.0, 0.0, -4.0, 0.0, 0.0, 2.0],\n",
    "        [3.0, 0.0, 0.0, 1.0, 0.0, 2.0, 2.0, 0.0],\n",
    "        [1.0, 0.0, 0.0, 3.0, 0.0, 2.0, 0.0, 0.0],\n",
    "        [0.0, 1.0, 3.0, 0.0, 2.0, 0.0, 0.0, 6.0],\n",
    "    ]\n",
    ")\n",
    "\n",
    "U = expm(-1j * H_mat)"
   ]
  },
  {
   "cell_type": "code",
   "execution_count": 34,
   "id": "2c990724-7240-45f1-89cc-afe3c2a94009",
   "metadata": {},
   "outputs": [],
   "source": [
    "dev = qml.device('default.qubit', wires=3)\n",
    "\n",
    "@qml.qnode(dev, expansion_strategy=\"device\")\n",
    "def hamiltonian_simulation(t, n):\n",
    "    qml.ApproxTimeEvolution(H, t, n)\n",
    "    return qml.probs(wires=0)"
   ]
  },
  {
   "cell_type": "code",
   "execution_count": 33,
   "id": "a7a27fbf-adba-4c99-b3a0-64ddb33e90dc",
   "metadata": {},
   "outputs": [
    {
     "name": "stdout",
     "output_type": "stream",
     "text": [
      " 0: ──H──╭X──RZ(0.6)──╭X──H──H────────────────────────────────╭C───────────╭C──H──RZ(-0.6)──┤ Probs \n",
      " 1: ──H──╰C───────────╰C──H──H──╭X──RZ(1.2)──╭X──H──RZ(-1.2)──│────────────│────────────────┤       \n",
      " 2: ──H─────────────────────────╰C───────────╰C──H──H─────────╰X──RZ(1.8)──╰X──H──RZ(-1.8)──┤       \n",
      "\n"
     ]
    }
   ],
   "source": [
    "print(qml.draw(hamiltonian_simulation)(0.3, 1))"
   ]
  },
  {
   "cell_type": "code",
   "execution_count": 41,
   "id": "0af6c426-369e-4077-b097-93d7f35a007b",
   "metadata": {},
   "outputs": [],
   "source": [
    "num_steps = range(1, 21)\n",
    "\n",
    "errors = []\n",
    "depth = []\n",
    "num_gates = []\n",
    "\n",
    "for n in num_steps:\n",
    "    mat = qml.transforms.get_unitary_matrix(hamiltonian_simulation)(1, n)\n",
    "    error = np.linalg.norm(U - mat)\n",
    "    errors.append(error)\n",
    "    \n",
    "    resources = qml.specs(hamiltonian_simulation)(1, n)\n",
    "    depth.append(resources['depth'])\n",
    "    num_gates.append(resources['num_operations'])    "
   ]
  },
  {
   "cell_type": "code",
   "execution_count": 42,
   "id": "c0374911-85c8-4ce1-ace4-ce4aff93c774",
   "metadata": {},
   "outputs": [
    {
     "data": {
      "text/plain": [
       "<matplotlib.collections.PathCollection at 0x7fcf85a439a0>"
      ]
     },
     "execution_count": 42,
     "metadata": {},
     "output_type": "execute_result"
    },
    {
     "data": {
      "image/png": "[encoded data removed]",
      "text/plain": [
       "<Figure size 432x288 with 1 Axes>"
      ]
     },
     "metadata": {
      "needs_background": "light"
     },
     "output_type": "display_data"
    }
   ],
   "source": [
    "plt.scatter(num_steps, errors)"
   ]
  },
  {
   "cell_type": "code",
   "execution_count": 39,
   "id": "1bea962a-020f-452a-ab13-017707a562ec",
   "metadata": {},
   "outputs": [
    {
     "data": {
      "text/plain": [
       "<matplotlib.collections.PathCollection at 0x7fcf8625f4f0>"
      ]
     },
     "execution_count": 39,
     "metadata": {},
     "output_type": "execute_result"
    },
    {
     "data": {
      "image/png": "[encoded data removed]",
      "text/plain": [
       "<Figure size 432x288 with 1 Axes>"
      ]
     },
     "metadata": {
      "needs_background": "light"
     },
     "output_type": "display_data"
    }
   ],
   "source": [
    "plt.scatter(num_steps, depth)"
   ]
  },
  {
   "cell_type": "code",
   "execution_count": 40,
   "id": "a5a802db-fd95-4239-8818-1bd9fd3f6843",
   "metadata": {},
   "outputs": [
    {
     "data": {
      "text/plain": [
       "<matplotlib.collections.PathCollection at 0x7fcf8afe77f0>"
      ]
     },
     "execution_count": 40,
     "metadata": {},
     "output_type": "execute_result"
    },
    {
     "data": {
      "image/png": "[encoded data removed]",
      "text/plain": [
       "<Figure size 432x288 with 1 Axes>"
      ]
     },
     "metadata": {
      "needs_background": "light"
     },
     "output_type": "display_data"
    }
   ],
   "source": [
    "plt.scatter(num_steps, num_gates)"
   ]
  },
  {
   "cell_type": "code",
   "execution_count": null,
   "id": "a82d1817-412a-44bd-b476-ae04cea83b75",
   "metadata": {},
   "outputs": [],
   "source": []
  }
 ],
 "metadata": {
  "kernelspec": {
   "display_name": "Python 3 (ipykernel)",
   "language": "python",
   "name": "python3"
  },
  "language_info": {
   "codemirror_mode": {
    "name": "ipython",
    "version": 3
   },
   "file_extension": ".py",
   "mimetype": "text/x-python",
   "name": "python",
   "nbconvert_exporter": "python",
   "pygments_lexer": "ipython3",
   "version": "3.9.7"
  }
 },
 "nbformat": 4,
 "nbformat_minor": 5
}
