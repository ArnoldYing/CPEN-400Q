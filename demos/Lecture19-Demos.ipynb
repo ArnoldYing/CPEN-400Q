{
 "cells": [
  {
   "cell_type": "markdown",
   "id": "e530df96-e795-4dba-86ff-7f969d436c0f",
   "metadata": {},
   "source": [
    "# Demos: Lecture 19"
   ]
  },
  {
   "cell_type": "code",
   "execution_count": 3,
   "id": "2d8ba658-efef-45ca-8ea8-5ea6f12a6831",
   "metadata": {},
   "outputs": [],
   "source": [
    "import pennylane as qml\n",
    "from pennylane import numpy as np\n",
    "from itertools import chain\n",
    "\n",
    "from lecture19_helpers import *"
   ]
  },
  {
   "cell_type": "markdown",
   "id": "8bf34752-3f98-48b1-9874-18b9c03b180e",
   "metadata": {},
   "source": [
    "## Demo 1: QAOA from scratch"
   ]
  },
  {
   "cell_type": "markdown",
   "id": "465c8f6a-3adf-4902-8652-8f32c172263a",
   "metadata": {},
   "source": [
    "$$\n",
    "\\hat{H}_c = \\gamma \\sum_{ij \\in E} (Z_i + Z_j + Z_i Z_j) - 2 \\lambda \\sum_{i \\in V} Z_i\n",
    "$$\n",
    "\n",
    "$$\n",
    "\\hat{H}_m = \\sum_{i\\in V} X_i\n",
    "$$"
   ]
  },
  {
   "cell_type": "code",
   "execution_count": 4,
   "id": "c64af5c0-a5bf-4baf-9438-c3c4382cd552",
   "metadata": {},
   "outputs": [],
   "source": [
    "edges = [(0, 1), (1, 2), (2, 3), (3, 4), (4, 0), (1, 4)]"
   ]
  },
  {
   "cell_type": "code",
   "execution_count": 10,
   "id": "5617f2a2-1ccd-476f-8a9e-38d1c257b01a",
   "metadata": {},
   "outputs": [],
   "source": [
    "edge_terms = [[qml.PauliZ(i), qml.PauliZ(j), qml.PauliZ(i) @ qml.PauliZ(j)] for (i, j) in edges]\n",
    "edge_terms = list(chain(*edge_terms))\n",
    "edge_coeffs = [1] * len(edge_terms)\n",
    "\n",
    "vertex_terms = [qml.PauliZ(i) for i in range(5)]\n",
    "vertex_coeffs = [-2] * len(vertex_terms)\n",
    "\n",
    "edge_h = qml.Hamiltonian(edge_coeffs, edge_terms)\n",
    "vertex_h = qml.Hamiltonian(vertex_coeffs, vertex_terms)\n",
    "\n",
    "cost_h = edge_h + vertex_h"
   ]
  },
  {
   "cell_type": "code",
   "execution_count": 11,
   "id": "498238cf-3000-4bd4-a0cb-5d5d13f2d1b9",
   "metadata": {},
   "outputs": [],
   "source": [
    "mixer_terms = [qml.PauliX(i) for i in range(5)]\n",
    "mixer_coeffs = [1] * len(mixer_terms)\n",
    "mixer_h = qml.Hamiltonian(mixer_coeffs, mixer_terms)"
   ]
  },
  {
   "cell_type": "code",
   "execution_count": 12,
   "id": "71ad7edb-6f84-41f9-804b-4065ec043fea",
   "metadata": {},
   "outputs": [],
   "source": [
    "dev = qml.device('default.qubit', wires=5)\n",
    "\n",
    "@qml.qnode(dev)\n",
    "def qaoa_circuit(beta_c, alpha_m):\n",
    "    # Initalize\n",
    "    for wire in range(5):\n",
    "        qml.Hadamard(wires=wire)\n",
    "    \n",
    "    # Apply alternating layers\n",
    "    for idx in range(len(beta_c)):\n",
    "        qml.ApproxTimeEvolution(cost_h, beta_c[idx], 1)\n",
    "        qml.ApproxTimeEvolution(mixer_h, alpha_m[idx], 1)\n",
    "    \n",
    "    # Return expval of cost H\n",
    "    return qml.expval(cost_h)"
   ]
  },
  {
   "cell_type": "code",
   "execution_count": 13,
   "id": "c46cdb2b-fac3-4cc4-a21a-691653df660c",
   "metadata": {},
   "outputs": [],
   "source": [
    "n_layers = 7\n",
    "beta_c = np.random.normal(size=n_layers)\n",
    "alpha_m = np.random.normal(size=n_layers)"
   ]
  },
  {
   "cell_type": "code",
   "execution_count": 14,
   "id": "93754557-da3d-4e3a-bd98-3781707237fc",
   "metadata": {},
   "outputs": [],
   "source": [
    "opt = qml.GradientDescentOptimizer(stepsize=0.01)\n",
    "\n",
    "for _ in range(100):\n",
    "    (beta_c, alpha_m) = opt.step(qaoa_circuit, beta_c, alpha_m)"
   ]
  },
  {
   "cell_type": "code",
   "execution_count": 15,
   "id": "67259aae-5771-40a3-848a-c8a1693a560f",
   "metadata": {},
   "outputs": [],
   "source": [
    "@qml.qnode(dev)\n",
    "def qaoa_probs(beta_c, alpha_m):\n",
    "    # Initalize\n",
    "    for wire in range(5):\n",
    "        qml.Hadamard(wires=wire)\n",
    "    \n",
    "    # Apply alternating layers\n",
    "    for idx in range(len(beta_c)):\n",
    "        qml.ApproxTimeEvolution(cost_h, beta_c[idx], 1)\n",
    "        qml.ApproxTimeEvolution(mixer_h, alpha_m[idx], 1)\n",
    "    \n",
    "    # Return expval of cost H\n",
    "    return qml.probs(wires=range(5))"
   ]
  },
  {
   "cell_type": "code",
   "execution_count": 16,
   "id": "2dc1078d-ed52-4d33-9a05-deedaa5bfab2",
   "metadata": {},
   "outputs": [
    {
     "data": {
      "image/png": "[encoded data removed]",
      "text/plain": [
       "<Figure size 576x576 with 1 Axes>"
      ]
     },
     "metadata": {
      "needs_background": "light"
     },
     "output_type": "display_data"
    }
   ],
   "source": [
    "plot_probs(qaoa_probs(beta_c, alpha_m))"
   ]
  },
  {
   "cell_type": "code",
   "execution_count": 19,
   "id": "0ed3b2d7-6c3c-4756-af6f-9df578d2cd24",
   "metadata": {},
   "outputs": [
    {
     "data": {
      "image/png": "[encoded data removed]",
      "text/plain": [
       "<Figure size 432x288 with 1 Axes>"
      ]
     },
     "metadata": {},
     "output_type": "display_data"
    }
   ],
   "source": [
    "plot_graph(edges, '11010')"
   ]
  },
  {
   "cell_type": "markdown",
   "id": "4351152b-df23-4fc5-b4ae-04773afe24b2",
   "metadata": {},
   "source": [
    "## Demo 2: using `qml.qaoa`"
   ]
  },
  {
   "cell_type": "code",
   "execution_count": 20,
   "id": "1383e3ee-cd9f-4bb4-859c-381fbf2c0d3d",
   "metadata": {},
   "outputs": [],
   "source": [
    "graph = nx.Graph(edges)\n",
    "cost_h, mixer_h = qml.qaoa.min_vertex_cover(graph, constrained=False)"
   ]
  },
  {
   "cell_type": "code",
   "execution_count": 23,
   "id": "36dad7b4-918d-453e-87b4-6cf08964ef13",
   "metadata": {},
   "outputs": [],
   "source": [
    "def single_layer(beta_c_single, alpha_m_single):\n",
    "    qml.qaoa.cost_layer(beta_c_single, cost_h)\n",
    "    qml.qaoa.mixer_layer(alpha_m_single, mixer_h)\n",
    "\n",
    "@qml.qnode(dev)\n",
    "def qaoa_circuit(beta_c, alpha_m):\n",
    "    for wire in range(5):\n",
    "        qml.Hadamard(wires=wire)\n",
    "        \n",
    "    qml.layer(single_layer, len(beta_c), beta_c, alpha_m)\n",
    "\n",
    "    return qml.expval(cost_h)"
   ]
  },
  {
   "cell_type": "code",
   "execution_count": 24,
   "id": "160aad88-5277-45aa-9013-a483dc2d7c4c",
   "metadata": {},
   "outputs": [],
   "source": [
    "n_layers = 5\n",
    "beta_c = np.random.normal(size=n_layers)\n",
    "alpha_m = np.random.normal(size=n_layers)\n",
    "\n",
    "opt = qml.GradientDescentOptimizer(stepsize=0.01)\n",
    "\n",
    "for _ in range(100):\n",
    "    (beta_c, alpha_m) = opt.step(qaoa_circuit, beta_c, alpha_m)            "
   ]
  },
  {
   "cell_type": "code",
   "execution_count": 25,
   "id": "91336193-7df3-41f0-a696-06ae96cfc7dc",
   "metadata": {},
   "outputs": [],
   "source": [
    "@qml.qnode(dev)\n",
    "def qaoa_probs_circuit(beta_c, alpha_m):\n",
    "    for wire in range(5):\n",
    "        qml.Hadamard(wires=wire)\n",
    "        \n",
    "    qml.layer(single_layer, len(beta_c), beta_c, alpha_m)\n",
    "\n",
    "    return qml.probs(wires=range(5))"
   ]
  },
  {
   "cell_type": "code",
   "execution_count": 26,
   "id": "c87811ba-8069-4b08-9c87-97cb41e42a7a",
   "metadata": {},
   "outputs": [
    {
     "data": {
      "image/png": "[encoded data removed]",
      "text/plain": [
       "<Figure size 576x576 with 1 Axes>"
      ]
     },
     "metadata": {
      "needs_background": "light"
     },
     "output_type": "display_data"
    }
   ],
   "source": [
    "plot_probs(qaoa_probs_circuit(beta_c, alpha_m))"
   ]
  },
  {
   "cell_type": "code",
   "execution_count": 27,
   "id": "63705525-a72d-48ec-9224-6bbf06c71b40",
   "metadata": {},
   "outputs": [
    {
     "data": {
      "image/png": "[encoded data removed]",
      "text/plain": [
       "<Figure size 432x288 with 1 Axes>"
      ]
     },
     "metadata": {},
     "output_type": "display_data"
    }
   ],
   "source": [
    "plot_graph(edges, '01101')"
   ]
  },
  {
   "cell_type": "code",
   "execution_count": null,
   "id": "547b1090-d744-4bd4-ba7f-4a18792bfdfb",
   "metadata": {},
   "outputs": [],
   "source": []
  },
  {
   "cell_type": "code",
   "execution_count": null,
   "id": "d4453323-924d-454a-bda1-59a021677ba1",
   "metadata": {},
   "outputs": [],
   "source": []
  }
 ],
 "metadata": {
  "kernelspec": {
   "display_name": "Python 3 (ipykernel)",
   "language": "python",
   "name": "python3"
  },
  "language_info": {
   "codemirror_mode": {
    "name": "ipython",
    "version": 3
   },
   "file_extension": ".py",
   "mimetype": "text/x-python",
   "name": "python",
   "nbconvert_exporter": "python",
   "pygments_lexer": "ipython3",
   "version": "3.9.7"
  }
 },
 "nbformat": 4,
 "nbformat_minor": 5
}
