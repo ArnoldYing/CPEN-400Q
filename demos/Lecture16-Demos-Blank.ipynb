{
 "cells": [
  {
   "cell_type": "markdown",
   "id": "e530df96-e795-4dba-86ff-7f969d436c0f",
   "metadata": {},
   "source": [
    "# Demos: Lecture 16"
   ]
  },
  {
   "cell_type": "markdown",
   "id": "7c68ced6-090d-4913-a4f1-cbc351003a36",
   "metadata": {},
   "source": [
    "## Demo 1: quiz 7 solution\n"
   ]
  },
  {
   "cell_type": "markdown",
   "id": "9ffc52ba-db6b-45a9-9f63-c79fb4f0606b",
   "metadata": {},
   "source": [
    "<img src=\"fig/quiz_7_hamiltonian.png\" width=\"450px\"> "
   ]
  },
  {
   "cell_type": "code",
   "execution_count": null,
   "id": "3395383a-5837-411b-9005-ebcb2860511f",
   "metadata": {},
   "outputs": [],
   "source": [
    "import pennylane as qml\n",
    "from pennylane import numpy as np"
   ]
  },
  {
   "cell_type": "code",
   "execution_count": null,
   "id": "5524e183-96ac-47af-9e52-ba8862d3eeb3",
   "metadata": {},
   "outputs": [],
   "source": []
  },
  {
   "cell_type": "code",
   "execution_count": null,
   "id": "6cbc9dd5-16f2-4788-9a50-d8cb8924eb85",
   "metadata": {},
   "outputs": [],
   "source": []
  },
  {
   "cell_type": "code",
   "execution_count": null,
   "id": "d153b37d-1869-44b2-9290-af8bd4a986a3",
   "metadata": {},
   "outputs": [],
   "source": []
  },
  {
   "cell_type": "code",
   "execution_count": null,
   "id": "55698210-a2cf-42cd-a232-dccd02e14941",
   "metadata": {},
   "outputs": [],
   "source": []
  },
  {
   "cell_type": "code",
   "execution_count": null,
   "id": "c06dc62b-4369-4cf7-a8bc-6fc3d242f380",
   "metadata": {},
   "outputs": [],
   "source": []
  },
  {
   "cell_type": "code",
   "execution_count": null,
   "id": "28406822-d882-49b3-9992-b5387b4ec28e",
   "metadata": {},
   "outputs": [],
   "source": []
  },
  {
   "cell_type": "code",
   "execution_count": null,
   "id": "4dbaaef5-f825-4910-a70c-a87921577f66",
   "metadata": {},
   "outputs": [],
   "source": []
  },
  {
   "cell_type": "markdown",
   "id": "9f674f42-f7f9-4b21-bd7a-1c7e83b0172e",
   "metadata": {},
   "source": [
    "<img src=\"fig/quiz_7_circuit.png\" width=\"450px\"> "
   ]
  },
  {
   "cell_type": "code",
   "execution_count": null,
   "id": "6bc96667-1a2f-4bbb-8951-5f0a040a77d4",
   "metadata": {},
   "outputs": [],
   "source": []
  },
  {
   "cell_type": "code",
   "execution_count": null,
   "id": "eb6e8da4-ec4d-4202-9040-df56d3c625f0",
   "metadata": {},
   "outputs": [],
   "source": []
  },
  {
   "cell_type": "code",
   "execution_count": null,
   "id": "377c653a-df48-486c-bb64-dae9a0f8ffdf",
   "metadata": {},
   "outputs": [],
   "source": []
  },
  {
   "cell_type": "code",
   "execution_count": null,
   "id": "c933daa7-e98f-44a5-8dd2-5c6919c305a7",
   "metadata": {},
   "outputs": [],
   "source": []
  },
  {
   "cell_type": "code",
   "execution_count": null,
   "id": "417ecfa0-301c-44a4-97b1-1375b022bb1f",
   "metadata": {},
   "outputs": [],
   "source": []
  },
  {
   "cell_type": "markdown",
   "id": "aad80fcd-9731-48be-b07a-35c064cc9464",
   "metadata": {},
   "source": [
    "## Demo 2: bit flip errors"
   ]
  },
  {
   "cell_type": "code",
   "execution_count": null,
   "id": "2d8ba658-efef-45ca-8ea8-5ea6f12a6831",
   "metadata": {},
   "outputs": [],
   "source": [
    "from lecture16_helpers import *\n",
    "from scipy.stats import unitary_group"
   ]
  },
  {
   "cell_type": "code",
   "execution_count": null,
   "id": "9df26be1-944f-49c7-93bf-e2dae4a5fa64",
   "metadata": {},
   "outputs": [],
   "source": []
  },
  {
   "cell_type": "code",
   "execution_count": null,
   "id": "bd1cf585-8dd4-4b95-bc5d-4e9bff4858e9",
   "metadata": {},
   "outputs": [],
   "source": []
  },
  {
   "cell_type": "code",
   "execution_count": null,
   "id": "d9a126d1-206b-4bf7-9204-897514024688",
   "metadata": {},
   "outputs": [],
   "source": []
  },
  {
   "cell_type": "code",
   "execution_count": null,
   "id": "252c870e-35c3-4998-b60b-f10d3a65441f",
   "metadata": {},
   "outputs": [],
   "source": []
  },
  {
   "cell_type": "code",
   "execution_count": null,
   "id": "13fe82cd-2508-40d8-b957-423b97a1b316",
   "metadata": {},
   "outputs": [],
   "source": []
  },
  {
   "cell_type": "code",
   "execution_count": null,
   "id": "1df064ab-fbe6-499b-950e-0814ba1fd147",
   "metadata": {},
   "outputs": [],
   "source": []
  },
  {
   "cell_type": "code",
   "execution_count": null,
   "id": "46ff4504-0740-49c0-9354-803a8f774f95",
   "metadata": {},
   "outputs": [],
   "source": []
  },
  {
   "cell_type": "code",
   "execution_count": null,
   "id": "4cbe9137-82bd-4bc0-b3a1-7bcd64d7dad0",
   "metadata": {},
   "outputs": [],
   "source": []
  },
  {
   "cell_type": "code",
   "execution_count": null,
   "id": "8df7e367-954c-401b-80e6-b5edb871f9f1",
   "metadata": {},
   "outputs": [],
   "source": []
  },
  {
   "cell_type": "code",
   "execution_count": null,
   "id": "5d63f1f7-d58c-4f6e-8267-3954f4445f4f",
   "metadata": {},
   "outputs": [],
   "source": []
  },
  {
   "cell_type": "code",
   "execution_count": null,
   "id": "acab177c-9351-4c86-a1f7-9e86e6924a95",
   "metadata": {},
   "outputs": [],
   "source": []
  },
  {
   "cell_type": "code",
   "execution_count": null,
   "id": "fff075ce-7ef8-49e8-8fff-a6d3803bf5c0",
   "metadata": {},
   "outputs": [],
   "source": []
  },
  {
   "cell_type": "markdown",
   "id": "98a89d7d-b0da-45fe-9f7d-e312b5992087",
   "metadata": {},
   "source": [
    "## Demo 3: depolarizing noise"
   ]
  },
  {
   "cell_type": "code",
   "execution_count": null,
   "id": "5b26563b-26cc-4221-b82b-aec70c3dac46",
   "metadata": {},
   "outputs": [],
   "source": []
  },
  {
   "cell_type": "code",
   "execution_count": null,
   "id": "43ef0797-d331-4064-9d7a-b54317207404",
   "metadata": {},
   "outputs": [],
   "source": []
  },
  {
   "cell_type": "code",
   "execution_count": null,
   "id": "b7bf8494-4e68-4852-95e7-4f0b0d24e958",
   "metadata": {},
   "outputs": [],
   "source": []
  },
  {
   "cell_type": "code",
   "execution_count": null,
   "id": "aac56874-ac80-447b-947b-4992254a3ab8",
   "metadata": {},
   "outputs": [],
   "source": []
  },
  {
   "cell_type": "code",
   "execution_count": null,
   "id": "9fdd6158-7615-443c-bab7-93590424405b",
   "metadata": {},
   "outputs": [],
   "source": []
  },
  {
   "cell_type": "code",
   "execution_count": null,
   "id": "76e0e41f-bdf6-4381-87b4-72a404f3536c",
   "metadata": {},
   "outputs": [],
   "source": []
  },
  {
   "cell_type": "code",
   "execution_count": null,
   "id": "3676b1c3-dacd-41b0-aadf-f8525eaa45a2",
   "metadata": {},
   "outputs": [],
   "source": []
  },
  {
   "cell_type": "code",
   "execution_count": null,
   "id": "4cb1b2ce-b9fe-4798-be91-180b3456d1ba",
   "metadata": {},
   "outputs": [],
   "source": []
  },
  {
   "cell_type": "code",
   "execution_count": null,
   "id": "f52ea742-77ac-4ea2-be8e-fe595a5e1e0e",
   "metadata": {},
   "outputs": [],
   "source": []
  }
 ],
 "metadata": {
  "kernelspec": {
   "display_name": "Python 3 (ipykernel)",
   "language": "python",
   "name": "python3"
  },
  "language_info": {
   "codemirror_mode": {
    "name": "ipython",
    "version": 3
   },
   "file_extension": ".py",
   "mimetype": "text/x-python",
   "name": "python",
   "nbconvert_exporter": "python",
   "pygments_lexer": "ipython3",
   "version": "3.9.7"
  }
 },
 "nbformat": 4,
 "nbformat_minor": 5
}
