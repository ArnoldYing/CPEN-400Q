{
 "cells": [
  {
   "cell_type": "markdown",
   "id": "2944e1a3-aae3-40ed-ad15-b9002c1aac81",
   "metadata": {},
   "source": [
    "# Demos: Lecture 8"
   ]
  },
  {
   "cell_type": "markdown",
   "id": "791fb07d-2803-4c3d-8db4-204d64521865",
   "metadata": {},
   "source": [
    "## Demo 1: Grover revisited"
   ]
  },
  {
   "cell_type": "markdown",
   "id": "5c121611-2b94-45aa-a26b-7714cac76da9",
   "metadata": {},
   "source": [
    "<img src=\"fig/grover_full.png\" width=\"500px\">"
   ]
  },
  {
   "cell_type": "code",
   "execution_count": 3,
   "id": "0d81ad90-59d0-4d82-a02b-a80c60f43895",
   "metadata": {},
   "outputs": [
    {
     "name": "stderr",
     "output_type": "stream",
     "text": [
      "/opt/conda/envs/pennylane/lib/python3.8/site-packages/_distutils_hack/__init__.py:30: UserWarning: Setuptools is replacing distutils.\n",
      "  warnings.warn(\"Setuptools is replacing distutils.\")\n"
     ]
    }
   ],
   "source": [
    "import pennylane as qml\n",
    "import numpy as np"
   ]
  },
  {
   "cell_type": "code",
   "execution_count": 6,
   "id": "576f3ec5-0d68-40b4-8d29-e9e69c0d6184",
   "metadata": {},
   "outputs": [],
   "source": [
    "n_bits = 4\n",
    "dev = qml.device('default.qubit', wires=5)\n",
    "\n",
    "special_string = '1001'\n",
    "\n",
    "def hadamard_transform(wires=None):\n",
    "    for wire in wires:\n",
    "        qml.Hadamard(wires=wire)\n",
    "        \n",
    "        \n",
    "def oracle():\n",
    "    qml.MultiControlledX(control_wires=range(n_bits), wires=n_bits, control_values=special_string)    \n",
    "    \n",
    "    \n",
    "def diffusion():\n",
    "    hadamard_transform(wires=range(n_bits))\n",
    "    qml.MultiControlledX(control_wires=range(n_bits), wires=n_bits, control_values='0'*n_bits)\n",
    "    hadamard_transform(wires=range(n_bits))\n",
    "\n",
    "\n",
    "@qml.qnode(dev)\n",
    "def grover(num_steps=1):\n",
    "    qml.PauliX(wires=n_bits)\n",
    "    \n",
    "    hadamard_transform(wires=dev.wires)\n",
    "    \n",
    "    for _ in range(num_steps):\n",
    "        oracle()\n",
    "        diffusion()\n",
    "        \n",
    "    return qml.probs(wires=range(n_bits))"
   ]
  },
  {
   "cell_type": "code",
   "execution_count": 7,
   "id": "d7f7c5e0-604d-4b6f-ae80-dd4e519002d7",
   "metadata": {},
   "outputs": [],
   "source": [
    "import matplotlib.pyplot as plt"
   ]
  },
  {
   "cell_type": "code",
   "execution_count": 11,
   "id": "900ddbeb-38d5-42c1-a552-cf3ec8ef1431",
   "metadata": {},
   "outputs": [
    {
     "data": {
      "text/plain": [
       "<BarContainer object of 16 artists>"
      ]
     },
     "execution_count": 11,
     "metadata": {},
     "output_type": "execute_result"
    },
    {
     "data": {
      "image/png": "[encoded data removed]",
      "text/plain": [
       "<Figure size 432x288 with 1 Axes>"
      ]
     },
     "metadata": {
      "needs_background": "light"
     },
     "output_type": "display_data"
    }
   ],
   "source": [
    "plt.bar(range(2 ** n_bits), grover(num_steps=4))"
   ]
  },
  {
   "cell_type": "code",
   "execution_count": 14,
   "id": "22025454-acc6-4ede-85e2-aed61360b5fb",
   "metadata": {},
   "outputs": [
    {
     "data": {
      "text/plain": [
       "3.141592653589793"
      ]
     },
     "execution_count": 14,
     "metadata": {},
     "output_type": "execute_result"
    }
   ],
   "source": [
    "(np.pi/4) * np.sqrt(2 ** n_bits)"
   ]
  },
  {
   "cell_type": "markdown",
   "id": "75f9a261-3981-47fa-be5b-01286eb535da",
   "metadata": {},
   "source": [
    "## Demo 2: `qml.specs`"
   ]
  },
  {
   "cell_type": "code",
   "execution_count": 15,
   "id": "b5b96c3d-d4c5-4c6b-8176-c335e3b5d85f",
   "metadata": {},
   "outputs": [],
   "source": [
    "n_bits = 3\n",
    "n_aux_wires = 2\n",
    "\n",
    "dev = qml.device('default.qubit', wires=n_bits+1+n_aux_wires)"
   ]
  },
  {
   "cell_type": "code",
   "execution_count": 29,
   "id": "a48ef7b2-9c2a-4b5e-a5e9-09dc93898b19",
   "metadata": {},
   "outputs": [],
   "source": [
    "special_string = '101'\n",
    "\n",
    "def oracle():\n",
    "    qml.MultiControlledX(control_wires=range(n_bits), wires=n_bits, control_values=special_string)    \n",
    "    \n",
    "    \n",
    "def diffusion():\n",
    "    hadamard_transform(wires=range(n_bits))\n",
    "    qml.MultiControlledX(control_wires=range(n_bits), wires=n_bits, control_values='0'*n_bits)\n",
    "    hadamard_transform(wires=range(n_bits))\n",
    "\n",
    "\n",
    "@qml.qnode(dev)\n",
    "def grover(num_steps=1):\n",
    "    qml.PauliX(wires=n_bits)\n",
    "    \n",
    "    hadamard_transform(wires=range(n_bits+1))\n",
    "    \n",
    "    for _ in range(num_steps):\n",
    "        oracle()\n",
    "        diffusion()\n",
    "        \n",
    "    return qml.probs(wires=range(n_bits))"
   ]
  },
  {
   "cell_type": "code",
   "execution_count": 30,
   "id": "8c46c961-65ec-4ae8-b5b8-4a3ec06437f9",
   "metadata": {},
   "outputs": [
    {
     "name": "stdout",
     "output_type": "stream",
     "text": [
      " 0: ──H─────╭C──H──╭C──H──╭C──H──╭C──H──╭┤ Probs \n",
      " 1: ──H─────├C──H──├C──H──├C──H──├C──H──├┤ Probs \n",
      " 2: ──H─────├C──H──├C──H──├C──H──├C──H──╰┤ Probs \n",
      " 3: ──X──H──╰X─────╰X─────╰X─────╰X──────┤       \n",
      "\n"
     ]
    }
   ],
   "source": [
    "print(qml.draw(grover)(num_steps=2))"
   ]
  },
  {
   "cell_type": "code",
   "execution_count": 21,
   "id": "5dfcc04c-1425-49ee-982f-538ac1554c89",
   "metadata": {},
   "outputs": [],
   "source": [
    "from pprint import pprint "
   ]
  },
  {
   "cell_type": "code",
   "execution_count": 22,
   "id": "83ae2878-f100-4697-9f3a-20048d201eee",
   "metadata": {},
   "outputs": [
    {
     "name": "stdout",
     "output_type": "stream",
     "text": [
      "{'depth': 10,\n",
      " 'device_name': 'default.qubit.autograd',\n",
      " 'diff_method': 'best',\n",
      " 'expansion_strategy': 'gradient',\n",
      " 'gate_sizes': defaultdict(<class 'int'>, {1: 19, 4: 4}),\n",
      " 'gate_types': defaultdict(<class 'int'>,\n",
      "                           {'Hadamard': 18,\n",
      "                            'MultiControlledX': 4,\n",
      "                            'PauliX': 1}),\n",
      " 'gradient_fn': 'backprop',\n",
      " 'gradient_options': {},\n",
      " 'interface': 'autograd',\n",
      " 'num_device_wires': 6,\n",
      " 'num_diagonalizing_gates': 0,\n",
      " 'num_observables': 1,\n",
      " 'num_operations': 23,\n",
      " 'num_trainable_params': 0,\n",
      " 'num_used_wires': 6}\n"
     ]
    }
   ],
   "source": [
    "pprint(qml.specs(grover)(num_steps=2))"
   ]
  },
  {
   "cell_type": "code",
   "execution_count": 24,
   "id": "4394e9c2-7178-4e88-adec-0504157cae16",
   "metadata": {},
   "outputs": [],
   "source": [
    "dev.operations.remove('MultiControlledX')"
   ]
  },
  {
   "cell_type": "code",
   "execution_count": 31,
   "id": "35aad885-ce9e-4a63-a708-5b03ab9f5586",
   "metadata": {},
   "outputs": [],
   "source": [
    "special_string = '101'\n",
    "\n",
    "def oracle():\n",
    "    qml.MultiControlledX(\n",
    "        control_wires=range(n_bits), \n",
    "        wires=n_bits, \n",
    "        control_values=special_string,\n",
    "        work_wires=[4, 5]\n",
    "    )    \n",
    "    \n",
    "    \n",
    "def diffusion():\n",
    "    hadamard_transform(wires=range(n_bits))\n",
    "    qml.MultiControlledX(\n",
    "        control_wires=range(n_bits), \n",
    "        wires=n_bits, \n",
    "        control_values='0'*n_bits,\n",
    "        work_wires=[4, 5]\n",
    "    )\n",
    "    hadamard_transform(wires=range(n_bits))\n",
    "\n",
    "\n",
    "@qml.qnode(dev)\n",
    "def grover(num_steps=1):\n",
    "    qml.PauliX(wires=n_bits)\n",
    "    \n",
    "    hadamard_transform(wires=range(n_bits+1))\n",
    "    \n",
    "    for _ in range(num_steps):\n",
    "        oracle()\n",
    "        diffusion()\n",
    "        \n",
    "    return qml.probs(wires=range(n_bits))"
   ]
  },
  {
   "cell_type": "code",
   "execution_count": 33,
   "id": "63ad7846-3711-4055-9c2a-1d1ca24e0461",
   "metadata": {},
   "outputs": [
    {
     "name": "stdout",
     "output_type": "stream",
     "text": [
      " 0: ──H─────────╭C─────────╭C──H───X─────╭C─────────╭C──X───H─────╭C─────────╭C──H───X─────╭C─────────╭C──X──H──╭┤ Probs \n",
      " 1: ──H──X──────├C─────────├C──X───H──X──├C─────────├C──X───H──X──├C─────────├C──X───H──X──├C─────────├C──X──H──├┤ Probs \n",
      " 2: ──H─────╭C──│───╭C──H──│───X──╭C─────│───╭C──X──│───H──╭C─────│───╭C──H──│───X──╭C─────│───╭C──X──│───H─────╰┤ Probs \n",
      " 3: ──X──H──├X──│───├X─────│──────├X─────│───├X─────│──────├X─────│───├X─────│──────├X─────│───├X─────│──────────┤       \n",
      " 4: ────────╰C──╰X──╰C─────╰X─────╰C─────╰X──╰C─────╰X─────╰C─────╰X──╰C─────╰X─────╰C─────╰X──╰C─────╰X─────────┤       \n",
      "\n"
     ]
    }
   ],
   "source": [
    "print(qml.draw(grover, expansion_strategy='device')(num_steps=2))"
   ]
  },
  {
   "cell_type": "code",
   "execution_count": 34,
   "id": "dec6096d-e5e2-42c7-b627-5cbb6c96eb69",
   "metadata": {},
   "outputs": [],
   "source": [
    "dev.operations.remove('Toffoli')"
   ]
  },
  {
   "cell_type": "code",
   "execution_count": 36,
   "id": "6ab6d1e7-9b9b-40ad-8d7e-2f1a3b222925",
   "metadata": {},
   "outputs": [
    {
     "name": "stdout",
     "output_type": "stream",
     "text": [
      " 0: ──H────────────────────────────────────────────────────────────────────╭C──────────────╭C──╭C──T────╭C─────────────────────────────────────────────────────────────╭C──────────────╭C──╭C──T────╭C──H─────X─────────────────────────────────────────────────╭C──────────────╭C──╭C──T────╭C──────────────────────────────────────────────────────────╭C──────────────╭C──╭C──T────╭C──X──H──╭┤ Probs \n",
      " 1: ──H──X────────────────────────────────────────────────────────╭C───────│──────╭C──T────│───╰X──T⁻¹──╰X────────────────────────────────────────────────────╭C───────│──────╭C──T────│───╰X──T⁻¹──╰X──X─────H──X─────────────────────────────────────╭C───────│──────╭C──T────│───╰X──T⁻¹──╰X─────────────────────────────────────────────────╭C───────│──────╭C──T────│───╰X──T⁻¹──╰X──X──H──├┤ Probs \n",
      " 2: ──H─────────────────╭C──────────────╭C─────╭C──T───────╭C─────│────────│──────│────────│─────────────────────╭C──────────────╭C─────╭C──T───────╭C──H──X──│────────│──────│────────│─────────────────────╭C──────────────╭C─────╭C──T───────╭C─────│────────│──────│────────│─────────────────────╭C──────────────╭C─────╭C──T────╭C──X──H──│────────│──────│────────│──────────────────────╰┤ Probs \n",
      " 3: ──X──H──H──╭X──T⁻¹──╰X──T──╭X──T⁻¹──╰X──T──│───H────H──│──────│────────│──────│────────│────────────╭X──T⁻¹──╰X──T──╭X──T⁻¹──╰X──T──│───H────H──│─────────│────────│──────│────────│────────────╭X──T⁻¹──╰X──T──╭X──T⁻¹──╰X──T──│───H────H──│──────│────────│──────│────────│────────────╭X──T⁻¹──╰X──T──╭X──T⁻¹──╰X──T──│───H────│─────────│────────│──────│────────│───────────────────────┤       \n",
      " 4: ───────────╰C──────────────╰C──T───────────╰X──T⁻¹─────╰X──H──╰X──T⁻¹──╰X──T──╰X──T⁻¹──╰X───T──H────╰C──────────────╰C──T───────────╰X──T⁻¹─────╰X──H─────╰X──T⁻¹──╰X──T──╰X──T⁻¹──╰X───T──H────╰C──────────────╰C──T───────────╰X──T⁻¹─────╰X──H──╰X──T⁻¹──╰X──T──╰X──T⁻¹──╰X───T──H────╰C──────────────╰C──T───────────╰X──T⁻¹──╰X──H─────╰X──T⁻¹──╰X──T──╰X──T⁻¹──╰X───T──H───────────────┤       \n",
      "\n"
     ]
    }
   ],
   "source": [
    "print(qml.draw(grover, expansion_strategy='device')(num_steps=1))"
   ]
  },
  {
   "cell_type": "code",
   "execution_count": 37,
   "id": "0313471f-cc34-4520-b610-9d438f45f4df",
   "metadata": {},
   "outputs": [
    {
     "name": "stdout",
     "output_type": "stream",
     "text": [
      "{'gate_sizes': defaultdict(<class 'int'>, {1: 11, 4: 2}), 'gate_types': defaultdict(<class 'int'>, {'PauliX': 1, 'Hadamard': 10, 'MultiControlledX': 2}), 'num_operations': 13, 'num_observables': 1, 'num_diagonalizing_gates': 0, 'num_used_wires': 4, 'depth': 6, 'num_trainable_params': 0, 'num_device_wires': 6, 'device_name': 'default.qubit.autograd', 'expansion_strategy': 'gradient', 'gradient_options': {}, 'interface': 'autograd', 'diff_method': 'best', 'gradient_fn': 'backprop'}\n"
     ]
    }
   ],
   "source": [
    "print(qml.specs(grover, max_expansion=8)(num_steps=1))"
   ]
  },
  {
   "cell_type": "code",
   "execution_count": 42,
   "id": "1cbebf47-f2c3-407d-936a-26736756c927",
   "metadata": {},
   "outputs": [
    {
     "data": {
      "text/plain": [
       "tensor([0.0078125, 0.0078125, 0.0078125, 0.0078125, 0.0078125, 0.9453125,\n",
       "        0.0078125, 0.0078125], requires_grad=True)"
      ]
     },
     "execution_count": 42,
     "metadata": {},
     "output_type": "execute_result"
    }
   ],
   "source": [
    "grover(num_steps=2)"
   ]
  },
  {
   "cell_type": "code",
   "execution_count": 43,
   "id": "303133e4-4026-4c29-954b-592638fe73c3",
   "metadata": {},
   "outputs": [],
   "source": [
    "g = qml.CircuitGraph(grover.qtape.operations, grover.qtape.measurements, wires=dev.wires)"
   ]
  },
  {
   "cell_type": "code",
   "execution_count": 45,
   "id": "3dec2b36-2b4c-4c7d-836b-cd0ce24e5184",
   "metadata": {},
   "outputs": [
    {
     "data": {
      "text/plain": [
       "[PauliX(wires=[3]),\n",
       " Hadamard(wires=[0]),\n",
       " Hadamard(wires=[1]),\n",
       " Hadamard(wires=[2]),\n",
       " Hadamard(wires=[3]),\n",
       " MultiControlledX(wires=[0, 1, 2, 3]),\n",
       " Hadamard(wires=[0]),\n",
       " Hadamard(wires=[1]),\n",
       " Hadamard(wires=[2]),\n",
       " MultiControlledX(wires=[0, 1, 2, 3]),\n",
       " Hadamard(wires=[0]),\n",
       " Hadamard(wires=[1]),\n",
       " Hadamard(wires=[2]),\n",
       " MultiControlledX(wires=[0, 1, 2, 3]),\n",
       " Hadamard(wires=[0]),\n",
       " Hadamard(wires=[1]),\n",
       " Hadamard(wires=[2]),\n",
       " MultiControlledX(wires=[0, 1, 2, 3]),\n",
       " Hadamard(wires=[0]),\n",
       " Hadamard(wires=[1]),\n",
       " Hadamard(wires=[2])]"
      ]
     },
     "execution_count": 45,
     "metadata": {},
     "output_type": "execute_result"
    }
   ],
   "source": [
    "grover.qtape.operations"
   ]
  },
  {
   "cell_type": "code",
   "execution_count": 44,
   "id": "5416c5f0-497e-4d3f-a108-883dfa6016ec",
   "metadata": {},
   "outputs": [
    {
     "data": {
      "text/plain": [
       "10"
      ]
     },
     "execution_count": 44,
     "metadata": {},
     "output_type": "execute_result"
    }
   ],
   "source": [
    "g.get_depth()"
   ]
  },
  {
   "cell_type": "code",
   "execution_count": null,
   "id": "3c7b7c64-f375-4ef5-89b5-9a1772adcb60",
   "metadata": {},
   "outputs": [],
   "source": []
  }
 ],
 "metadata": {
  "kernelspec": {
   "display_name": "PennyLane",
   "language": "python",
   "name": "pennylane"
  },
  "language_info": {
   "codemirror_mode": {
    "name": "ipython",
    "version": 3
   },
   "file_extension": ".py",
   "mimetype": "text/x-python",
   "name": "python",
   "nbconvert_exporter": "python",
   "pygments_lexer": "ipython3",
   "version": "3.8.12"
  }
 },
 "nbformat": 4,
 "nbformat_minor": 5
}
