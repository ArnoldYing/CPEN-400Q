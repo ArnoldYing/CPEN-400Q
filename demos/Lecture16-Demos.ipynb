{
 "cells": [
  {
   "cell_type": "markdown",
   "id": "e530df96-e795-4dba-86ff-7f969d436c0f",
   "metadata": {},
   "source": [
    "# Demos: Lecture 16"
   ]
  },
  {
   "cell_type": "markdown",
   "id": "7c68ced6-090d-4913-a4f1-cbc351003a36",
   "metadata": {},
   "source": [
    "## Demo 1: quiz 7 solution\n"
   ]
  },
  {
   "cell_type": "markdown",
   "id": "9ffc52ba-db6b-45a9-9f63-c79fb4f0606b",
   "metadata": {},
   "source": [
    "<img src=\"fig/quiz_7_hamiltonian.png\" width=\"450px\"> "
   ]
  },
  {
   "cell_type": "code",
   "execution_count": 1,
   "id": "3395383a-5837-411b-9005-ebcb2860511f",
   "metadata": {},
   "outputs": [
    {
     "name": "stderr",
     "output_type": "stream",
     "text": [
      "/opt/conda/envs/pennylane/lib/python3.8/site-packages/_distutils_hack/__init__.py:30: UserWarning: Setuptools is replacing distutils.\n",
      "  warnings.warn(\"Setuptools is replacing distutils.\")\n"
     ]
    }
   ],
   "source": [
    "import pennylane as qml\n",
    "from pennylane import numpy as np"
   ]
  },
  {
   "cell_type": "code",
   "execution_count": 2,
   "id": "5524e183-96ac-47af-9e52-ba8862d3eeb3",
   "metadata": {},
   "outputs": [],
   "source": [
    "coeffs = [1, 2, 3, -1, -2, -3]\n",
    "\n",
    "obs = [\n",
    "    qml.PauliX(0) @ qml.PauliX(1),\n",
    "    qml.PauliX(1) @ qml.PauliX(2),\n",
    "    qml.PauliX(0) @ qml.PauliX(2),\n",
    "    qml.PauliZ(0),\n",
    "    qml.PauliZ(1),\n",
    "    qml.PauliZ(2)\n",
    "]\n",
    "\n",
    "H = qml.Hamiltonian(coeffs, obs)"
   ]
  },
  {
   "cell_type": "code",
   "execution_count": 3,
   "id": "6cbc9dd5-16f2-4788-9a50-d8cb8924eb85",
   "metadata": {},
   "outputs": [
    {
     "name": "stdout",
     "output_type": "stream",
     "text": [
      "  (-3) [Z2]\n",
      "+ (-2) [Z1]\n",
      "+ (-1) [Z0]\n",
      "+ (1) [X0 X1]\n",
      "+ (2) [X1 X2]\n",
      "+ (3) [X0 X2]\n"
     ]
    }
   ],
   "source": [
    "print(H)"
   ]
  },
  {
   "cell_type": "code",
   "execution_count": 6,
   "id": "d153b37d-1869-44b2-9290-af8bd4a986a3",
   "metadata": {},
   "outputs": [],
   "source": [
    "mat = np.zeros((8, 8))\n",
    "\n",
    "for coeff, ob in zip(coeffs, obs):\n",
    "    mat += coeff * qml.grouping.pauli_word_to_matrix(ob, wire_map={0:0, 1:1, 2:2})"
   ]
  },
  {
   "cell_type": "code",
   "execution_count": 7,
   "id": "55698210-a2cf-42cd-a232-dccd02e14941",
   "metadata": {},
   "outputs": [
    {
     "data": {
      "text/plain": [
       "tensor([[-6.,  0.,  0.,  2.,  0.,  3.,  1.,  0.],\n",
       "        [ 0.,  0.,  2.,  0.,  3.,  0.,  0.,  1.],\n",
       "        [ 0.,  2., -2.,  0.,  1.,  0.,  0.,  3.],\n",
       "        [ 2.,  0.,  0.,  4.,  0.,  1.,  3.,  0.],\n",
       "        [ 0.,  3.,  1.,  0., -4.,  0.,  0.,  2.],\n",
       "        [ 3.,  0.,  0.,  1.,  0.,  2.,  2.,  0.],\n",
       "        [ 1.,  0.,  0.,  3.,  0.,  2.,  0.,  0.],\n",
       "        [ 0.,  1.,  3.,  0.,  2.,  0.,  0.,  6.]], requires_grad=True)"
      ]
     },
     "execution_count": 7,
     "metadata": {},
     "output_type": "execute_result"
    }
   ],
   "source": [
    "mat"
   ]
  },
  {
   "cell_type": "code",
   "execution_count": 8,
   "id": "c06dc62b-4369-4cf7-a8bc-6fc3d242f380",
   "metadata": {},
   "outputs": [],
   "source": [
    "eigvals, eigvecs = np.linalg.eigh(mat)"
   ]
  },
  {
   "cell_type": "code",
   "execution_count": 9,
   "id": "28406822-d882-49b3-9992-b5387b4ec28e",
   "metadata": {},
   "outputs": [
    {
     "data": {
      "text/plain": [
       "array([-7.22832701, -5.79730808, -3.46850938, -1.93682438,  1.20997322,\n",
       "        1.93682438,  7.22832701,  8.05584425])"
      ]
     },
     "execution_count": 9,
     "metadata": {},
     "output_type": "execute_result"
    }
   ],
   "source": [
    "eigvals"
   ]
  },
  {
   "cell_type": "code",
   "execution_count": 10,
   "id": "4dbaaef5-f825-4910-a70c-a87921577f66",
   "metadata": {},
   "outputs": [
    {
     "data": {
      "text/plain": [
       "tensor([-9.44761428e-01, -5.55111512e-17,  1.38777878e-17,\n",
       "         1.44992997e-01,  5.06342000e-17,  2.93746984e-01,\n",
       "        -1.07509707e-02, -5.66319226e-18], requires_grad=True)"
      ]
     },
     "execution_count": 10,
     "metadata": {},
     "output_type": "execute_result"
    }
   ],
   "source": [
    "eigvecs[:, 0]"
   ]
  },
  {
   "cell_type": "markdown",
   "id": "9f674f42-f7f9-4b21-bd7a-1c7e83b0172e",
   "metadata": {},
   "source": [
    "<img src=\"fig/quiz_7_circuit.png\" width=\"450px\"> "
   ]
  },
  {
   "cell_type": "code",
   "execution_count": 11,
   "id": "6bc96667-1a2f-4bbb-8951-5f0a040a77d4",
   "metadata": {},
   "outputs": [],
   "source": [
    "dev = qml.device('default.qubit', wires=3)\n",
    "\n",
    "def ansatz(theta):\n",
    "    qml.RY(theta[0], wires=0)\n",
    "    qml.CNOT(wires=[0, 1])\n",
    "    qml.CRY(theta[1], wires=[1, 2])\n",
    "    qml.CNOT(wires=[2, 1])\n",
    "    qml.CRY(theta[2], wires=[2, 1])\n",
    "    qml.Toffoli(wires=[2, 1, 0])\n",
    "    return qml.expval(H)"
   ]
  },
  {
   "cell_type": "code",
   "execution_count": 18,
   "id": "eb6e8da4-ec4d-4202-9040-df56d3c625f0",
   "metadata": {},
   "outputs": [],
   "source": [
    "qnode = qml.QNode(ansatz, dev)\n",
    "\n",
    "theta = np.array([0.0, 0.0, 0.0])"
   ]
  },
  {
   "cell_type": "code",
   "execution_count": 20,
   "id": "377c653a-df48-486c-bb64-dae9a0f8ffdf",
   "metadata": {},
   "outputs": [],
   "source": [
    "opt = qml.GradientDescentOptimizer(stepsize=0.05)\n",
    "\n",
    "for _ in range(250):\n",
    "    theta = opt.step(qnode, theta)"
   ]
  },
  {
   "cell_type": "code",
   "execution_count": 21,
   "id": "c933daa7-e98f-44a5-8dd2-5c6919c305a7",
   "metadata": {},
   "outputs": [
    {
     "data": {
      "text/plain": [
       "tensor([-0.65149475,  3.01999151,  0.85866189], requires_grad=True)"
      ]
     },
     "execution_count": 21,
     "metadata": {},
     "output_type": "execute_result"
    }
   ],
   "source": [
    "theta"
   ]
  },
  {
   "cell_type": "code",
   "execution_count": 22,
   "id": "417ecfa0-301c-44a4-97b1-1375b022bb1f",
   "metadata": {},
   "outputs": [
    {
     "data": {
      "text/plain": [
       "tensor(-7.22248127, requires_grad=True)"
      ]
     },
     "execution_count": 22,
     "metadata": {},
     "output_type": "execute_result"
    }
   ],
   "source": [
    "qnode(theta)"
   ]
  },
  {
   "cell_type": "markdown",
   "id": "aad80fcd-9731-48be-b07a-35c064cc9464",
   "metadata": {},
   "source": [
    "## Demo 2: bit flip errors"
   ]
  },
  {
   "cell_type": "code",
   "execution_count": null,
   "id": "2d8ba658-efef-45ca-8ea8-5ea6f12a6831",
   "metadata": {},
   "outputs": [],
   "source": [
    "from lecture16_helpers import *\n",
    "from scipy.stats import unitary_group"
   ]
  },
  {
   "cell_type": "code",
   "execution_count": null,
   "id": "9df26be1-944f-49c7-93bf-e2dae4a5fa64",
   "metadata": {},
   "outputs": [],
   "source": []
  },
  {
   "cell_type": "code",
   "execution_count": null,
   "id": "bd1cf585-8dd4-4b95-bc5d-4e9bff4858e9",
   "metadata": {},
   "outputs": [],
   "source": []
  },
  {
   "cell_type": "code",
   "execution_count": null,
   "id": "d9a126d1-206b-4bf7-9204-897514024688",
   "metadata": {},
   "outputs": [],
   "source": []
  },
  {
   "cell_type": "code",
   "execution_count": null,
   "id": "252c870e-35c3-4998-b60b-f10d3a65441f",
   "metadata": {},
   "outputs": [],
   "source": []
  },
  {
   "cell_type": "code",
   "execution_count": null,
   "id": "13fe82cd-2508-40d8-b957-423b97a1b316",
   "metadata": {},
   "outputs": [],
   "source": []
  },
  {
   "cell_type": "code",
   "execution_count": null,
   "id": "1df064ab-fbe6-499b-950e-0814ba1fd147",
   "metadata": {},
   "outputs": [],
   "source": []
  },
  {
   "cell_type": "code",
   "execution_count": null,
   "id": "46ff4504-0740-49c0-9354-803a8f774f95",
   "metadata": {},
   "outputs": [],
   "source": []
  },
  {
   "cell_type": "code",
   "execution_count": null,
   "id": "4cbe9137-82bd-4bc0-b3a1-7bcd64d7dad0",
   "metadata": {},
   "outputs": [],
   "source": []
  },
  {
   "cell_type": "code",
   "execution_count": null,
   "id": "8df7e367-954c-401b-80e6-b5edb871f9f1",
   "metadata": {},
   "outputs": [],
   "source": []
  },
  {
   "cell_type": "code",
   "execution_count": null,
   "id": "5d63f1f7-d58c-4f6e-8267-3954f4445f4f",
   "metadata": {},
   "outputs": [],
   "source": []
  },
  {
   "cell_type": "code",
   "execution_count": null,
   "id": "acab177c-9351-4c86-a1f7-9e86e6924a95",
   "metadata": {},
   "outputs": [],
   "source": []
  },
  {
   "cell_type": "code",
   "execution_count": null,
   "id": "fff075ce-7ef8-49e8-8fff-a6d3803bf5c0",
   "metadata": {},
   "outputs": [],
   "source": []
  },
  {
   "cell_type": "markdown",
   "id": "98a89d7d-b0da-45fe-9f7d-e312b5992087",
   "metadata": {},
   "source": [
    "## Demo 3: depolarizing noise"
   ]
  },
  {
   "cell_type": "code",
   "execution_count": null,
   "id": "5b26563b-26cc-4221-b82b-aec70c3dac46",
   "metadata": {},
   "outputs": [],
   "source": []
  },
  {
   "cell_type": "code",
   "execution_count": null,
   "id": "43ef0797-d331-4064-9d7a-b54317207404",
   "metadata": {},
   "outputs": [],
   "source": []
  },
  {
   "cell_type": "code",
   "execution_count": null,
   "id": "b7bf8494-4e68-4852-95e7-4f0b0d24e958",
   "metadata": {},
   "outputs": [],
   "source": []
  },
  {
   "cell_type": "code",
   "execution_count": null,
   "id": "aac56874-ac80-447b-947b-4992254a3ab8",
   "metadata": {},
   "outputs": [],
   "source": []
  },
  {
   "cell_type": "code",
   "execution_count": null,
   "id": "9fdd6158-7615-443c-bab7-93590424405b",
   "metadata": {},
   "outputs": [],
   "source": []
  },
  {
   "cell_type": "code",
   "execution_count": null,
   "id": "76e0e41f-bdf6-4381-87b4-72a404f3536c",
   "metadata": {},
   "outputs": [],
   "source": []
  },
  {
   "cell_type": "code",
   "execution_count": null,
   "id": "3676b1c3-dacd-41b0-aadf-f8525eaa45a2",
   "metadata": {},
   "outputs": [],
   "source": []
  },
  {
   "cell_type": "code",
   "execution_count": null,
   "id": "4cb1b2ce-b9fe-4798-be91-180b3456d1ba",
   "metadata": {},
   "outputs": [],
   "source": []
  },
  {
   "cell_type": "code",
   "execution_count": null,
   "id": "f52ea742-77ac-4ea2-be8e-fe595a5e1e0e",
   "metadata": {},
   "outputs": [],
   "source": []
  }
 ],
 "metadata": {
  "kernelspec": {
   "display_name": "PennyLane",
   "language": "python",
   "name": "pennylane"
  },
  "language_info": {
   "codemirror_mode": {
    "name": "ipython",
    "version": 3
   },
   "file_extension": ".py",
   "mimetype": "text/x-python",
   "name": "python",
   "nbconvert_exporter": "python",
   "pygments_lexer": "ipython3",
   "version": "3.8.12"
  }
 },
 "nbformat": 4,
 "nbformat_minor": 5
}
